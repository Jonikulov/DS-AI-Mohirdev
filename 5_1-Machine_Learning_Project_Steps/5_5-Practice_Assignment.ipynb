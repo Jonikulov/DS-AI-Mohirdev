{
 "cells": [
  {
   "cell_type": "markdown",
   "id": "92ab4f7b",
   "metadata": {
    "id": "92ab4f7b"
   },
   "source": [
    "---\n",
    "# Data Science and Artificial Intelliegence Practicum\n",
    "## 5-modul. Machine Learning\n",
    "---"
   ]
  },
  {
   "cell_type": "markdown",
   "id": "557f143a",
   "metadata": {
    "id": "557f143a"
   },
   "source": [
    "## 5.5 - Predicting house prices in Tashkent.\n",
    "\n",
    "---\n",
    "**CRISP-DM:**\n",
    "<img src=\"https://i.imgur.com/dzZnnYi.png\" alt=\"CRISP-DM\" width=\"800\"/>\n",
    "\n",
    "---\n",
    "\n",
    "**STEPS:**\n",
    "1. Data Exploration\n",
    "  1. Data Understanding\n",
    "  2. Data Cleaning\n",
    "  3. Analyzing Data\n",
    "  4. Data Preparation\n",
    "5. Pipeline for Feature Engineering\n",
    "6. Modeling / Machine Learning\n",
    "7. Evaluation\n",
    "8. Saving the Model"
   ]
  },
  {
   "cell_type": "code",
   "execution_count": 1,
   "id": "640a81e0",
   "metadata": {},
   "outputs": [],
   "source": [
    "# Importing Libraries\n",
    "\n",
    "import numpy as np\n",
    "import pandas as pd\n",
    "import matplotlib.pyplot as plt\n",
    "import seaborn as sns\n",
    "\n",
    "from sklearn.impute import SimpleImputer\n",
    "from sklearn.preprocessing import MinMaxScaler, OneHotEncoder, StandardScaler\n",
    "from sklearn.model_selection import train_test_split, cross_val_score\n",
    "from sklearn.base import BaseEstimator, TransformerMixin\n",
    "from sklearn.pipeline import Pipeline, make_pipeline\n",
    "from sklearn.compose import ColumnTransformer, make_column_transformer, make_column_selector\n",
    "\n",
    "from sklearn.linear_model import LinearRegression\n",
    "from sklearn.tree import DecisionTreeRegressor\n",
    "from sklearn.ensemble import RandomForestRegressor\n",
    "from sklearn.metrics import mean_absolute_error, mean_squared_error"
   ]
  },
  {
   "cell_type": "code",
   "execution_count": 19,
   "id": "721afa6d",
   "metadata": {
    "colab": {
     "base_uri": "https://localhost:8080/",
     "height": 424
    },
    "executionInfo": {
     "elapsed": 2001,
     "status": "ok",
     "timestamp": 1673697276343,
     "user": {
      "displayName": "Javohir Joniqulov",
      "userId": "15358722746631597524"
     },
     "user_tz": -300
    },
    "id": "721afa6d",
    "outputId": "0814efff-9f14-4886-8640-87d7263e6a69"
   },
   "outputs": [
    {
     "data": {
      "text/html": [
       "<div>\n",
       "<style scoped>\n",
       "    .dataframe tbody tr th:only-of-type {\n",
       "        vertical-align: middle;\n",
       "    }\n",
       "\n",
       "    .dataframe tbody tr th {\n",
       "        vertical-align: top;\n",
       "    }\n",
       "\n",
       "    .dataframe thead th {\n",
       "        text-align: right;\n",
       "    }\n",
       "</style>\n",
       "<table border=\"1\" class=\"dataframe\">\n",
       "  <thead>\n",
       "    <tr style=\"text-align: right;\">\n",
       "      <th></th>\n",
       "      <th>location</th>\n",
       "      <th>district</th>\n",
       "      <th>rooms</th>\n",
       "      <th>size</th>\n",
       "      <th>level</th>\n",
       "      <th>max_levels</th>\n",
       "      <th>price</th>\n",
       "    </tr>\n",
       "  </thead>\n",
       "  <tbody>\n",
       "    <tr>\n",
       "      <th>0</th>\n",
       "      <td>город Ташкент, Юнусабадский район, Юнусабад 8-...</td>\n",
       "      <td>Юнусабадский</td>\n",
       "      <td>3</td>\n",
       "      <td>57</td>\n",
       "      <td>4</td>\n",
       "      <td>4</td>\n",
       "      <td>52000</td>\n",
       "    </tr>\n",
       "    <tr>\n",
       "      <th>1</th>\n",
       "      <td>город Ташкент, Яккасарайский район, 1-й тупик ...</td>\n",
       "      <td>Яккасарайский</td>\n",
       "      <td>2</td>\n",
       "      <td>52</td>\n",
       "      <td>4</td>\n",
       "      <td>5</td>\n",
       "      <td>56000</td>\n",
       "    </tr>\n",
       "    <tr>\n",
       "      <th>2</th>\n",
       "      <td>город Ташкент, Чиланзарский район, Чиланзар 2-...</td>\n",
       "      <td>Чиланзарский</td>\n",
       "      <td>2</td>\n",
       "      <td>42</td>\n",
       "      <td>4</td>\n",
       "      <td>4</td>\n",
       "      <td>37000</td>\n",
       "    </tr>\n",
       "    <tr>\n",
       "      <th>3</th>\n",
       "      <td>город Ташкент, Чиланзарский район, Чиланзар 9-...</td>\n",
       "      <td>Чиланзарский</td>\n",
       "      <td>3</td>\n",
       "      <td>65</td>\n",
       "      <td>1</td>\n",
       "      <td>4</td>\n",
       "      <td>49500</td>\n",
       "    </tr>\n",
       "    <tr>\n",
       "      <th>4</th>\n",
       "      <td>город Ташкент, Чиланзарский район, площадь Актепа</td>\n",
       "      <td>Чиланзарский</td>\n",
       "      <td>3</td>\n",
       "      <td>70</td>\n",
       "      <td>3</td>\n",
       "      <td>5</td>\n",
       "      <td>55000</td>\n",
       "    </tr>\n",
       "    <tr>\n",
       "      <th>...</th>\n",
       "      <td>...</td>\n",
       "      <td>...</td>\n",
       "      <td>...</td>\n",
       "      <td>...</td>\n",
       "      <td>...</td>\n",
       "      <td>...</td>\n",
       "      <td>...</td>\n",
       "    </tr>\n",
       "    <tr>\n",
       "      <th>7560</th>\n",
       "      <td>город Ташкент, Яшнободский район, Городок Авиа...</td>\n",
       "      <td>Яшнободский</td>\n",
       "      <td>1</td>\n",
       "      <td>38</td>\n",
       "      <td>5</td>\n",
       "      <td>5</td>\n",
       "      <td>24500</td>\n",
       "    </tr>\n",
       "    <tr>\n",
       "      <th>7561</th>\n",
       "      <td>город Ташкент, Яшнободский район, 1-й проезд А...</td>\n",
       "      <td>Яшнободский</td>\n",
       "      <td>2</td>\n",
       "      <td>49</td>\n",
       "      <td>1</td>\n",
       "      <td>4</td>\n",
       "      <td>32000</td>\n",
       "    </tr>\n",
       "    <tr>\n",
       "      <th>7562</th>\n",
       "      <td>город Ташкент, Шайхантахурский район, Зульфиях...</td>\n",
       "      <td>Шайхантахурский</td>\n",
       "      <td>2</td>\n",
       "      <td>64</td>\n",
       "      <td>3</td>\n",
       "      <td>9</td>\n",
       "      <td>40000</td>\n",
       "    </tr>\n",
       "    <tr>\n",
       "      <th>7563</th>\n",
       "      <td>город Ташкент, Мирзо-Улугбекский район, Буюк И...</td>\n",
       "      <td>Мирзо-Улугбекский</td>\n",
       "      <td>1</td>\n",
       "      <td>18</td>\n",
       "      <td>1</td>\n",
       "      <td>4</td>\n",
       "      <td>11000</td>\n",
       "    </tr>\n",
       "    <tr>\n",
       "      <th>7564</th>\n",
       "      <td>город Ташкент, Чиланзарский район, Чиланзар 6-...</td>\n",
       "      <td>Чиланзарский</td>\n",
       "      <td>1</td>\n",
       "      <td>30</td>\n",
       "      <td>2</td>\n",
       "      <td>4</td>\n",
       "      <td>22914</td>\n",
       "    </tr>\n",
       "  </tbody>\n",
       "</table>\n",
       "<p>7565 rows × 7 columns</p>\n",
       "</div>"
      ],
      "text/plain": [
       "                                               location           district  \\\n",
       "0     город Ташкент, Юнусабадский район, Юнусабад 8-...       Юнусабадский   \n",
       "1     город Ташкент, Яккасарайский район, 1-й тупик ...      Яккасарайский   \n",
       "2     город Ташкент, Чиланзарский район, Чиланзар 2-...       Чиланзарский   \n",
       "3     город Ташкент, Чиланзарский район, Чиланзар 9-...       Чиланзарский   \n",
       "4     город Ташкент, Чиланзарский район, площадь Актепа       Чиланзарский   \n",
       "...                                                 ...                ...   \n",
       "7560  город Ташкент, Яшнободский район, Городок Авиа...        Яшнободский   \n",
       "7561  город Ташкент, Яшнободский район, 1-й проезд А...        Яшнободский   \n",
       "7562  город Ташкент, Шайхантахурский район, Зульфиях...    Шайхантахурский   \n",
       "7563  город Ташкент, Мирзо-Улугбекский район, Буюк И...  Мирзо-Улугбекский   \n",
       "7564  город Ташкент, Чиланзарский район, Чиланзар 6-...       Чиланзарский   \n",
       "\n",
       "      rooms size  level  max_levels  price  \n",
       "0         3   57      4           4  52000  \n",
       "1         2   52      4           5  56000  \n",
       "2         2   42      4           4  37000  \n",
       "3         3   65      1           4  49500  \n",
       "4         3   70      3           5  55000  \n",
       "...     ...  ...    ...         ...    ...  \n",
       "7560      1   38      5           5  24500  \n",
       "7561      2   49      1           4  32000  \n",
       "7562      2   64      3           9  40000  \n",
       "7563      1   18      1           4  11000  \n",
       "7564      1   30      2           4  22914  \n",
       "\n",
       "[7565 rows x 7 columns]"
      ]
     },
     "execution_count": 19,
     "metadata": {},
     "output_type": "execute_result"
    }
   ],
   "source": [
    "df = pd.read_csv(\"https://github.com/anvarnarz/praktikum_datasets/blob/main/housing_data_08-02-2021.csv?raw=True\")\n",
    "df"
   ]
  },
  {
   "cell_type": "markdown",
   "id": "c9f81923",
   "metadata": {
    "id": "c9f81923"
   },
   "source": [
    "### Definition of columns:\n",
    "\n",
    "- `location` - address of the house for sale\n",
    "- `district` - district where the house is located\n",
    "- `rooms` - number of rooms\n",
    "- `size` - house area (sq.m)\n",
    "- `level` - level(floor) where the house located\n",
    "- `max_levels` - total number of levels\n",
    "- `price` - price of the house"
   ]
  },
  {
   "cell_type": "markdown",
   "id": "78e2f97e",
   "metadata": {
    "id": "78e2f97e"
   },
   "source": [
    "### Data Exploration | Exploratory Data Analysis"
   ]
  },
  {
   "cell_type": "code",
   "execution_count": 20,
   "id": "f1aea332",
   "metadata": {
    "colab": {
     "base_uri": "https://localhost:8080/"
    },
    "executionInfo": {
     "elapsed": 330,
     "status": "ok",
     "timestamp": 1673697278059,
     "user": {
      "displayName": "Javohir Joniqulov",
      "userId": "15358722746631597524"
     },
     "user_tz": -300
    },
    "id": "f1aea332",
    "outputId": "7ebe4468-8495-4abc-ca13-89819a36e5cd"
   },
   "outputs": [
    {
     "name": "stdout",
     "output_type": "stream",
     "text": [
      "<class 'pandas.core.frame.DataFrame'>\n",
      "RangeIndex: 7565 entries, 0 to 7564\n",
      "Data columns (total 7 columns):\n",
      " #   Column      Non-Null Count  Dtype \n",
      "---  ------      --------------  ----- \n",
      " 0   location    7565 non-null   object\n",
      " 1   district    7565 non-null   object\n",
      " 2   rooms       7565 non-null   int64 \n",
      " 3   size        7565 non-null   object\n",
      " 4   level       7565 non-null   int64 \n",
      " 5   max_levels  7565 non-null   int64 \n",
      " 6   price       7565 non-null   object\n",
      "dtypes: int64(3), object(4)\n",
      "memory usage: 413.8+ KB\n"
     ]
    }
   ],
   "source": [
    "df.info()"
   ]
  },
  {
   "cell_type": "markdown",
   "id": "f8ee625a",
   "metadata": {
    "id": "f8ee625a"
   },
   "source": [
    "We can see that there are no `NaN` values in the dataset. However, despite the fact that `size` and `price` columns are numbers, their data type is `object`. First, we convert these columns to numeric values."
   ]
  },
  {
   "cell_type": "markdown",
   "id": "v0sYO5B2hVsh",
   "metadata": {
    "id": "v0sYO5B2hVsh"
   },
   "source": [
    "#### Data Cleaning"
   ]
  },
  {
   "cell_type": "code",
   "execution_count": 21,
   "id": "8f775ae9",
   "metadata": {
    "colab": {
     "base_uri": "https://localhost:8080/",
     "height": 304
    },
    "executionInfo": {
     "elapsed": 990,
     "status": "error",
     "timestamp": 1673691024812,
     "user": {
      "displayName": "Javohir Joniqulov",
      "userId": "15358722746631597524"
     },
     "user_tz": -300
    },
    "id": "8f775ae9",
    "outputId": "28e6e2b6-776f-4c4f-e6b7-8a5c45d03404"
   },
   "outputs": [
    {
     "ename": "ValueError",
     "evalue": "could not convert string to float: 'Площадьземли:1сот'",
     "output_type": "error",
     "traceback": [
      "\u001b[0;31m---------------------------------------------------------------------------\u001b[0m",
      "\u001b[0;31mValueError\u001b[0m                                Traceback (most recent call last)",
      "Cell \u001b[0;32mIn [21], line 1\u001b[0m\n\u001b[0;32m----> 1\u001b[0m size_col \u001b[38;5;241m=\u001b[39m \u001b[43mnp\u001b[49m\u001b[38;5;241;43m.\u001b[39;49m\u001b[43marray\u001b[49m\u001b[43m(\u001b[49m\u001b[43mdf\u001b[49m\u001b[43m[\u001b[49m\u001b[38;5;124;43m'\u001b[39;49m\u001b[38;5;124;43msize\u001b[39;49m\u001b[38;5;124;43m'\u001b[39;49m\u001b[43m]\u001b[49m\u001b[43m,\u001b[49m\u001b[43m \u001b[49m\u001b[43mdtype\u001b[49m\u001b[38;5;241;43m=\u001b[39;49m\u001b[38;5;124;43m'\u001b[39;49m\u001b[38;5;124;43mfloat64\u001b[39;49m\u001b[38;5;124;43m'\u001b[39;49m\u001b[43m)\u001b[49m\n\u001b[1;32m      2\u001b[0m size_col\n",
      "File \u001b[0;32m~/miniconda3/envs/mohirdsai/lib/python3.10/site-packages/pandas/core/series.py:893\u001b[0m, in \u001b[0;36mSeries.__array__\u001b[0;34m(self, dtype)\u001b[0m\n\u001b[1;32m    846\u001b[0m \u001b[38;5;28;01mdef\u001b[39;00m \u001b[38;5;21m__array__\u001b[39m(\u001b[38;5;28mself\u001b[39m, dtype: npt\u001b[38;5;241m.\u001b[39mDTypeLike \u001b[38;5;241m|\u001b[39m \u001b[38;5;28;01mNone\u001b[39;00m \u001b[38;5;241m=\u001b[39m \u001b[38;5;28;01mNone\u001b[39;00m) \u001b[38;5;241m-\u001b[39m\u001b[38;5;241m>\u001b[39m np\u001b[38;5;241m.\u001b[39mndarray:\n\u001b[1;32m    847\u001b[0m     \u001b[38;5;124;03m\"\"\"\u001b[39;00m\n\u001b[1;32m    848\u001b[0m \u001b[38;5;124;03m    Return the values as a NumPy array.\u001b[39;00m\n\u001b[1;32m    849\u001b[0m \n\u001b[0;32m   (...)\u001b[0m\n\u001b[1;32m    891\u001b[0m \u001b[38;5;124;03m          dtype='datetime64[ns]')\u001b[39;00m\n\u001b[1;32m    892\u001b[0m \u001b[38;5;124;03m    \"\"\"\u001b[39;00m\n\u001b[0;32m--> 893\u001b[0m     \u001b[38;5;28;01mreturn\u001b[39;00m \u001b[43mnp\u001b[49m\u001b[38;5;241;43m.\u001b[39;49m\u001b[43masarray\u001b[49m\u001b[43m(\u001b[49m\u001b[38;5;28;43mself\u001b[39;49m\u001b[38;5;241;43m.\u001b[39;49m\u001b[43m_values\u001b[49m\u001b[43m,\u001b[49m\u001b[43m \u001b[49m\u001b[43mdtype\u001b[49m\u001b[43m)\u001b[49m\n",
      "\u001b[0;31mValueError\u001b[0m: could not convert string to float: 'Площадьземли:1сот'"
     ]
    }
   ],
   "source": [
    "size_col = np.array(df['size'], dtype='float64')\n",
    "size_col"
   ]
  },
  {
   "cell_type": "code",
   "execution_count": 22,
   "id": "51c37018",
   "metadata": {
    "colab": {
     "base_uri": "https://localhost:8080/",
     "height": 81
    },
    "executionInfo": {
     "elapsed": 335,
     "status": "ok",
     "timestamp": 1673697282417,
     "user": {
      "displayName": "Javohir Joniqulov",
      "userId": "15358722746631597524"
     },
     "user_tz": -300
    },
    "id": "51c37018",
    "outputId": "1620e4ae-37b4-4986-f44d-70e1c948e5ca"
   },
   "outputs": [
    {
     "data": {
      "text/html": [
       "<div>\n",
       "<style scoped>\n",
       "    .dataframe tbody tr th:only-of-type {\n",
       "        vertical-align: middle;\n",
       "    }\n",
       "\n",
       "    .dataframe tbody tr th {\n",
       "        vertical-align: top;\n",
       "    }\n",
       "\n",
       "    .dataframe thead th {\n",
       "        text-align: right;\n",
       "    }\n",
       "</style>\n",
       "<table border=\"1\" class=\"dataframe\">\n",
       "  <thead>\n",
       "    <tr style=\"text-align: right;\">\n",
       "      <th></th>\n",
       "      <th>location</th>\n",
       "      <th>district</th>\n",
       "      <th>rooms</th>\n",
       "      <th>size</th>\n",
       "      <th>level</th>\n",
       "      <th>max_levels</th>\n",
       "      <th>price</th>\n",
       "    </tr>\n",
       "  </thead>\n",
       "  <tbody>\n",
       "    <tr>\n",
       "      <th>5347</th>\n",
       "      <td>город Ташкент, Яшнободский район, Дархон</td>\n",
       "      <td>Яшнободский</td>\n",
       "      <td>4</td>\n",
       "      <td>Площадьземли:1сот</td>\n",
       "      <td>3</td>\n",
       "      <td>5</td>\n",
       "      <td>150000</td>\n",
       "    </tr>\n",
       "  </tbody>\n",
       "</table>\n",
       "</div>"
      ],
      "text/plain": [
       "                                      location     district  rooms  \\\n",
       "5347  город Ташкент, Яшнободский район, Дархон  Яшнободский      4   \n",
       "\n",
       "                   size  level  max_levels   price  \n",
       "5347  Площадьземли:1сот      3           5  150000  "
      ]
     },
     "execution_count": 22,
     "metadata": {},
     "output_type": "execute_result"
    }
   ],
   "source": [
    "df[df['size']=='Площадьземли:1сот']"
   ]
  },
  {
   "cell_type": "markdown",
   "id": "1b2edeca",
   "metadata": {
    "id": "1b2edeca"
   },
   "source": [
    "`size` column has non-numeric value: **'Площадьземли:1сот'**.\\\n",
    "It's like russian word *«сотка»* whichis is equal `100 m²`. [Wiki reference](https://ru.wikipedia.org/wiki/%D0%A1%D0%BE%D1%82%D0%BA%D0%B0#:~:text=%D0%90%D1%80%20(%D0%B2%20%D1%80%D0%B0%D0%B7%D0%B3%D0%BE%D0%B2%D0%BE%D1%80%D0%BD%D0%BE%D0%B9%20%D1%80%D0%B5%D1%87%D0%B8%20%D1%82%D0%B0%D0%BA%D0%B6%D0%B5%20%C2%AB%D1%81%D0%BE%D1%82%D0%BA%D0%B0%C2%BB%2C%20%D0%BE%D1%82%201/100%20%D0%B3%D0%B5%D0%BA%D1%82%D0%B0%D1%80%D0%B0)%C2%A0%E2%80%94%20%D0%BC%D0%B5%D1%82%D1%80%D0%B8%D1%87%D0%B5%D1%81%D0%BA%D0%B0%D1%8F%20%D0%B5%D0%B4%D0%B8%D0%BD%D0%B8%D1%86%D0%B0%20%D0%B8%D0%B7%D0%BC%D0%B5%D1%80%D0%B5%D0%BD%D0%B8%D1%8F%20%D0%BF%D0%BB%D0%BE%D1%89%D0%B0%D0%B4%D0%B8%2C%20%D1%80%D0%B0%D0%B2%D0%BD%D0%B0%D1%8F%20100%C2%A0%D0%BC%C2%B2.)\\\n",
    "This means that we can convert this to a number."
   ]
  },
  {
   "cell_type": "code",
   "execution_count": 23,
   "id": "35a48759",
   "metadata": {
    "colab": {
     "base_uri": "https://localhost:8080/",
     "height": 81
    },
    "executionInfo": {
     "elapsed": 350,
     "status": "ok",
     "timestamp": 1673697283306,
     "user": {
      "displayName": "Javohir Joniqulov",
      "userId": "15358722746631597524"
     },
     "user_tz": -300
    },
    "id": "35a48759",
    "outputId": "01d56681-0e3b-47ac-8a24-348e4285b1c2",
    "scrolled": true
   },
   "outputs": [
    {
     "data": {
      "text/html": [
       "<div>\n",
       "<style scoped>\n",
       "    .dataframe tbody tr th:only-of-type {\n",
       "        vertical-align: middle;\n",
       "    }\n",
       "\n",
       "    .dataframe tbody tr th {\n",
       "        vertical-align: top;\n",
       "    }\n",
       "\n",
       "    .dataframe thead th {\n",
       "        text-align: right;\n",
       "    }\n",
       "</style>\n",
       "<table border=\"1\" class=\"dataframe\">\n",
       "  <thead>\n",
       "    <tr style=\"text-align: right;\">\n",
       "      <th></th>\n",
       "      <th>location</th>\n",
       "      <th>district</th>\n",
       "      <th>rooms</th>\n",
       "      <th>size</th>\n",
       "      <th>level</th>\n",
       "      <th>max_levels</th>\n",
       "      <th>price</th>\n",
       "    </tr>\n",
       "  </thead>\n",
       "  <tbody>\n",
       "    <tr>\n",
       "      <th>5347</th>\n",
       "      <td>город Ташкент, Яшнободский район, Дархон</td>\n",
       "      <td>Яшнободский</td>\n",
       "      <td>4</td>\n",
       "      <td>100</td>\n",
       "      <td>3</td>\n",
       "      <td>5</td>\n",
       "      <td>150000</td>\n",
       "    </tr>\n",
       "  </tbody>\n",
       "</table>\n",
       "</div>"
      ],
      "text/plain": [
       "                                      location     district  rooms size  \\\n",
       "5347  город Ташкент, Яшнободский район, Дархон  Яшнободский      4  100   \n",
       "\n",
       "      level  max_levels   price  \n",
       "5347      3           5  150000  "
      ]
     },
     "execution_count": 23,
     "metadata": {},
     "output_type": "execute_result"
    }
   ],
   "source": [
    "df.loc[5347, 'size'] = 100\n",
    "df.loc[[5347]]"
   ]
  },
  {
   "cell_type": "code",
   "execution_count": 24,
   "id": "1b0996eb",
   "metadata": {
    "executionInfo": {
     "elapsed": 5,
     "status": "ok",
     "timestamp": 1673697283753,
     "user": {
      "displayName": "Javohir Joniqulov",
      "userId": "15358722746631597524"
     },
     "user_tz": -300
    },
    "id": "1b0996eb"
   },
   "outputs": [],
   "source": [
    "size_col = np.array(df['size'], dtype='float64')\n",
    "df['size'] = size_col"
   ]
  },
  {
   "cell_type": "code",
   "execution_count": 25,
   "id": "898c5474",
   "metadata": {
    "colab": {
     "base_uri": "https://localhost:8080/",
     "height": 304
    },
    "executionInfo": {
     "elapsed": 390,
     "status": "error",
     "timestamp": 1673697284471,
     "user": {
      "displayName": "Javohir Joniqulov",
      "userId": "15358722746631597524"
     },
     "user_tz": -300
    },
    "id": "898c5474",
    "outputId": "17b21ff0-19d5-49d0-d0d4-bb310afafcc1"
   },
   "outputs": [
    {
     "ename": "ValueError",
     "evalue": "could not convert string to float: 'Договорная'",
     "output_type": "error",
     "traceback": [
      "\u001b[0;31m---------------------------------------------------------------------------\u001b[0m",
      "\u001b[0;31mValueError\u001b[0m                                Traceback (most recent call last)",
      "Cell \u001b[0;32mIn [25], line 1\u001b[0m\n\u001b[0;32m----> 1\u001b[0m price_col \u001b[38;5;241m=\u001b[39m \u001b[43mnp\u001b[49m\u001b[38;5;241;43m.\u001b[39;49m\u001b[43marray\u001b[49m\u001b[43m(\u001b[49m\u001b[43mdf\u001b[49m\u001b[43m[\u001b[49m\u001b[38;5;124;43m'\u001b[39;49m\u001b[38;5;124;43mprice\u001b[39;49m\u001b[38;5;124;43m'\u001b[39;49m\u001b[43m]\u001b[49m\u001b[43m,\u001b[49m\u001b[43m \u001b[49m\u001b[43mdtype\u001b[49m\u001b[38;5;241;43m=\u001b[39;49m\u001b[38;5;124;43m'\u001b[39;49m\u001b[38;5;124;43mfloat64\u001b[39;49m\u001b[38;5;124;43m'\u001b[39;49m\u001b[43m)\u001b[49m\n\u001b[1;32m      2\u001b[0m price_col\n",
      "File \u001b[0;32m~/miniconda3/envs/mohirdsai/lib/python3.10/site-packages/pandas/core/series.py:893\u001b[0m, in \u001b[0;36mSeries.__array__\u001b[0;34m(self, dtype)\u001b[0m\n\u001b[1;32m    846\u001b[0m \u001b[38;5;28;01mdef\u001b[39;00m \u001b[38;5;21m__array__\u001b[39m(\u001b[38;5;28mself\u001b[39m, dtype: npt\u001b[38;5;241m.\u001b[39mDTypeLike \u001b[38;5;241m|\u001b[39m \u001b[38;5;28;01mNone\u001b[39;00m \u001b[38;5;241m=\u001b[39m \u001b[38;5;28;01mNone\u001b[39;00m) \u001b[38;5;241m-\u001b[39m\u001b[38;5;241m>\u001b[39m np\u001b[38;5;241m.\u001b[39mndarray:\n\u001b[1;32m    847\u001b[0m     \u001b[38;5;124;03m\"\"\"\u001b[39;00m\n\u001b[1;32m    848\u001b[0m \u001b[38;5;124;03m    Return the values as a NumPy array.\u001b[39;00m\n\u001b[1;32m    849\u001b[0m \n\u001b[0;32m   (...)\u001b[0m\n\u001b[1;32m    891\u001b[0m \u001b[38;5;124;03m          dtype='datetime64[ns]')\u001b[39;00m\n\u001b[1;32m    892\u001b[0m \u001b[38;5;124;03m    \"\"\"\u001b[39;00m\n\u001b[0;32m--> 893\u001b[0m     \u001b[38;5;28;01mreturn\u001b[39;00m \u001b[43mnp\u001b[49m\u001b[38;5;241;43m.\u001b[39;49m\u001b[43masarray\u001b[49m\u001b[43m(\u001b[49m\u001b[38;5;28;43mself\u001b[39;49m\u001b[38;5;241;43m.\u001b[39;49m\u001b[43m_values\u001b[49m\u001b[43m,\u001b[49m\u001b[43m \u001b[49m\u001b[43mdtype\u001b[49m\u001b[43m)\u001b[49m\n",
      "\u001b[0;31mValueError\u001b[0m: could not convert string to float: 'Договорная'"
     ]
    }
   ],
   "source": [
    "price_col = np.array(df['price'], dtype='float64')\n",
    "price_col"
   ]
  },
  {
   "cell_type": "code",
   "execution_count": 26,
   "id": "ae4d8e71",
   "metadata": {
    "colab": {
     "base_uri": "https://localhost:8080/",
     "height": 424
    },
    "executionInfo": {
     "elapsed": 343,
     "status": "ok",
     "timestamp": 1673697286033,
     "user": {
      "displayName": "Javohir Joniqulov",
      "userId": "15358722746631597524"
     },
     "user_tz": -300
    },
    "id": "ae4d8e71",
    "outputId": "30778595-e957-4778-d8bc-b60e6fc57884"
   },
   "outputs": [
    {
     "data": {
      "text/html": [
       "<div>\n",
       "<style scoped>\n",
       "    .dataframe tbody tr th:only-of-type {\n",
       "        vertical-align: middle;\n",
       "    }\n",
       "\n",
       "    .dataframe tbody tr th {\n",
       "        vertical-align: top;\n",
       "    }\n",
       "\n",
       "    .dataframe thead th {\n",
       "        text-align: right;\n",
       "    }\n",
       "</style>\n",
       "<table border=\"1\" class=\"dataframe\">\n",
       "  <thead>\n",
       "    <tr style=\"text-align: right;\">\n",
       "      <th></th>\n",
       "      <th>location</th>\n",
       "      <th>district</th>\n",
       "      <th>rooms</th>\n",
       "      <th>size</th>\n",
       "      <th>level</th>\n",
       "      <th>max_levels</th>\n",
       "      <th>price</th>\n",
       "    </tr>\n",
       "  </thead>\n",
       "  <tbody>\n",
       "    <tr>\n",
       "      <th>202</th>\n",
       "      <td>город Ташкент, Яккасарайский район, Баходыра</td>\n",
       "      <td>Яккасарайский</td>\n",
       "      <td>3</td>\n",
       "      <td>119.0</td>\n",
       "      <td>3</td>\n",
       "      <td>9</td>\n",
       "      <td>Договорная</td>\n",
       "    </tr>\n",
       "    <tr>\n",
       "      <th>411</th>\n",
       "      <td>город Ташкент, Яккасарайский район, Баходыра</td>\n",
       "      <td>Яккасарайский</td>\n",
       "      <td>4</td>\n",
       "      <td>160.0</td>\n",
       "      <td>4</td>\n",
       "      <td>9</td>\n",
       "      <td>Договорная</td>\n",
       "    </tr>\n",
       "    <tr>\n",
       "      <th>439</th>\n",
       "      <td>город Ташкент, Мирзо-Улугбекский район, улица ...</td>\n",
       "      <td>Мирзо-Улугбекский</td>\n",
       "      <td>3</td>\n",
       "      <td>105.0</td>\n",
       "      <td>5</td>\n",
       "      <td>6</td>\n",
       "      <td>Договорная</td>\n",
       "    </tr>\n",
       "    <tr>\n",
       "      <th>460</th>\n",
       "      <td>город Ташкент, Чиланзарский район, Чиланзар 1-...</td>\n",
       "      <td>Чиланзарский</td>\n",
       "      <td>3</td>\n",
       "      <td>90.0</td>\n",
       "      <td>6</td>\n",
       "      <td>8</td>\n",
       "      <td>Договорная</td>\n",
       "    </tr>\n",
       "    <tr>\n",
       "      <th>507</th>\n",
       "      <td>город Ташкент, Яшнободский район, 1-й проезд А...</td>\n",
       "      <td>Яшнободский</td>\n",
       "      <td>2</td>\n",
       "      <td>48.0</td>\n",
       "      <td>4</td>\n",
       "      <td>4</td>\n",
       "      <td>Договорная</td>\n",
       "    </tr>\n",
       "    <tr>\n",
       "      <th>...</th>\n",
       "      <td>...</td>\n",
       "      <td>...</td>\n",
       "      <td>...</td>\n",
       "      <td>...</td>\n",
       "      <td>...</td>\n",
       "      <td>...</td>\n",
       "      <td>...</td>\n",
       "    </tr>\n",
       "    <tr>\n",
       "      <th>7039</th>\n",
       "      <td>город Ташкент, Яшнободский район, Городок Авиа...</td>\n",
       "      <td>Яшнободский</td>\n",
       "      <td>1</td>\n",
       "      <td>38.7</td>\n",
       "      <td>3</td>\n",
       "      <td>8</td>\n",
       "      <td>Договорная</td>\n",
       "    </tr>\n",
       "    <tr>\n",
       "      <th>7196</th>\n",
       "      <td>город Ташкент, Чиланзарский район, Чиланзар-16</td>\n",
       "      <td>Чиланзарский</td>\n",
       "      <td>2</td>\n",
       "      <td>51.0</td>\n",
       "      <td>3</td>\n",
       "      <td>4</td>\n",
       "      <td>Договорная</td>\n",
       "    </tr>\n",
       "    <tr>\n",
       "      <th>7323</th>\n",
       "      <td>город Ташкент, Мирзо-Улугбекский район, жилой ...</td>\n",
       "      <td>Мирзо-Улугбекский</td>\n",
       "      <td>6</td>\n",
       "      <td>208.0</td>\n",
       "      <td>1</td>\n",
       "      <td>7</td>\n",
       "      <td>Договорная</td>\n",
       "    </tr>\n",
       "    <tr>\n",
       "      <th>7403</th>\n",
       "      <td>город Ташкент, Учтепинский район, Чиланзар 14-...</td>\n",
       "      <td>Учтепинский</td>\n",
       "      <td>2</td>\n",
       "      <td>35.0</td>\n",
       "      <td>2</td>\n",
       "      <td>9</td>\n",
       "      <td>Договорная</td>\n",
       "    </tr>\n",
       "    <tr>\n",
       "      <th>7404</th>\n",
       "      <td>город Ташкент, Учтепинский район, Чиланзар 14-...</td>\n",
       "      <td>Учтепинский</td>\n",
       "      <td>2</td>\n",
       "      <td>35.0</td>\n",
       "      <td>2</td>\n",
       "      <td>9</td>\n",
       "      <td>Договорная</td>\n",
       "    </tr>\n",
       "  </tbody>\n",
       "</table>\n",
       "<p>99 rows × 7 columns</p>\n",
       "</div>"
      ],
      "text/plain": [
       "                                               location           district  \\\n",
       "202        город Ташкент, Яккасарайский район, Баходыра      Яккасарайский   \n",
       "411        город Ташкент, Яккасарайский район, Баходыра      Яккасарайский   \n",
       "439   город Ташкент, Мирзо-Улугбекский район, улица ...  Мирзо-Улугбекский   \n",
       "460   город Ташкент, Чиланзарский район, Чиланзар 1-...       Чиланзарский   \n",
       "507   город Ташкент, Яшнободский район, 1-й проезд А...        Яшнободский   \n",
       "...                                                 ...                ...   \n",
       "7039  город Ташкент, Яшнободский район, Городок Авиа...        Яшнободский   \n",
       "7196     город Ташкент, Чиланзарский район, Чиланзар-16       Чиланзарский   \n",
       "7323  город Ташкент, Мирзо-Улугбекский район, жилой ...  Мирзо-Улугбекский   \n",
       "7403  город Ташкент, Учтепинский район, Чиланзар 14-...        Учтепинский   \n",
       "7404  город Ташкент, Учтепинский район, Чиланзар 14-...        Учтепинский   \n",
       "\n",
       "      rooms   size  level  max_levels       price  \n",
       "202       3  119.0      3           9  Договорная  \n",
       "411       4  160.0      4           9  Договорная  \n",
       "439       3  105.0      5           6  Договорная  \n",
       "460       3   90.0      6           8  Договорная  \n",
       "507       2   48.0      4           4  Договорная  \n",
       "...     ...    ...    ...         ...         ...  \n",
       "7039      1   38.7      3           8  Договорная  \n",
       "7196      2   51.0      3           4  Договорная  \n",
       "7323      6  208.0      1           7  Договорная  \n",
       "7403      2   35.0      2           9  Договорная  \n",
       "7404      2   35.0      2           9  Договорная  \n",
       "\n",
       "[99 rows x 7 columns]"
      ]
     },
     "execution_count": 26,
     "metadata": {},
     "output_type": "execute_result"
    }
   ],
   "source": [
    "df[df['price']=='Договорная']"
   ]
  },
  {
   "cell_type": "markdown",
   "id": "15e0bfca",
   "metadata": {
    "id": "15e0bfca"
   },
   "source": [
    "`price` column also has non-numeric values: **'Договорная'**, which we can translate as *'negotiable'*. We need to convert this value to `NaN` value in order to filling it later."
   ]
  },
  {
   "cell_type": "code",
   "execution_count": 27,
   "id": "07259365",
   "metadata": {
    "colab": {
     "base_uri": "https://localhost:8080/",
     "height": 424
    },
    "executionInfo": {
     "elapsed": 315,
     "status": "ok",
     "timestamp": 1673697288307,
     "user": {
      "displayName": "Javohir Joniqulov",
      "userId": "15358722746631597524"
     },
     "user_tz": -300
    },
    "id": "07259365",
    "outputId": "6835faae-4d86-443d-d519-910618feda63"
   },
   "outputs": [
    {
     "data": {
      "text/html": [
       "<div>\n",
       "<style scoped>\n",
       "    .dataframe tbody tr th:only-of-type {\n",
       "        vertical-align: middle;\n",
       "    }\n",
       "\n",
       "    .dataframe tbody tr th {\n",
       "        vertical-align: top;\n",
       "    }\n",
       "\n",
       "    .dataframe thead th {\n",
       "        text-align: right;\n",
       "    }\n",
       "</style>\n",
       "<table border=\"1\" class=\"dataframe\">\n",
       "  <thead>\n",
       "    <tr style=\"text-align: right;\">\n",
       "      <th></th>\n",
       "      <th>location</th>\n",
       "      <th>district</th>\n",
       "      <th>rooms</th>\n",
       "      <th>size</th>\n",
       "      <th>level</th>\n",
       "      <th>max_levels</th>\n",
       "      <th>price</th>\n",
       "    </tr>\n",
       "  </thead>\n",
       "  <tbody>\n",
       "    <tr>\n",
       "      <th>202</th>\n",
       "      <td>город Ташкент, Яккасарайский район, Баходыра</td>\n",
       "      <td>Яккасарайский</td>\n",
       "      <td>3</td>\n",
       "      <td>119.0</td>\n",
       "      <td>3</td>\n",
       "      <td>9</td>\n",
       "      <td>NaN</td>\n",
       "    </tr>\n",
       "    <tr>\n",
       "      <th>411</th>\n",
       "      <td>город Ташкент, Яккасарайский район, Баходыра</td>\n",
       "      <td>Яккасарайский</td>\n",
       "      <td>4</td>\n",
       "      <td>160.0</td>\n",
       "      <td>4</td>\n",
       "      <td>9</td>\n",
       "      <td>NaN</td>\n",
       "    </tr>\n",
       "    <tr>\n",
       "      <th>439</th>\n",
       "      <td>город Ташкент, Мирзо-Улугбекский район, улица ...</td>\n",
       "      <td>Мирзо-Улугбекский</td>\n",
       "      <td>3</td>\n",
       "      <td>105.0</td>\n",
       "      <td>5</td>\n",
       "      <td>6</td>\n",
       "      <td>NaN</td>\n",
       "    </tr>\n",
       "    <tr>\n",
       "      <th>460</th>\n",
       "      <td>город Ташкент, Чиланзарский район, Чиланзар 1-...</td>\n",
       "      <td>Чиланзарский</td>\n",
       "      <td>3</td>\n",
       "      <td>90.0</td>\n",
       "      <td>6</td>\n",
       "      <td>8</td>\n",
       "      <td>NaN</td>\n",
       "    </tr>\n",
       "    <tr>\n",
       "      <th>507</th>\n",
       "      <td>город Ташкент, Яшнободский район, 1-й проезд А...</td>\n",
       "      <td>Яшнободский</td>\n",
       "      <td>2</td>\n",
       "      <td>48.0</td>\n",
       "      <td>4</td>\n",
       "      <td>4</td>\n",
       "      <td>NaN</td>\n",
       "    </tr>\n",
       "    <tr>\n",
       "      <th>...</th>\n",
       "      <td>...</td>\n",
       "      <td>...</td>\n",
       "      <td>...</td>\n",
       "      <td>...</td>\n",
       "      <td>...</td>\n",
       "      <td>...</td>\n",
       "      <td>...</td>\n",
       "    </tr>\n",
       "    <tr>\n",
       "      <th>7039</th>\n",
       "      <td>город Ташкент, Яшнободский район, Городок Авиа...</td>\n",
       "      <td>Яшнободский</td>\n",
       "      <td>1</td>\n",
       "      <td>38.7</td>\n",
       "      <td>3</td>\n",
       "      <td>8</td>\n",
       "      <td>NaN</td>\n",
       "    </tr>\n",
       "    <tr>\n",
       "      <th>7196</th>\n",
       "      <td>город Ташкент, Чиланзарский район, Чиланзар-16</td>\n",
       "      <td>Чиланзарский</td>\n",
       "      <td>2</td>\n",
       "      <td>51.0</td>\n",
       "      <td>3</td>\n",
       "      <td>4</td>\n",
       "      <td>NaN</td>\n",
       "    </tr>\n",
       "    <tr>\n",
       "      <th>7323</th>\n",
       "      <td>город Ташкент, Мирзо-Улугбекский район, жилой ...</td>\n",
       "      <td>Мирзо-Улугбекский</td>\n",
       "      <td>6</td>\n",
       "      <td>208.0</td>\n",
       "      <td>1</td>\n",
       "      <td>7</td>\n",
       "      <td>NaN</td>\n",
       "    </tr>\n",
       "    <tr>\n",
       "      <th>7403</th>\n",
       "      <td>город Ташкент, Учтепинский район, Чиланзар 14-...</td>\n",
       "      <td>Учтепинский</td>\n",
       "      <td>2</td>\n",
       "      <td>35.0</td>\n",
       "      <td>2</td>\n",
       "      <td>9</td>\n",
       "      <td>NaN</td>\n",
       "    </tr>\n",
       "    <tr>\n",
       "      <th>7404</th>\n",
       "      <td>город Ташкент, Учтепинский район, Чиланзар 14-...</td>\n",
       "      <td>Учтепинский</td>\n",
       "      <td>2</td>\n",
       "      <td>35.0</td>\n",
       "      <td>2</td>\n",
       "      <td>9</td>\n",
       "      <td>NaN</td>\n",
       "    </tr>\n",
       "  </tbody>\n",
       "</table>\n",
       "<p>99 rows × 7 columns</p>\n",
       "</div>"
      ],
      "text/plain": [
       "                                               location           district  \\\n",
       "202        город Ташкент, Яккасарайский район, Баходыра      Яккасарайский   \n",
       "411        город Ташкент, Яккасарайский район, Баходыра      Яккасарайский   \n",
       "439   город Ташкент, Мирзо-Улугбекский район, улица ...  Мирзо-Улугбекский   \n",
       "460   город Ташкент, Чиланзарский район, Чиланзар 1-...       Чиланзарский   \n",
       "507   город Ташкент, Яшнободский район, 1-й проезд А...        Яшнободский   \n",
       "...                                                 ...                ...   \n",
       "7039  город Ташкент, Яшнободский район, Городок Авиа...        Яшнободский   \n",
       "7196     город Ташкент, Чиланзарский район, Чиланзар-16       Чиланзарский   \n",
       "7323  город Ташкент, Мирзо-Улугбекский район, жилой ...  Мирзо-Улугбекский   \n",
       "7403  город Ташкент, Учтепинский район, Чиланзар 14-...        Учтепинский   \n",
       "7404  город Ташкент, Учтепинский район, Чиланзар 14-...        Учтепинский   \n",
       "\n",
       "      rooms   size  level  max_levels price  \n",
       "202       3  119.0      3           9   NaN  \n",
       "411       4  160.0      4           9   NaN  \n",
       "439       3  105.0      5           6   NaN  \n",
       "460       3   90.0      6           8   NaN  \n",
       "507       2   48.0      4           4   NaN  \n",
       "...     ...    ...    ...         ...   ...  \n",
       "7039      1   38.7      3           8   NaN  \n",
       "7196      2   51.0      3           4   NaN  \n",
       "7323      6  208.0      1           7   NaN  \n",
       "7403      2   35.0      2           9   NaN  \n",
       "7404      2   35.0      2           9   NaN  \n",
       "\n",
       "[99 rows x 7 columns]"
      ]
     },
     "execution_count": 27,
     "metadata": {},
     "output_type": "execute_result"
    }
   ],
   "source": [
    "indices = df[df['price'] == 'Договорная'].index\n",
    "df.loc[indices, 'price'] = np.nan\n",
    "df.loc[indices]"
   ]
  },
  {
   "cell_type": "code",
   "execution_count": 28,
   "id": "56865f34",
   "metadata": {
    "executionInfo": {
     "elapsed": 317,
     "status": "ok",
     "timestamp": 1673697290061,
     "user": {
      "displayName": "Javohir Joniqulov",
      "userId": "15358722746631597524"
     },
     "user_tz": -300
    },
    "id": "56865f34"
   },
   "outputs": [],
   "source": [
    "price_col = np.array(df['price'], dtype='float64')\n",
    "df['price'] = price_col"
   ]
  },
  {
   "cell_type": "code",
   "execution_count": 29,
   "id": "4892c91e",
   "metadata": {
    "colab": {
     "base_uri": "https://localhost:8080/"
    },
    "executionInfo": {
     "elapsed": 8,
     "status": "ok",
     "timestamp": 1673697290501,
     "user": {
      "displayName": "Javohir Joniqulov",
      "userId": "15358722746631597524"
     },
     "user_tz": -300
    },
    "id": "4892c91e",
    "outputId": "f0c77e9b-cedb-4b60-9340-4fc56bfcfb01"
   },
   "outputs": [
    {
     "name": "stdout",
     "output_type": "stream",
     "text": [
      "<class 'pandas.core.frame.DataFrame'>\n",
      "RangeIndex: 7565 entries, 0 to 7564\n",
      "Data columns (total 7 columns):\n",
      " #   Column      Non-Null Count  Dtype  \n",
      "---  ------      --------------  -----  \n",
      " 0   location    7565 non-null   object \n",
      " 1   district    7565 non-null   object \n",
      " 2   rooms       7565 non-null   int64  \n",
      " 3   size        7565 non-null   float64\n",
      " 4   level       7565 non-null   int64  \n",
      " 5   max_levels  7565 non-null   int64  \n",
      " 6   price       7466 non-null   float64\n",
      "dtypes: float64(2), int64(3), object(2)\n",
      "memory usage: 413.8+ KB\n"
     ]
    }
   ],
   "source": [
    "df.info()"
   ]
  },
  {
   "cell_type": "code",
   "execution_count": 30,
   "id": "c6409219",
   "metadata": {
    "colab": {
     "base_uri": "https://localhost:8080/",
     "height": 206
    },
    "executionInfo": {
     "elapsed": 311,
     "status": "ok",
     "timestamp": 1673697292335,
     "user": {
      "displayName": "Javohir Joniqulov",
      "userId": "15358722746631597524"
     },
     "user_tz": -300
    },
    "id": "c6409219",
    "outputId": "a2803abc-e10d-49ee-e285-79b1225f0eb2"
   },
   "outputs": [
    {
     "data": {
      "text/html": [
       "<div>\n",
       "<style scoped>\n",
       "    .dataframe tbody tr th:only-of-type {\n",
       "        vertical-align: middle;\n",
       "    }\n",
       "\n",
       "    .dataframe tbody tr th {\n",
       "        vertical-align: top;\n",
       "    }\n",
       "\n",
       "    .dataframe thead th {\n",
       "        text-align: right;\n",
       "    }\n",
       "</style>\n",
       "<table border=\"1\" class=\"dataframe\">\n",
       "  <thead>\n",
       "    <tr style=\"text-align: right;\">\n",
       "      <th></th>\n",
       "      <th>count</th>\n",
       "      <th>mean</th>\n",
       "      <th>std</th>\n",
       "      <th>min</th>\n",
       "      <th>25%</th>\n",
       "      <th>50%</th>\n",
       "      <th>75%</th>\n",
       "      <th>max</th>\n",
       "    </tr>\n",
       "  </thead>\n",
       "  <tbody>\n",
       "    <tr>\n",
       "      <th>rooms</th>\n",
       "      <td>7565.0</td>\n",
       "      <td>2.625644</td>\n",
       "      <td>1.085201</td>\n",
       "      <td>1.0</td>\n",
       "      <td>2.0</td>\n",
       "      <td>3.0</td>\n",
       "      <td>3.0</td>\n",
       "      <td>10.0</td>\n",
       "    </tr>\n",
       "    <tr>\n",
       "      <th>size</th>\n",
       "      <td>7565.0</td>\n",
       "      <td>113.267236</td>\n",
       "      <td>1491.213517</td>\n",
       "      <td>1.0</td>\n",
       "      <td>50.0</td>\n",
       "      <td>66.0</td>\n",
       "      <td>86.0</td>\n",
       "      <td>70000.0</td>\n",
       "    </tr>\n",
       "    <tr>\n",
       "      <th>level</th>\n",
       "      <td>7565.0</td>\n",
       "      <td>3.699273</td>\n",
       "      <td>2.237275</td>\n",
       "      <td>1.0</td>\n",
       "      <td>2.0</td>\n",
       "      <td>3.0</td>\n",
       "      <td>5.0</td>\n",
       "      <td>19.0</td>\n",
       "    </tr>\n",
       "    <tr>\n",
       "      <th>max_levels</th>\n",
       "      <td>7565.0</td>\n",
       "      <td>6.038202</td>\n",
       "      <td>2.613271</td>\n",
       "      <td>1.0</td>\n",
       "      <td>4.0</td>\n",
       "      <td>5.0</td>\n",
       "      <td>9.0</td>\n",
       "      <td>25.0</td>\n",
       "    </tr>\n",
       "    <tr>\n",
       "      <th>price</th>\n",
       "      <td>7466.0</td>\n",
       "      <td>71334.210421</td>\n",
       "      <td>640523.683731</td>\n",
       "      <td>2.0</td>\n",
       "      <td>35000.0</td>\n",
       "      <td>46500.0</td>\n",
       "      <td>67000.0</td>\n",
       "      <td>52000000.0</td>\n",
       "    </tr>\n",
       "  </tbody>\n",
       "</table>\n",
       "</div>"
      ],
      "text/plain": [
       "             count          mean            std  min      25%      50%  \\\n",
       "rooms       7565.0      2.625644       1.085201  1.0      2.0      3.0   \n",
       "size        7565.0    113.267236    1491.213517  1.0     50.0     66.0   \n",
       "level       7565.0      3.699273       2.237275  1.0      2.0      3.0   \n",
       "max_levels  7565.0      6.038202       2.613271  1.0      4.0      5.0   \n",
       "price       7466.0  71334.210421  640523.683731  2.0  35000.0  46500.0   \n",
       "\n",
       "                75%         max  \n",
       "rooms           3.0        10.0  \n",
       "size           86.0     70000.0  \n",
       "level           5.0        19.0  \n",
       "max_levels      9.0        25.0  \n",
       "price       67000.0  52000000.0  "
      ]
     },
     "execution_count": 30,
     "metadata": {},
     "output_type": "execute_result"
    }
   ],
   "source": [
    "df.describe().T"
   ]
  },
  {
   "cell_type": "markdown",
   "id": "8008379b",
   "metadata": {
    "id": "8008379b"
   },
   "source": [
    "We can see *outliers* in `price` and `size` column."
   ]
  },
  {
   "cell_type": "markdown",
   "id": "IpC-GhqlhSHB",
   "metadata": {
    "id": "IpC-GhqlhSHB"
   },
   "source": [
    "#### Visualization"
   ]
  },
  {
   "cell_type": "code",
   "execution_count": 31,
   "id": "OWgi4O0IqIMx",
   "metadata": {
    "id": "OWgi4O0IqIMx"
   },
   "outputs": [
    {
     "data": {
      "image/png": "[encoded data removed]",
      "text/plain": [
       "<Figure size 2000x1500 with 6 Axes>"
      ]
     },
     "metadata": {},
     "output_type": "display_data"
    }
   ],
   "source": [
    "df.hist(bins=10, figsize=[20, 15]);"
   ]
  },
  {
   "cell_type": "code",
   "execution_count": 32,
   "id": "d53d0ca9",
   "metadata": {
    "id": "d53d0ca9",
    "scrolled": false
   },
   "outputs": [
    {
     "data": {
      "image/png": "[encoded data removed]",
      "text/plain": [
       "<Figure size 1500x700 with 1 Axes>"
      ]
     },
     "metadata": {},
     "output_type": "display_data"
    }
   ],
   "source": [
    "plt.figure(figsize=[15, 7])\n",
    "sns.histplot(x=df[df['price'] < 500_000]['price'], kde=True);"
   ]
  },
  {
   "cell_type": "markdown",
   "id": "wHOBGNN3Th_C",
   "metadata": {
    "id": "wHOBGNN3Th_C"
   },
   "source": [
    "There are many outliers in the `price` column, we need to correct them."
   ]
  },
  {
   "cell_type": "code",
   "execution_count": 33,
   "id": "Bl0XCglHW642",
   "metadata": {
    "executionInfo": {
     "elapsed": 401,
     "status": "ok",
     "timestamp": 1673697299053,
     "user": {
      "displayName": "Javohir Joniqulov",
      "userId": "15358722746631597524"
     },
     "user_tz": -300
    },
    "id": "Bl0XCglHW642"
   },
   "outputs": [],
   "source": [
    "price_mask = (df['price'] >= 5000) & (df['price'] < 150_000)\n",
    "df = df[price_mask]"
   ]
  },
  {
   "cell_type": "code",
   "execution_count": 34,
   "id": "25vkzBjBUYwx",
   "metadata": {
    "id": "25vkzBjBUYwx"
   },
   "outputs": [
    {
     "data": {
      "image/png": "[encoded data removed]",
      "text/plain": [
       "<Figure size 1500x700 with 1 Axes>"
      ]
     },
     "metadata": {},
     "output_type": "display_data"
    }
   ],
   "source": [
    "plt.figure(figsize=[15, 7])\n",
    "sns.histplot(x=df['price'], kde=True, bins=100);"
   ]
  },
  {
   "cell_type": "code",
   "execution_count": 35,
   "id": "DgnRIK3JxMgl",
   "metadata": {
    "id": "DgnRIK3JxMgl"
   },
   "outputs": [
    {
     "data": {
      "image/png": "[encoded data removed]",
      "text/plain": [
       "<Figure size 1500x700 with 1 Axes>"
      ]
     },
     "metadata": {},
     "output_type": "display_data"
    }
   ],
   "source": [
    "plt.figure(figsize=[15, 7])\n",
    "sns.histplot(x=df[df['size'] < 3000]['size'], kde=True);"
   ]
  },
  {
   "cell_type": "markdown",
   "id": "n5nbfexl0ynT",
   "metadata": {
    "id": "n5nbfexl0ynT"
   },
   "source": [
    "We remove outliers with values less than or equal to `10` and greater than or equal to `155` in the `size` column."
   ]
  },
  {
   "cell_type": "code",
   "execution_count": 36,
   "id": "yljUW-9h1CjG",
   "metadata": {
    "executionInfo": {
     "elapsed": 344,
     "status": "ok",
     "timestamp": 1673697301472,
     "user": {
      "displayName": "Javohir Joniqulov",
      "userId": "15358722746631597524"
     },
     "user_tz": -300
    },
    "id": "yljUW-9h1CjG"
   },
   "outputs": [],
   "source": [
    "size_mask = (df['size'] >= 10) & (df['size'] <= 155)\n",
    "df = df[size_mask]"
   ]
  },
  {
   "cell_type": "code",
   "execution_count": 37,
   "id": "AkRaEKge1YWN",
   "metadata": {
    "id": "AkRaEKge1YWN"
   },
   "outputs": [
    {
     "data": {
      "image/png": "[encoded data removed]",
      "text/plain": [
       "<Figure size 1500x700 with 1 Axes>"
      ]
     },
     "metadata": {},
     "output_type": "display_data"
    }
   ],
   "source": [
    "plt.figure(figsize=[15, 7])\n",
    "sns.histplot(x=df['size'], kde=True, bins=70);"
   ]
  },
  {
   "cell_type": "code",
   "execution_count": 38,
   "id": "xbYzZr6E5HVX",
   "metadata": {
    "id": "xbYzZr6E5HVX"
   },
   "outputs": [
    {
     "data": {
      "text/html": [
       "<div>\n",
       "<style scoped>\n",
       "    .dataframe tbody tr th:only-of-type {\n",
       "        vertical-align: middle;\n",
       "    }\n",
       "\n",
       "    .dataframe tbody tr th {\n",
       "        vertical-align: top;\n",
       "    }\n",
       "\n",
       "    .dataframe thead th {\n",
       "        text-align: right;\n",
       "    }\n",
       "</style>\n",
       "<table border=\"1\" class=\"dataframe\">\n",
       "  <thead>\n",
       "    <tr style=\"text-align: right;\">\n",
       "      <th></th>\n",
       "      <th>count</th>\n",
       "      <th>mean</th>\n",
       "      <th>std</th>\n",
       "      <th>min</th>\n",
       "      <th>25%</th>\n",
       "      <th>50%</th>\n",
       "      <th>75%</th>\n",
       "      <th>max</th>\n",
       "    </tr>\n",
       "  </thead>\n",
       "  <tbody>\n",
       "    <tr>\n",
       "      <th>rooms</th>\n",
       "      <td>7070.0</td>\n",
       "      <td>2.535078</td>\n",
       "      <td>0.993457</td>\n",
       "      <td>1.0</td>\n",
       "      <td>2.0</td>\n",
       "      <td>2.0</td>\n",
       "      <td>3.0</td>\n",
       "      <td>6.0</td>\n",
       "    </tr>\n",
       "    <tr>\n",
       "      <th>size</th>\n",
       "      <td>7070.0</td>\n",
       "      <td>67.621788</td>\n",
       "      <td>24.306545</td>\n",
       "      <td>11.0</td>\n",
       "      <td>50.0</td>\n",
       "      <td>65.0</td>\n",
       "      <td>80.0</td>\n",
       "      <td>155.0</td>\n",
       "    </tr>\n",
       "    <tr>\n",
       "      <th>level</th>\n",
       "      <td>7070.0</td>\n",
       "      <td>3.676803</td>\n",
       "      <td>2.222154</td>\n",
       "      <td>1.0</td>\n",
       "      <td>2.0</td>\n",
       "      <td>3.0</td>\n",
       "      <td>5.0</td>\n",
       "      <td>18.0</td>\n",
       "    </tr>\n",
       "    <tr>\n",
       "      <th>max_levels</th>\n",
       "      <td>7070.0</td>\n",
       "      <td>5.956153</td>\n",
       "      <td>2.586963</td>\n",
       "      <td>1.0</td>\n",
       "      <td>4.0</td>\n",
       "      <td>5.0</td>\n",
       "      <td>9.0</td>\n",
       "      <td>25.0</td>\n",
       "    </tr>\n",
       "    <tr>\n",
       "      <th>price</th>\n",
       "      <td>7070.0</td>\n",
       "      <td>51441.008911</td>\n",
       "      <td>24603.311716</td>\n",
       "      <td>7300.0</td>\n",
       "      <td>34500.0</td>\n",
       "      <td>45000.0</td>\n",
       "      <td>62000.0</td>\n",
       "      <td>148000.0</td>\n",
       "    </tr>\n",
       "  </tbody>\n",
       "</table>\n",
       "</div>"
      ],
      "text/plain": [
       "             count          mean           std     min      25%      50%  \\\n",
       "rooms       7070.0      2.535078      0.993457     1.0      2.0      2.0   \n",
       "size        7070.0     67.621788     24.306545    11.0     50.0     65.0   \n",
       "level       7070.0      3.676803      2.222154     1.0      2.0      3.0   \n",
       "max_levels  7070.0      5.956153      2.586963     1.0      4.0      5.0   \n",
       "price       7070.0  51441.008911  24603.311716  7300.0  34500.0  45000.0   \n",
       "\n",
       "                75%       max  \n",
       "rooms           3.0       6.0  \n",
       "size           80.0     155.0  \n",
       "level           5.0      18.0  \n",
       "max_levels      9.0      25.0  \n",
       "price       62000.0  148000.0  "
      ]
     },
     "execution_count": 38,
     "metadata": {},
     "output_type": "execute_result"
    }
   ],
   "source": [
    "df.describe().T"
   ]
  },
  {
   "cell_type": "code",
   "execution_count": 39,
   "id": "EKvJ-9S5uWfW",
   "metadata": {
    "id": "EKvJ-9S5uWfW"
   },
   "outputs": [
    {
     "data": {
      "text/plain": [
       "district\n",
       "Мирабадский          74785.387786\n",
       "Шайхантахурский      60127.307018\n",
       "Яккасарайский        58272.158598\n",
       "Юнусабадский         53761.020531\n",
       "Мирзо-Улугбекский    50530.390805\n",
       "Олмазорский          48850.488189\n",
       "Яшнободский          44832.683036\n",
       "Учтепинский          44558.040230\n",
       "Чиланзарский         43993.622642\n",
       "Сергелийский         43417.426752\n",
       "Янгихаётский         37000.000000\n",
       "Бектемирский         29462.500000\n",
       "Name: price, dtype: float64"
      ]
     },
     "execution_count": 39,
     "metadata": {},
     "output_type": "execute_result"
    }
   ],
   "source": [
    "avg_price = df.groupby('district')['price'].mean().sort_values(ascending=False)\n",
    "avg_price"
   ]
  },
  {
   "cell_type": "code",
   "execution_count": 40,
   "id": "fQHPLUrIDxAF",
   "metadata": {
    "id": "fQHPLUrIDxAF",
    "scrolled": false
   },
   "outputs": [
    {
     "data": {
      "image/png": "[encoded data removed]",
      "text/plain": [
       "<Figure size 1600x800 with 1 Axes>"
      ]
     },
     "metadata": {},
     "output_type": "display_data"
    }
   ],
   "source": [
    "plt.figure(figsize=[16, 8])\n",
    "sns.barplot(x=avg_price.index, y=avg_price)\n",
    "plt.title(\"Average Price of Houses\")\n",
    "plt.xticks(rotation=15);"
   ]
  },
  {
   "cell_type": "code",
   "execution_count": 41,
   "id": "Yi91ipo3gE-f",
   "metadata": {
    "id": "Yi91ipo3gE-f"
   },
   "outputs": [
    {
     "data": {
      "text/html": [
       "<style type=\"text/css\">\n",
       "#T_2e823_row0_col0, #T_2e823_row1_col1, #T_2e823_row2_col2, #T_2e823_row3_col3, #T_2e823_row4_col4 {\n",
       "  background-color: #08306b;\n",
       "  color: #f1f1f1;\n",
       "}\n",
       "#T_2e823_row0_col1 {\n",
       "  background-color: #1562a9;\n",
       "  color: #f1f1f1;\n",
       "}\n",
       "#T_2e823_row0_col2 {\n",
       "  background-color: #e9f2fa;\n",
       "  color: #000000;\n",
       "}\n",
       "#T_2e823_row0_col3, #T_2e823_row2_col0, #T_2e823_row2_col1, #T_2e823_row2_col4, #T_2e823_row4_col2 {\n",
       "  background-color: #f7fbff;\n",
       "  color: #000000;\n",
       "}\n",
       "#T_2e823_row0_col4 {\n",
       "  background-color: #4e9acb;\n",
       "  color: #f1f1f1;\n",
       "}\n",
       "#T_2e823_row1_col0 {\n",
       "  background-color: #125ea6;\n",
       "  color: #f1f1f1;\n",
       "}\n",
       "#T_2e823_row1_col2, #T_2e823_row3_col1 {\n",
       "  background-color: #dbe9f6;\n",
       "  color: #000000;\n",
       "}\n",
       "#T_2e823_row1_col3 {\n",
       "  background-color: #d3e3f3;\n",
       "  color: #000000;\n",
       "}\n",
       "#T_2e823_row1_col4 {\n",
       "  background-color: #206fb4;\n",
       "  color: #f1f1f1;\n",
       "}\n",
       "#T_2e823_row2_col3 {\n",
       "  background-color: #65aad4;\n",
       "  color: #f1f1f1;\n",
       "}\n",
       "#T_2e823_row3_col0 {\n",
       "  background-color: #f2f7fd;\n",
       "  color: #000000;\n",
       "}\n",
       "#T_2e823_row3_col2 {\n",
       "  background-color: #56a0ce;\n",
       "  color: #f1f1f1;\n",
       "}\n",
       "#T_2e823_row3_col4 {\n",
       "  background-color: #d2e3f3;\n",
       "  color: #000000;\n",
       "}\n",
       "#T_2e823_row4_col0 {\n",
       "  background-color: #58a1cf;\n",
       "  color: #f1f1f1;\n",
       "}\n",
       "#T_2e823_row4_col1 {\n",
       "  background-color: #2b7bba;\n",
       "  color: #f1f1f1;\n",
       "}\n",
       "#T_2e823_row4_col3 {\n",
       "  background-color: #e3eef8;\n",
       "  color: #000000;\n",
       "}\n",
       "</style>\n",
       "<table id=\"T_2e823\">\n",
       "  <thead>\n",
       "    <tr>\n",
       "      <th class=\"blank level0\" >&nbsp;</th>\n",
       "      <th id=\"T_2e823_level0_col0\" class=\"col_heading level0 col0\" >rooms</th>\n",
       "      <th id=\"T_2e823_level0_col1\" class=\"col_heading level0 col1\" >size</th>\n",
       "      <th id=\"T_2e823_level0_col2\" class=\"col_heading level0 col2\" >level</th>\n",
       "      <th id=\"T_2e823_level0_col3\" class=\"col_heading level0 col3\" >max_levels</th>\n",
       "      <th id=\"T_2e823_level0_col4\" class=\"col_heading level0 col4\" >price</th>\n",
       "    </tr>\n",
       "  </thead>\n",
       "  <tbody>\n",
       "    <tr>\n",
       "      <th id=\"T_2e823_level0_row0\" class=\"row_heading level0 row0\" >rooms</th>\n",
       "      <td id=\"T_2e823_row0_col0\" class=\"data row0 col0\" >1.000000</td>\n",
       "      <td id=\"T_2e823_row0_col1\" class=\"data row0 col1\" >0.846877</td>\n",
       "      <td id=\"T_2e823_row0_col2\" class=\"data row0 col2\" >0.141529</td>\n",
       "      <td id=\"T_2e823_row0_col3\" class=\"data row0 col3\" >0.165177</td>\n",
       "      <td id=\"T_2e823_row0_col4\" class=\"data row0 col4\" >0.619922</td>\n",
       "    </tr>\n",
       "    <tr>\n",
       "      <th id=\"T_2e823_level0_row1\" class=\"row_heading level0 row1\" >size</th>\n",
       "      <td id=\"T_2e823_row1_col0\" class=\"data row1 col0\" >0.846877</td>\n",
       "      <td id=\"T_2e823_row1_col1\" class=\"data row1 col1\" >1.000000</td>\n",
       "      <td id=\"T_2e823_row1_col2\" class=\"data row1 col2\" >0.209476</td>\n",
       "      <td id=\"T_2e823_row1_col3\" class=\"data row1 col3\" >0.320719</td>\n",
       "      <td id=\"T_2e823_row1_col4\" class=\"data row1 col4\" >0.774511</td>\n",
       "    </tr>\n",
       "    <tr>\n",
       "      <th id=\"T_2e823_level0_row2\" class=\"row_heading level0 row2\" >level</th>\n",
       "      <td id=\"T_2e823_row2_col0\" class=\"data row2 col0\" >0.141529</td>\n",
       "      <td id=\"T_2e823_row2_col1\" class=\"data row2 col1\" >0.209476</td>\n",
       "      <td id=\"T_2e823_row2_col2\" class=\"data row2 col2\" >1.000000</td>\n",
       "      <td id=\"T_2e823_row2_col3\" class=\"data row2 col3\" >0.597209</td>\n",
       "      <td id=\"T_2e823_row2_col4\" class=\"data row2 col4\" >0.076230</td>\n",
       "    </tr>\n",
       "    <tr>\n",
       "      <th id=\"T_2e823_level0_row3\" class=\"row_heading level0 row3\" >max_levels</th>\n",
       "      <td id=\"T_2e823_row3_col0\" class=\"data row3 col0\" >0.165177</td>\n",
       "      <td id=\"T_2e823_row3_col1\" class=\"data row3 col1\" >0.320719</td>\n",
       "      <td id=\"T_2e823_row3_col2\" class=\"data row3 col2\" >0.597209</td>\n",
       "      <td id=\"T_2e823_row3_col3\" class=\"data row3 col3\" >1.000000</td>\n",
       "      <td id=\"T_2e823_row3_col4\" class=\"data row3 col4\" >0.252789</td>\n",
       "    </tr>\n",
       "    <tr>\n",
       "      <th id=\"T_2e823_level0_row4\" class=\"row_heading level0 row4\" >price</th>\n",
       "      <td id=\"T_2e823_row4_col0\" class=\"data row4 col0\" >0.619922</td>\n",
       "      <td id=\"T_2e823_row4_col1\" class=\"data row4 col1\" >0.774511</td>\n",
       "      <td id=\"T_2e823_row4_col2\" class=\"data row4 col2\" >0.076230</td>\n",
       "      <td id=\"T_2e823_row4_col3\" class=\"data row4 col3\" >0.252789</td>\n",
       "      <td id=\"T_2e823_row4_col4\" class=\"data row4 col4\" >1.000000</td>\n",
       "    </tr>\n",
       "  </tbody>\n",
       "</table>\n"
      ],
      "text/plain": [
       "<pandas.io.formats.style.Styler at 0x7eff6ca0e2f0>"
      ]
     },
     "execution_count": 41,
     "metadata": {},
     "output_type": "execute_result"
    }
   ],
   "source": [
    "%matplotlib inline\n",
    "df.corr(numeric_only=True).style.background_gradient(cmap='Blues')"
   ]
  },
  {
   "cell_type": "code",
   "execution_count": null,
   "id": "e203b4bb",
   "metadata": {},
   "outputs": [],
   "source": [
    "# sns.set(palette='deep')\n",
    "# sns.set_palette('deep')"
   ]
  },
  {
   "cell_type": "markdown",
   "id": "3l1smvkwcE6s",
   "metadata": {
    "id": "3l1smvkwcE6s"
   },
   "source": [
    "We can see there is good correlation between `price` and `size` columns."
   ]
  },
  {
   "cell_type": "code",
   "execution_count": null,
   "id": "HnPEm49inzga",
   "metadata": {
    "id": "HnPEm49inzga"
   },
   "outputs": [],
   "source": [
    "plt.figure(figsize=[15, 7])\n",
    "sns.scatterplot(data=df, x='size', y='price');"
   ]
  },
  {
   "cell_type": "code",
   "execution_count": null,
   "id": "X3C0KmaKgi-H",
   "metadata": {
    "id": "X3C0KmaKgi-H"
   },
   "outputs": [],
   "source": [
    "import warnings\n",
    "warnings.simplefilter('ignore')\n",
    "\n",
    "plt.figure(figsize=[18, 8])\n",
    "sns.stripplot(data=df, x='rooms', y='price');"
   ]
  },
  {
   "cell_type": "code",
   "execution_count": null,
   "id": "lw8QezB9gNQ_",
   "metadata": {
    "id": "lw8QezB9gNQ_"
   },
   "outputs": [],
   "source": [
    "plt.figure(figsize=[10, 5])\n",
    "sns.histplot(x=df.rooms);"
   ]
  },
  {
   "cell_type": "code",
   "execution_count": null,
   "id": "_eLQ-lELy24G",
   "metadata": {
    "id": "_eLQ-lELy24G"
   },
   "outputs": [],
   "source": [
    "plt.figure(figsize=[18, 8])\n",
    "sns.swarmplot(data=df, x='max_levels', y='price');"
   ]
  },
  {
   "cell_type": "code",
   "execution_count": null,
   "id": "mwshZMBag_rm",
   "metadata": {
    "id": "mwshZMBag_rm",
    "scrolled": true
   },
   "outputs": [],
   "source": [
    "plt.figure(figsize=[18, 8])\n",
    "sns.swarmplot(data=df, x='level', y='price');"
   ]
  },
  {
   "cell_type": "code",
   "execution_count": null,
   "id": "3EeJNzdI4bBi",
   "metadata": {
    "colab": {
     "base_uri": "https://localhost:8080/"
    },
    "executionInfo": {
     "elapsed": 316,
     "status": "ok",
     "timestamp": 1673697310218,
     "user": {
      "displayName": "Javohir Joniqulov",
      "userId": "15358722746631597524"
     },
     "user_tz": -300
    },
    "id": "3EeJNzdI4bBi",
    "outputId": "1bb17053-f44e-4835-a982-22866206c4b2"
   },
   "outputs": [],
   "source": [
    "df.corrwith(df['price']).sort_values(ascending=False)"
   ]
  },
  {
   "cell_type": "code",
   "execution_count": null,
   "id": "7-gGYt1mOXrv",
   "metadata": {
    "colab": {
     "base_uri": "https://localhost:8080/",
     "height": 206
    },
    "executionInfo": {
     "elapsed": 344,
     "status": "ok",
     "timestamp": 1673697314020,
     "user": {
      "displayName": "Javohir Joniqulov",
      "userId": "15358722746631597524"
     },
     "user_tz": -300
    },
    "id": "7-gGYt1mOXrv",
    "outputId": "864ac9ba-a6fd-4eb8-9541-11cd5c91f292"
   },
   "outputs": [],
   "source": [
    "df.head()"
   ]
  },
  {
   "cell_type": "markdown",
   "id": "rmxzOVrDgRcS",
   "metadata": {
    "id": "rmxzOVrDgRcS"
   },
   "source": [
    "### Data Preparation | Feature Engineering\n",
    "\n",
    "**Step by Step:**\n",
    "\n",
    "**1.** Handling Missing Values \\\n",
    "**2.** Exploring and Creating New Features \\\n",
    "**3.** Encoding Categorical Values \\\n",
    "**4.** Feature Scaling\n",
    "\n",
    "Since this is just an experiment and to avoid an unexpected modifications to the original df we will copy it to temporary df (We perform actual feature engineering with the pipeline):\n",
    "\n",
    "---"
   ]
  },
  {
   "cell_type": "code",
   "execution_count": null,
   "id": "98baf946",
   "metadata": {
    "scrolled": true
   },
   "outputs": [],
   "source": [
    "data = df.copy()\n",
    "data.head()"
   ]
  },
  {
   "cell_type": "markdown",
   "id": "29613f57",
   "metadata": {},
   "source": [
    "#### Handling Missing Values"
   ]
  },
  {
   "cell_type": "code",
   "execution_count": null,
   "id": "b52a6317",
   "metadata": {
    "id": "kJ8JCS5Z99QP"
   },
   "outputs": [],
   "source": [
    "# # Handling missing values (if we had NaN values)\n",
    "\n",
    "# imputer = SimpleImputer(strategy=\"mean\")\n",
    "# num_cols = data.drop(['location', 'district'], axis=1).columns\n",
    "# num_values = imputer.fit_transform(data[num_cols])\n",
    "# data_num = pd.DataFrame(num_values, columns=num_cols, index=data[num_cols].index)\n",
    "# data_num"
   ]
  },
  {
   "cell_type": "markdown",
   "id": "YRPL--bN_0dH",
   "metadata": {
    "id": "YRPL--bN_0dH"
   },
   "source": [
    "We do not have any missing values. It is beacuase in the process of handling outliers in visualization part, we also got rid of `NaN` values."
   ]
  },
  {
   "cell_type": "markdown",
   "id": "Q9HzkhQW3v9Q",
   "metadata": {
    "id": "Q9HzkhQW3v9Q"
   },
   "source": [
    "#### Exploring New Features\n",
    "\n",
    "We can create additional features from the current dataset in order to improve model accuracy:\n",
    "- `room_size_ratio`: The ratio of the number of rooms to the size of the house. It could be useful in identifying houses that have more rooms than their size would suggest, or vice versa.\n",
    "\n",
    "- `level_size_ratio`: The ratio of the number of levels to the size of the house. It could be useful in identifying houses that have more levels than their size would suggest, or vice versa.\n",
    "\n",
    "- `price_per_sqrt`: The price of the house divided by its size. It could be useful in identifying how much a house costs per square root, which can be a useful comparison metric.\n",
    "\n",
    "- `price_per_room`: The price of the house divided by the number of rooms. It could be useful in identifying how much a house costs per room, which can be a useful comparison metric.\n",
    "\n",
    "- `level_maxlevels_ratio`: The ratio of levels of the house to the maximum possible levels of the house. It could be useful in identifying houses that have higher or lower levels than their maximum possible levels.\n",
    "\n",
    "- `district_density`: We could use district column and count the number of houses in each district, and divide it by the size of the district to get a measure of the district density.\n",
    "\n",
    "- `location_density`: Similar to district density, we could use location column and count the number of houses in each location, and divide it by the size of the location to get a measure of the location density."
   ]
  },
  {
   "cell_type": "code",
   "execution_count": null,
   "id": "fF-QGGgKb9eS",
   "metadata": {
    "executionInfo": {
     "elapsed": 296,
     "status": "ok",
     "timestamp": 1673691081241,
     "user": {
      "displayName": "Javohir Joniqulov",
      "userId": "15358722746631597524"
     },
     "user_tz": -300
    },
    "id": "fF-QGGgKb9eS"
   },
   "outputs": [],
   "source": [
    "data['room_size_ratio'] = data['rooms'] / data['size']\n",
    "data['level_size_ratio'] = data['level'] / data['size']\n",
    "data['price_per_sqrt'] = data['price'] / data['size']\n",
    "data['price_per_room'] = data['price'] / data['rooms']\n",
    "data['level_maxlevels_ratio'] = data['level'] / data['max_levels']\n",
    "# Create a new column for district density\n",
    "district_counts = data['district'].value_counts()\n",
    "data['district_density'] = data['district'].map(district_counts) / len(data)\n",
    "# Create a new column for location density\n",
    "location_counts = data['location'].value_counts()\n",
    "data['location_density'] = data['location'].map(location_counts) / len(data)"
   ]
  },
  {
   "cell_type": "code",
   "execution_count": null,
   "id": "OCat47p-gUrs",
   "metadata": {
    "colab": {
     "base_uri": "https://localhost:8080/"
    },
    "executionInfo": {
     "elapsed": 13,
     "status": "ok",
     "timestamp": 1673697338876,
     "user": {
      "displayName": "Javohir Joniqulov",
      "userId": "15358722746631597524"
     },
     "user_tz": -300
    },
    "id": "OCat47p-gUrs",
    "outputId": "6677f9ec-ec44-4b71-ed10-2db245057c28"
   },
   "outputs": [],
   "source": [
    "data.info()"
   ]
  },
  {
   "cell_type": "code",
   "execution_count": null,
   "id": "Ju92Hhn0bPNe",
   "metadata": {
    "colab": {
     "base_uri": "https://localhost:8080/"
    },
    "executionInfo": {
     "elapsed": 4,
     "status": "ok",
     "timestamp": 1673691081562,
     "user": {
      "displayName": "Javohir Joniqulov",
      "userId": "15358722746631597524"
     },
     "user_tz": -300
    },
    "id": "Ju92Hhn0bPNe",
    "outputId": "57af4b87-ae81-453a-ee42-d1ad279aa517"
   },
   "outputs": [],
   "source": [
    "data.corrwith(data['price']).sort_values(ascending=False)"
   ]
  },
  {
   "cell_type": "markdown",
   "id": "13a73313",
   "metadata": {},
   "source": [
    "#### Encoding Categorical Values"
   ]
  },
  {
   "cell_type": "code",
   "execution_count": null,
   "id": "tYPbe-Q__8xh",
   "metadata": {
    "colab": {
     "base_uri": "https://localhost:8080/",
     "height": 206
    },
    "executionInfo": {
     "elapsed": 336,
     "status": "ok",
     "timestamp": 1673697468713,
     "user": {
      "displayName": "Javohir Joniqulov",
      "userId": "15358722746631597524"
     },
     "user_tz": -300
    },
    "id": "tYPbe-Q__8xh",
    "outputId": "b733b03b-9f22-4cb2-b771-4d7daaee0822"
   },
   "outputs": [],
   "source": [
    "data.head()"
   ]
  },
  {
   "cell_type": "code",
   "execution_count": null,
   "id": "6MArCpVJ9yEB",
   "metadata": {
    "colab": {
     "base_uri": "https://localhost:8080/"
    },
    "executionInfo": {
     "elapsed": 341,
     "status": "ok",
     "timestamp": 1673697471348,
     "user": {
      "displayName": "Javohir Joniqulov",
      "userId": "15358722746631597524"
     },
     "user_tz": -300
    },
    "id": "6MArCpVJ9yEB",
    "outputId": "1e9d10f2-6a9a-44ac-ac36-ee59f474999e"
   },
   "outputs": [],
   "source": [
    "data['location'].value_counts()"
   ]
  },
  {
   "cell_type": "markdown",
   "id": "zqKWI07tB13S",
   "metadata": {
    "id": "zqKWI07tB13S"
   },
   "source": [
    "This feature confusing, we remove it."
   ]
  },
  {
   "cell_type": "code",
   "execution_count": null,
   "id": "d9XLTYYUBvwb",
   "metadata": {
    "colab": {
     "base_uri": "https://localhost:8080/",
     "height": 206
    },
    "executionInfo": {
     "elapsed": 12,
     "status": "ok",
     "timestamp": 1673697472906,
     "user": {
      "displayName": "Javohir Joniqulov",
      "userId": "15358722746631597524"
     },
     "user_tz": -300
    },
    "id": "d9XLTYYUBvwb",
    "outputId": "1b0052ea-6c50-4420-b90f-a3c5f6299e45"
   },
   "outputs": [],
   "source": [
    "data.drop('location', axis=1, inplace=True)\n",
    "data.head()"
   ]
  },
  {
   "cell_type": "markdown",
   "id": "NAmvVtp87zZD",
   "metadata": {
    "id": "NAmvVtp87zZD"
   },
   "source": [
    "We only have the `district` categorical column that has to be encoded."
   ]
  },
  {
   "cell_type": "code",
   "execution_count": null,
   "id": "DNGV0wpNDLkD",
   "metadata": {
    "colab": {
     "base_uri": "https://localhost:8080/"
    },
    "executionInfo": {
     "elapsed": 323,
     "status": "ok",
     "timestamp": 1673697476578,
     "user": {
      "displayName": "Javohir Joniqulov",
      "userId": "15358722746631597524"
     },
     "user_tz": -300
    },
    "id": "DNGV0wpNDLkD",
    "outputId": "94237f66-08cb-4b11-ac2d-e67a5a4b02a6"
   },
   "outputs": [],
   "source": [
    "data[['district']].value_counts()"
   ]
  },
  {
   "cell_type": "code",
   "execution_count": null,
   "id": "3a_fcgc0xz--",
   "metadata": {
    "colab": {
     "base_uri": "https://localhost:8080/"
    },
    "executionInfo": {
     "elapsed": 310,
     "status": "ok",
     "timestamp": 1673697479211,
     "user": {
      "displayName": "Javohir Joniqulov",
      "userId": "15358722746631597524"
     },
     "user_tz": -300
    },
    "id": "3a_fcgc0xz--",
    "outputId": "51a5d59e-9034-433b-b92a-424100ef9a5b"
   },
   "outputs": [],
   "source": [
    "cat_encoder = OneHotEncoder()\n",
    "data_cat1hot = cat_encoder.fit_transform(df[['district']])\n",
    "data_cat1hot.toarray()"
   ]
  },
  {
   "cell_type": "markdown",
   "id": "mISnS-vMH56T",
   "metadata": {
    "id": "mISnS-vMH56T"
   },
   "source": [
    "#### Feature Scaling\n",
    "We need to bring all values to a common range."
   ]
  },
  {
   "cell_type": "code",
   "execution_count": null,
   "id": "fYPtxR1WR_cS",
   "metadata": {
    "colab": {
     "base_uri": "https://localhost:8080/",
     "height": 175
    },
    "executionInfo": {
     "elapsed": 345,
     "status": "ok",
     "timestamp": 1673700100188,
     "user": {
      "displayName": "Javohir Joniqulov",
      "userId": "15358722746631597524"
     },
     "user_tz": -300
    },
    "id": "fYPtxR1WR_cS",
    "outputId": "37f71142-b02f-4c76-eea9-662f4f854cb5"
   },
   "outputs": [],
   "source": [
    "data.describe().T"
   ]
  },
  {
   "cell_type": "code",
   "execution_count": null,
   "id": "949c09cc",
   "metadata": {},
   "outputs": [],
   "source": [
    "data.head()"
   ]
  },
  {
   "cell_type": "code",
   "execution_count": null,
   "id": "TUbsP-pWH7RD",
   "metadata": {
    "colab": {
     "base_uri": "https://localhost:8080/"
    },
    "executionInfo": {
     "elapsed": 313,
     "status": "ok",
     "timestamp": 1673700272379,
     "user": {
      "displayName": "Javohir Joniqulov",
      "userId": "15358722746631597524"
     },
     "user_tz": -300
    },
    "id": "TUbsP-pWH7RD",
    "outputId": "3b701c8c-6a7d-4a63-fe5a-c5288ac221d6"
   },
   "outputs": [],
   "source": [
    "standart_scaler = StandardScaler()\n",
    "standart_scaler.fit_transform(data.iloc[:, 1:])"
   ]
  },
  {
   "cell_type": "markdown",
   "id": "VI-2DuaMguEP",
   "metadata": {
    "id": "VI-2DuaMguEP"
   },
   "source": [
    "### Pipeline for Feature Engineering\n",
    "\n",
    "We can combine all the processes so far into a single pipeline, with this, we can automate Feature Engineering:\n",
    "  - Handling missing(`NaN`) values (`SimpleImputer`)\n",
    "  - Encoding categorical values (`OneHotEncoder`)\n",
    "  - Transformer for adding extra features\n",
    "  - Scaling numeric values (`StandardScaler`)\n",
    "\n",
    "And combine all and return 1 prepared dataset."
   ]
  },
  {
   "cell_type": "markdown",
   "id": "LdsF4IpmHvpW",
   "metadata": {
    "id": "LdsF4IpmHvpW"
   },
   "source": [
    "#### Transformer\n",
    "Transformer for adding extra features for `X_train` set."
   ]
  },
  {
   "cell_type": "code",
   "execution_count": null,
   "id": "bb5476b7",
   "metadata": {
    "scrolled": true
   },
   "outputs": [],
   "source": [
    "df.shape"
   ]
  },
  {
   "cell_type": "code",
   "execution_count": null,
   "id": "pjlLQpw31apu",
   "metadata": {
    "executionInfo": {
     "elapsed": 306,
     "status": "ok",
     "timestamp": 1673697455546,
     "user": {
      "displayName": "Javohir Joniqulov",
      "userId": "15358722746631597524"
     },
     "user_tz": -300
    },
    "id": "pjlLQpw31apu"
   },
   "outputs": [],
   "source": [
    "# Split train and test set\n",
    "X = df.drop('price', axis=1)\n",
    "y = df['price']\n",
    "X_train, X_test, y_train, y_test = train_test_split(X, y, test_size=0.2, random_state=42)\n",
    "\n",
    "print('X_train:', X_train.shape)\n",
    "print('y_train:', y_train.shape)\n",
    "print('X_test:', X_test.shape)\n",
    "print('y_test:', y_test.shape)"
   ]
  },
  {
   "cell_type": "code",
   "execution_count": null,
   "id": "d68c4170",
   "metadata": {
    "scrolled": true
   },
   "outputs": [],
   "source": [
    "X_train.head()"
   ]
  },
  {
   "cell_type": "code",
   "execution_count": null,
   "id": "xRP9Pi0Mbqvi",
   "metadata": {
    "executionInfo": {
     "elapsed": 333,
     "status": "ok",
     "timestamp": 1673699633859,
     "user": {
      "displayName": "Javohir Joniqulov",
      "userId": "15358722746631597524"
     },
     "user_tz": -300
    },
    "id": "xRP9Pi0Mbqvi",
    "scrolled": true
   },
   "outputs": [],
   "source": [
    "# Indices of columns we need in X_train\n",
    "rooms_ix, size_ix, level_ix, max_levels_ix = 0, 1, 2, 3\n",
    "\n",
    "class ExtraFeaturesAdder(BaseEstimator, TransformerMixin):\n",
    "    \n",
    "    def fit(self, X, y=None):\n",
    "        return self  # our function is transformer not estimator\n",
    "    \n",
    "    def transform(self, X):\n",
    "        if type(X) != np.ndarray:\n",
    "            X = X.values\n",
    "        \n",
    "        price_per_sqrt = price / X[:, size_ix]\n",
    "        price_per_room = price / X[:, rooms_ix]\n",
    "        level_size_ratio = X[:, level_ix] / X[:, size_ix]\n",
    "        level_maxlevels_ratio = X[:, level_ix] / X[:, max_levels_ix]\n",
    "        room_size_ratio = X[:, rooms_ix] / X[:, size_ix]\n",
    "        # creating a new column for district density\n",
    "        district_density = pd.Series(district).map(district.value_counts()) / len(X)\n",
    "\n",
    "        return np.c_[X, price_per_sqrt, price_per_room, level_size_ratio,\n",
    "                       district_density, level_maxlevels_ratio, room_size_ratio]"
   ]
  },
  {
   "cell_type": "code",
   "execution_count": null,
   "id": "k-BYW-SBgvtm",
   "metadata": {
    "id": "k-BYW-SBgvtm"
   },
   "outputs": [],
   "source": [
    "num_cols = make_column_selector(dtype_include='number')\n",
    "cat_col = ['district']\n",
    "\n",
    "preprocessor_pipeline = make_column_transformer(\n",
    "    (make_pipeline(ExtraFeaturesAdder(), StandardScaler()), num_cols),\n",
    "    (OneHotEncoder(), cat_col)\n",
    ")"
   ]
  },
  {
   "cell_type": "code",
   "execution_count": null,
   "id": "a80a3baf",
   "metadata": {},
   "outputs": [],
   "source": [
    "district = X_train['district'].copy()\n",
    "price = y_train.copy()\n",
    "\n",
    "X_train_set = preprocessor_pipeline.fit_transform(X_train)\n",
    "X_train_set"
   ]
  },
  {
   "cell_type": "markdown",
   "id": "cd9dadd0",
   "metadata": {},
   "source": [
    "The dataset is ready for Machine Learning!\n",
    "\n",
    "---"
   ]
  },
  {
   "cell_type": "markdown",
   "id": "OqUGaG53gxUo",
   "metadata": {
    "id": "OqUGaG53gxUo"
   },
   "source": [
    "### Modeling / Machine Learning"
   ]
  },
  {
   "cell_type": "code",
   "execution_count": null,
   "id": "0221d10f",
   "metadata": {},
   "outputs": [],
   "source": [
    "# take a look at the shape of the train set\n",
    "print(X_train_set.shape)\n",
    "print(y_train.shape)"
   ]
  },
  {
   "cell_type": "markdown",
   "id": "3db1f3c5",
   "metadata": {},
   "source": [
    "#### Linear Regression"
   ]
  },
  {
   "cell_type": "code",
   "execution_count": null,
   "id": "911pAZPLgzzm",
   "metadata": {
    "id": "911pAZPLgzzm"
   },
   "outputs": [],
   "source": [
    "LR_model = LinearRegression()\n",
    "# training a linear regression model\n",
    "LR_model.fit(X_train_set, y_train)"
   ]
  },
  {
   "cell_type": "markdown",
   "id": "64c0c30c",
   "metadata": {},
   "source": [
    "Testing the model"
   ]
  },
  {
   "cell_type": "code",
   "execution_count": null,
   "id": "7af2d446",
   "metadata": {},
   "outputs": [],
   "source": [
    "# select 5 random rows from X_train\n",
    "test_data = X_train.sample(5)\n",
    "test_data"
   ]
  },
  {
   "cell_type": "code",
   "execution_count": null,
   "id": "b28a0952",
   "metadata": {
    "scrolled": true
   },
   "outputs": [],
   "source": [
    "# we extract the prices corresponding to test_data\n",
    "test_label = y_train.loc[test_data.index]\n",
    "test_label"
   ]
  },
  {
   "cell_type": "code",
   "execution_count": null,
   "id": "6a22acab",
   "metadata": {},
   "outputs": [],
   "source": [
    "# Preprocessing for test_data\n",
    "district = test_data['district'].copy()\n",
    "price = test_label.copy()\n",
    "\n",
    "test_data_set = preprocessor_pipeline.transform(test_data)\n",
    "test_data_set"
   ]
  },
  {
   "cell_type": "code",
   "execution_count": null,
   "id": "74cfd780",
   "metadata": {},
   "outputs": [],
   "source": [
    "# Prediction\n",
    "pred_test_data = LR_model.predict(test_data_set)\n",
    "pred_test_data"
   ]
  },
  {
   "cell_type": "code",
   "execution_count": null,
   "id": "d00157dd",
   "metadata": {},
   "outputs": [],
   "source": [
    "pd.DataFrame({'Prediction': pred_test_data, 'Real': test_label})"
   ]
  },
  {
   "cell_type": "markdown",
   "id": "HGfmnruCg31O",
   "metadata": {
    "id": "HGfmnruCg31O"
   },
   "source": [
    "### Evaluation"
   ]
  },
  {
   "cell_type": "code",
   "execution_count": null,
   "id": "V-ZneEtvg5w1",
   "metadata": {
    "id": "V-ZneEtvg5w1"
   },
   "outputs": [],
   "source": [
    "# Predictors for test set\n",
    "X_test"
   ]
  },
  {
   "cell_type": "code",
   "execution_count": null,
   "id": "cbb0ff38",
   "metadata": {},
   "outputs": [],
   "source": [
    "# Labels for test set\n",
    "y_test"
   ]
  },
  {
   "cell_type": "code",
   "execution_count": null,
   "id": "e031ea9d",
   "metadata": {},
   "outputs": [],
   "source": [
    "# Preprocessing for X_test\n",
    "district = X_test['district'].copy()\n",
    "price = y_test.copy()\n",
    "\n",
    "X_test_set = preprocessor_pipeline.transform(X_test)\n",
    "X_test_set"
   ]
  },
  {
   "cell_type": "code",
   "execution_count": null,
   "id": "6aaeaf0b",
   "metadata": {},
   "outputs": [],
   "source": [
    "# Prediction\n",
    "y_predict = LR_model.predict(X_test_set)"
   ]
  },
  {
   "cell_type": "markdown",
   "id": "4599921c",
   "metadata": {},
   "source": [
    "We use Root Mean Square Error (RMSE) to compare prediction and real data:"
   ]
  },
  {
   "cell_type": "code",
   "execution_count": null,
   "id": "47f0d7ba",
   "metadata": {},
   "outputs": [],
   "source": [
    "lin_mse = mean_squared_error(y_test, y_predict)\n",
    "\n",
    "print(f\"RMSE: {np.sqrt(lin_mse)}\")\n",
    "print(f\"MAE: {mean_absolute_error(y_test, y_predict)}\")"
   ]
  },
  {
   "cell_type": "markdown",
   "id": "aca566f5",
   "metadata": {},
   "source": [
    "We will try other models to see if there is a better result."
   ]
  },
  {
   "cell_type": "markdown",
   "id": "47e662db",
   "metadata": {},
   "source": [
    "#### Decision Tree"
   ]
  },
  {
   "cell_type": "code",
   "execution_count": null,
   "id": "b5f1b63e",
   "metadata": {},
   "outputs": [],
   "source": [
    "Tree_model = DecisionTreeRegressor()\n",
    "Tree_model.fit(X_train_set, y_train)"
   ]
  },
  {
   "cell_type": "code",
   "execution_count": null,
   "id": "8d1ab125",
   "metadata": {},
   "outputs": [],
   "source": [
    "# prediction\n",
    "y_pred = Tree_model.predict(X_test_set)\n",
    "\n",
    "# evaluation\n",
    "lin_mse = mean_squared_error(y_test, y_pred)\n",
    "\n",
    "print(f\"RMSE: {np.sqrt(lin_mse)}\")\n",
    "print(f\"MAE: {mean_absolute_error(y_test, y_pred)}\")"
   ]
  },
  {
   "cell_type": "markdown",
   "id": "06f90918",
   "metadata": {},
   "source": [
    "*Better than before!*"
   ]
  },
  {
   "cell_type": "markdown",
   "id": "b3be2bec",
   "metadata": {},
   "source": [
    "#### Random Forest"
   ]
  },
  {
   "cell_type": "code",
   "execution_count": null,
   "id": "535d1888",
   "metadata": {},
   "outputs": [],
   "source": [
    "RF_model = RandomForestRegressor()\n",
    "RF_model.fit(X_train_set, y_train)"
   ]
  },
  {
   "cell_type": "code",
   "execution_count": null,
   "id": "39a640c7",
   "metadata": {
    "scrolled": true
   },
   "outputs": [],
   "source": [
    "# prediction\n",
    "y_pred = RF_model.predict(X_test_set)\n",
    "\n",
    "# evaluation\n",
    "lin_mse = mean_squared_error(y_test, y_pred)\n",
    "\n",
    "print(f\"RMSE: {np.sqrt(lin_mse)}\")\n",
    "print(f\"MAE: {mean_absolute_error(y_test, y_pred)}\")"
   ]
  },
  {
   "cell_type": "markdown",
   "id": "3710a4d6",
   "metadata": {},
   "source": [
    "*Much better!*"
   ]
  },
  {
   "cell_type": "markdown",
   "id": "179dc5c4",
   "metadata": {},
   "source": [
    "### Cross-Validation"
   ]
  },
  {
   "cell_type": "code",
   "execution_count": null,
   "id": "ae48fa06",
   "metadata": {},
   "outputs": [],
   "source": [
    "X.head()"
   ]
  },
  {
   "cell_type": "code",
   "execution_count": null,
   "id": "aa3b37c0",
   "metadata": {},
   "outputs": [],
   "source": [
    "y.head()"
   ]
  },
  {
   "cell_type": "code",
   "execution_count": null,
   "id": "42c888fc",
   "metadata": {},
   "outputs": [],
   "source": [
    "print(X.shape)\n",
    "print(y.shape)"
   ]
  },
  {
   "cell_type": "code",
   "execution_count": null,
   "id": "57f395e7",
   "metadata": {},
   "outputs": [],
   "source": [
    "# Preprocessing for X dataset\n",
    "district = X['district'].copy()\n",
    "price = y.copy()\n",
    "\n",
    "X_set = preprocessor_pipeline.transform(X)\n",
    "X_set"
   ]
  },
  {
   "cell_type": "code",
   "execution_count": null,
   "id": "b53604fd",
   "metadata": {},
   "outputs": [],
   "source": [
    "# Simple function for printing validation results\n",
    "def display_scores(scores):\n",
    "    print(f\"Scores: {scores}\")\n",
    "    print(f\"Mean: {scores.mean()}\")\n",
    "    print(f\"STD: {scores.std()}\")"
   ]
  },
  {
   "cell_type": "markdown",
   "id": "99e7b99a",
   "metadata": {},
   "source": [
    "#### LinearRegression"
   ]
  },
  {
   "cell_type": "code",
   "execution_count": null,
   "id": "6e8d14d5",
   "metadata": {},
   "outputs": [],
   "source": [
    "# validating with MSE\n",
    "mse_scores = cross_val_score(LR_model, X_set, y, scoring=\"neg_mean_squared_error\", cv=10)\n",
    "LR_rmse_scores = np.sqrt(-mse_scores)\n",
    "# validating with MAE\n",
    "LR_mae_scores = cross_val_score(LR_model, X_set, y, scoring=\"neg_mean_absolute_error\", cv=10)\n",
    "\n",
    "print(\"---------- RMSE scores: ----------\")\n",
    "display_scores(LR_rmse_scores)\n",
    "print(\"\\n---------- MAE scores: ----------\")\n",
    "display_scores(-LR_mae_scores)"
   ]
  },
  {
   "cell_type": "markdown",
   "id": "3bd1cb3f",
   "metadata": {},
   "source": [
    "#### DecisionTree"
   ]
  },
  {
   "cell_type": "code",
   "execution_count": null,
   "id": "e20b272e",
   "metadata": {},
   "outputs": [],
   "source": [
    "# validating with MSE\n",
    "mse_scores = cross_val_score(Tree_model, X_set, y, scoring=\"neg_mean_squared_error\", cv=10)\n",
    "Tree_rmse_scores = np.sqrt(-mse_scores)\n",
    "# validating with MAE\n",
    "Tree_mae_scores = cross_val_score(Tree_model, X_set, y, scoring=\"neg_mean_absolute_error\", cv=10)\n",
    "\n",
    "print(\"---------- RMSE scores: ----------\")\n",
    "display_scores(Tree_rmse_scores)\n",
    "print(\"\\n---------- MAE scores: ----------\")\n",
    "display_scores(-Tree_mae_scores)"
   ]
  },
  {
   "cell_type": "markdown",
   "id": "99b9e82e",
   "metadata": {},
   "source": [
    "#### RandomForest"
   ]
  },
  {
   "cell_type": "code",
   "execution_count": null,
   "id": "a140ee19",
   "metadata": {},
   "outputs": [],
   "source": [
    "# validating with MSE\n",
    "mse_scores = cross_val_score(RF_model, X_set, y, scoring=\"neg_mean_squared_error\", cv=10)\n",
    "RF_rmse_scores = np.sqrt(-mse_scores)\n",
    "# validating with MAE\n",
    "RF_mea_scores = cross_val_score(RF_model, X_set, y, scoring=\"neg_mean_absolute_error\", cv=10)\n",
    "\n",
    "print(\"---------- RMSE scores: ----------\")\n",
    "display_scores(RF_rmse_scores)\n",
    "print(\"\\n---------- MAE scores: ----------\")\n",
    "display_scores(-RF_mea_scores)"
   ]
  },
  {
   "cell_type": "markdown",
   "id": "bd8506fd",
   "metadata": {},
   "source": [
    "**Conclusion:**\n",
    "\n",
    "The best performing model -> *RF_model - RandomForestRegressor*. `RMSE: ~1150` and `MAE: ~340`\n",
    "\n",
    "---"
   ]
  },
  {
   "cell_type": "markdown",
   "id": "qbabhmGtg6am",
   "metadata": {
    "id": "qbabhmGtg6am"
   },
   "source": [
    "### Saving the Model\n",
    "\n",
    "`!pip install joblib`"
   ]
  },
  {
   "cell_type": "code",
   "execution_count": null,
   "id": "d2f13c76",
   "metadata": {},
   "outputs": [],
   "source": [
    "import joblib\n",
    "\n",
    "joblib.dump(RF_model, \"Tashkent_house_price_rf_pred.jbl\")"
   ]
  },
  {
   "cell_type": "markdown",
   "id": "39a82eb8",
   "metadata": {},
   "source": [
    "**Using the model:**"
   ]
  },
  {
   "cell_type": "code",
   "execution_count": null,
   "id": "bacb5b29",
   "metadata": {},
   "outputs": [],
   "source": [
    "model = joblib.load(\"tashkent_house_price_pred.jbl\")"
   ]
  },
  {
   "cell_type": "code",
   "execution_count": null,
   "id": "df22713b",
   "metadata": {},
   "outputs": [],
   "source": [
    "model.score(X_test_set, y_test)"
   ]
  }
 ],
 "metadata": {
  "colab": {
   "provenance": []
  },
  "kernelspec": {
   "display_name": "Python [conda env:mohirdsai] *",
   "language": "python",
   "name": "conda-env-mohirdsai-py"
  },
  "language_info": {
   "codemirror_mode": {
    "name": "ipython",
    "version": 3
   },
   "file_extension": ".py",
   "mimetype": "text/x-python",
   "name": "python",
   "nbconvert_exporter": "python",
   "pygments_lexer": "ipython3",
   "version": "3.10.6"
  }
 },
 "nbformat": 4,
 "nbformat_minor": 5
}
