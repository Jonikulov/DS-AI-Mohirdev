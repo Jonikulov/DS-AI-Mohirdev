{
 "cells": [
  {
   "cell_type": "markdown",
   "metadata": {
    "id": "9VhOLQBN2Gfb"
   },
   "source": [
    "---\n",
    "# Data Science and Artificial Intelliegence Practicum\n",
    "## 4-modul. Data Visualization\n",
    "---"
   ]
  },
  {
   "cell_type": "markdown",
   "metadata": {
    "id": "cwvoFUZ7tkDF"
   },
   "source": [
    "![visualization.png](https://mohirdevbucket.s3.eu-central-1.amazonaws.com/practicum/images/450b9804-6635-43cb-8ec4-72000eec0bd5.original.png)"
   ]
  },
  {
   "cell_type": "markdown",
   "metadata": {
    "id": "Jpd9iBHc6kwr"
   },
   "source": [
    "## 4.14 - Real estate prices in Tashkent\n",
    "\n",
    "- https://www.kaggle.com/datasets/anvarnarz/tashkent-real-estate-2019/"
   ]
  },
  {
   "cell_type": "code",
   "execution_count": null,
   "metadata": {
    "id": "K5JM2X1BQkKA"
   },
   "outputs": [],
   "source": [
    "import numpy as np\n",
    "import pandas as pd\n",
    "import matplotlib.pyplot as plt\n",
    "import seaborn as sns\n",
    "%matplotlib inline"
   ]
  },
  {
   "cell_type": "markdown",
   "metadata": {
    "id": "vovk1anemGXf"
   },
   "source": [
    "### `matplotlib.pyplot.subplot`\n",
    "\n",
    "Add an Axes to the current figure or retrieve an existing Axes."
   ]
  }
 ],
 "metadata": {
  "colab": {
   "collapsed_sections": [],
   "name": "4_14-Data_Analysis-Real_estate_prices.ipynb",
   "provenance": [],
   "toc_visible": true
  },
  "gpuClass": "standard",
  "kernelspec": {
   "display_name": "Python 3 (ipykernel)",
   "language": "python",
   "name": "python3"
  },
  "language_info": {
   "codemirror_mode": {
    "name": "ipython",
    "version": 3
   },
   "file_extension": ".py",
   "mimetype": "text/x-python",
   "name": "python",
   "nbconvert_exporter": "python",
   "pygments_lexer": "ipython3",
   "version": "3.9.19"
  }
 },
 "nbformat": 4,
 "nbformat_minor": 4
}
