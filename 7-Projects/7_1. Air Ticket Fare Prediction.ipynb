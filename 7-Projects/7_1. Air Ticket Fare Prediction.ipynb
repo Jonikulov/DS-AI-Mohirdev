{
 "cells": [
  {
   "cell_type": "markdown",
   "id": "bde67af2",
   "metadata": {
    "papermill": {
     "duration": 0.014903,
     "end_time": "2023-07-15T14:22:24.693527",
     "exception": false,
     "start_time": "2023-07-15T14:22:24.678624",
     "status": "completed"
    },
    "tags": []
   },
   "source": [
    "# **Aviachipta Narxini Bashorat Qilish**\n",
    "\n",
    "![image.png](https://sputnik.kz/img/1021/14/10211465_0:98:1920:1178_2072x0_60_0_0_21e2cc78e5b83d6bfc3ebd26307d6707.jpg)\n",
    "©️ image: sputnik.kz\n",
    "\n",
    "---\n",
    "\n",
    "## Business Understanding\n",
    "\n",
    "- **Hindiston samolyot parvozlarining ma'lumotlari berilgan. Ulardan foydalangan holda chipta narxlarini bashorat qilish.**"
   ]
  },
  {
   "cell_type": "markdown",
   "id": "3175cfd0",
   "metadata": {
    "papermill": {
     "duration": 0.014106,
     "end_time": "2023-07-15T14:22:24.722273",
     "exception": false,
     "start_time": "2023-07-15T14:22:24.708167",
     "status": "completed"
    },
    "tags": []
   },
   "source": [
    "## Exploratory Data Analysis\n",
    "\n",
    "**Dataset Description**:\n",
    "- **`ID`** - Ketma - ketlik uchun qo'yilgan sonlar.\n",
    "- **`Airline`** - Parvoz qilingan aviakompaniya nomi.\n",
    "- **`Flight`** - Parvoz qilingan ID raqami.\n",
    "- **`Source_city`** - Parvoz qaysi shahardan boshlanishi.\n",
    "- **`Departure_time`** - Samolyotning ketish vaqti.\n",
    "- **`Stop`** - Parvoz davomida to'xtashlar soni.\n",
    "- **`Arrival_time`** - Qaytish vaqti.\n",
    "- **`Destination_city`** - Qaysi davlatga parvoz qilinayotgani.\n",
    "- **`Class`** - Foydalanuvchi samolyotning qaysi klass turidan foydalanib uchganligi.\n",
    "- **`Duration`** - Parvoz davomiyligi.\n",
    "- **`Days_left`** - Samolyotning qancha vaqtdan keyin uchishi."
   ]
  },
  {
   "cell_type": "code",
   "execution_count": 1,
   "id": "56aa987b",
   "metadata": {
    "execution": {
     "iopub.execute_input": "2023-07-15T14:22:24.754658Z",
     "iopub.status.busy": "2023-07-15T14:22:24.753970Z",
     "iopub.status.idle": "2023-07-15T14:22:27.073386Z",
     "shell.execute_reply": "2023-07-15T14:22:27.072434Z"
    },
    "papermill": {
     "duration": 2.339639,
     "end_time": "2023-07-15T14:22:27.076309",
     "exception": false,
     "start_time": "2023-07-15T14:22:24.736670",
     "status": "completed"
    },
    "tags": []
   },
   "outputs": [],
   "source": [
    "import time\n",
    "import numpy as np\n",
    "import pandas as pd\n",
    "import matplotlib.pyplot as plt\n",
    "import seaborn as sns\n",
    "\n",
    "from sklearn.preprocessing import StandardScaler\n",
    "from sklearn.model_selection import KFold, GridSearchCV\n",
    "from sklearn.metrics import r2_score, mean_squared_error, mean_absolute_error\n",
    "from sklearn.tree import DecisionTreeRegressor\n",
    "from sklearn.ensemble import RandomForestRegressor\n",
    "from xgboost import XGBRegressor\n",
    "\n",
    "sns.set()"
   ]
  },
  {
   "cell_type": "code",
   "execution_count": 2,
   "id": "9d3449cd",
   "metadata": {
    "execution": {
     "iopub.execute_input": "2023-07-15T14:22:27.106925Z",
     "iopub.status.busy": "2023-07-15T14:22:27.106243Z",
     "iopub.status.idle": "2023-07-15T14:22:27.208068Z",
     "shell.execute_reply": "2023-07-15T14:22:27.207065Z"
    },
    "papermill": {
     "duration": 0.119958,
     "end_time": "2023-07-15T14:22:27.210633",
     "exception": false,
     "start_time": "2023-07-15T14:22:27.090675",
     "status": "completed"
    },
    "tags": []
   },
   "outputs": [],
   "source": [
    "train = pd.read_csv(\"/kaggle/input/aviachipta-narxini-bashorat-qilish/train_data.csv\")\n",
    "test = pd.read_csv(\"/kaggle/input/aviachipta-narxini-bashorat-qilish/test_data.csv\")\n",
    "sample_sub = pd.read_csv(\"/kaggle/input/aviachipta-narxini-bashorat-qilish/sample_solution.csv\")"
   ]
  },
  {
   "cell_type": "code",
   "execution_count": 3,
   "id": "f8e0b921",
   "metadata": {
    "execution": {
     "iopub.execute_input": "2023-07-15T14:22:27.241583Z",
     "iopub.status.busy": "2023-07-15T14:22:27.241192Z",
     "iopub.status.idle": "2023-07-15T14:22:27.275785Z",
     "shell.execute_reply": "2023-07-15T14:22:27.274643Z"
    },
    "papermill": {
     "duration": 0.053144,
     "end_time": "2023-07-15T14:22:27.278496",
     "exception": false,
     "start_time": "2023-07-15T14:22:27.225352",
     "status": "completed"
    },
    "tags": []
   },
   "outputs": [
    {
     "data": {
      "text/html": [
       "<div>\n",
       "<style scoped>\n",
       "    .dataframe tbody tr th:only-of-type {\n",
       "        vertical-align: middle;\n",
       "    }\n",
       "\n",
       "    .dataframe tbody tr th {\n",
       "        vertical-align: top;\n",
       "    }\n",
       "\n",
       "    .dataframe thead th {\n",
       "        text-align: right;\n",
       "    }\n",
       "</style>\n",
       "<table border=\"1\" class=\"dataframe\">\n",
       "  <thead>\n",
       "    <tr style=\"text-align: right;\">\n",
       "      <th></th>\n",
       "      <th>id</th>\n",
       "      <th>airline</th>\n",
       "      <th>flight</th>\n",
       "      <th>source_city</th>\n",
       "      <th>departure_time</th>\n",
       "      <th>stops</th>\n",
       "      <th>arrival_time</th>\n",
       "      <th>destination_city</th>\n",
       "      <th>class</th>\n",
       "      <th>duration</th>\n",
       "      <th>days_left</th>\n",
       "      <th>price</th>\n",
       "    </tr>\n",
       "  </thead>\n",
       "  <tbody>\n",
       "    <tr>\n",
       "      <th>0</th>\n",
       "      <td>1</td>\n",
       "      <td>Vistara</td>\n",
       "      <td>UK-810</td>\n",
       "      <td>Bangalore</td>\n",
       "      <td>Early_Morning</td>\n",
       "      <td>one</td>\n",
       "      <td>Night</td>\n",
       "      <td>Mumbai</td>\n",
       "      <td>Economy</td>\n",
       "      <td>14.25</td>\n",
       "      <td>21</td>\n",
       "      <td>7212</td>\n",
       "    </tr>\n",
       "    <tr>\n",
       "      <th>1</th>\n",
       "      <td>2</td>\n",
       "      <td>SpiceJet</td>\n",
       "      <td>SG-5094</td>\n",
       "      <td>Hyderabad</td>\n",
       "      <td>Evening</td>\n",
       "      <td>zero</td>\n",
       "      <td>Night</td>\n",
       "      <td>Kolkata</td>\n",
       "      <td>Economy</td>\n",
       "      <td>1.75</td>\n",
       "      <td>7</td>\n",
       "      <td>5292</td>\n",
       "    </tr>\n",
       "    <tr>\n",
       "      <th>2</th>\n",
       "      <td>3</td>\n",
       "      <td>Vistara</td>\n",
       "      <td>UK-846</td>\n",
       "      <td>Bangalore</td>\n",
       "      <td>Morning</td>\n",
       "      <td>one</td>\n",
       "      <td>Evening</td>\n",
       "      <td>Delhi</td>\n",
       "      <td>Business</td>\n",
       "      <td>9.58</td>\n",
       "      <td>5</td>\n",
       "      <td>60553</td>\n",
       "    </tr>\n",
       "    <tr>\n",
       "      <th>3</th>\n",
       "      <td>4</td>\n",
       "      <td>Vistara</td>\n",
       "      <td>UK-706</td>\n",
       "      <td>Kolkata</td>\n",
       "      <td>Morning</td>\n",
       "      <td>one</td>\n",
       "      <td>Evening</td>\n",
       "      <td>Hyderabad</td>\n",
       "      <td>Economy</td>\n",
       "      <td>6.75</td>\n",
       "      <td>28</td>\n",
       "      <td>5760</td>\n",
       "    </tr>\n",
       "    <tr>\n",
       "      <th>4</th>\n",
       "      <td>5</td>\n",
       "      <td>Indigo</td>\n",
       "      <td>6E-5394</td>\n",
       "      <td>Chennai</td>\n",
       "      <td>Early_Morning</td>\n",
       "      <td>zero</td>\n",
       "      <td>Morning</td>\n",
       "      <td>Mumbai</td>\n",
       "      <td>Economy</td>\n",
       "      <td>2.00</td>\n",
       "      <td>4</td>\n",
       "      <td>10712</td>\n",
       "    </tr>\n",
       "  </tbody>\n",
       "</table>\n",
       "</div>"
      ],
      "text/plain": [
       "   id   airline   flight source_city departure_time stops arrival_time  \\\n",
       "0   1   Vistara   UK-810   Bangalore  Early_Morning   one        Night   \n",
       "1   2  SpiceJet  SG-5094   Hyderabad        Evening  zero        Night   \n",
       "2   3   Vistara   UK-846   Bangalore        Morning   one      Evening   \n",
       "3   4   Vistara   UK-706     Kolkata        Morning   one      Evening   \n",
       "4   5    Indigo  6E-5394     Chennai  Early_Morning  zero      Morning   \n",
       "\n",
       "  destination_city     class  duration  days_left  price  \n",
       "0           Mumbai   Economy     14.25         21   7212  \n",
       "1          Kolkata   Economy      1.75          7   5292  \n",
       "2            Delhi  Business      9.58          5  60553  \n",
       "3        Hyderabad   Economy      6.75         28   5760  \n",
       "4           Mumbai   Economy      2.00          4  10712  "
      ]
     },
     "execution_count": 3,
     "metadata": {},
     "output_type": "execute_result"
    }
   ],
   "source": [
    "train.head()"
   ]
  },
  {
   "cell_type": "code",
   "execution_count": 4,
   "id": "d6687d5e",
   "metadata": {
    "execution": {
     "iopub.execute_input": "2023-07-15T14:22:27.310303Z",
     "iopub.status.busy": "2023-07-15T14:22:27.309681Z",
     "iopub.status.idle": "2023-07-15T14:22:27.325453Z",
     "shell.execute_reply": "2023-07-15T14:22:27.324330Z"
    },
    "papermill": {
     "duration": 0.034166,
     "end_time": "2023-07-15T14:22:27.327589",
     "exception": false,
     "start_time": "2023-07-15T14:22:27.293423",
     "status": "completed"
    },
    "tags": []
   },
   "outputs": [
    {
     "data": {
      "text/html": [
       "<div>\n",
       "<style scoped>\n",
       "    .dataframe tbody tr th:only-of-type {\n",
       "        vertical-align: middle;\n",
       "    }\n",
       "\n",
       "    .dataframe tbody tr th {\n",
       "        vertical-align: top;\n",
       "    }\n",
       "\n",
       "    .dataframe thead th {\n",
       "        text-align: right;\n",
       "    }\n",
       "</style>\n",
       "<table border=\"1\" class=\"dataframe\">\n",
       "  <thead>\n",
       "    <tr style=\"text-align: right;\">\n",
       "      <th></th>\n",
       "      <th>id</th>\n",
       "      <th>airline</th>\n",
       "      <th>flight</th>\n",
       "      <th>source_city</th>\n",
       "      <th>departure_time</th>\n",
       "      <th>stops</th>\n",
       "      <th>arrival_time</th>\n",
       "      <th>destination_city</th>\n",
       "      <th>class</th>\n",
       "      <th>duration</th>\n",
       "      <th>days_left</th>\n",
       "    </tr>\n",
       "  </thead>\n",
       "  <tbody>\n",
       "    <tr>\n",
       "      <th>0</th>\n",
       "      <td>1</td>\n",
       "      <td>Air_India</td>\n",
       "      <td>AI-765</td>\n",
       "      <td>Kolkata</td>\n",
       "      <td>Evening</td>\n",
       "      <td>one</td>\n",
       "      <td>Night</td>\n",
       "      <td>Delhi</td>\n",
       "      <td>Business</td>\n",
       "      <td>28.25</td>\n",
       "      <td>2</td>\n",
       "    </tr>\n",
       "    <tr>\n",
       "      <th>1</th>\n",
       "      <td>2</td>\n",
       "      <td>Vistara</td>\n",
       "      <td>UK-747</td>\n",
       "      <td>Delhi</td>\n",
       "      <td>Early_Morning</td>\n",
       "      <td>one</td>\n",
       "      <td>Night</td>\n",
       "      <td>Mumbai</td>\n",
       "      <td>Business</td>\n",
       "      <td>13.83</td>\n",
       "      <td>34</td>\n",
       "    </tr>\n",
       "    <tr>\n",
       "      <th>2</th>\n",
       "      <td>3</td>\n",
       "      <td>Air_India</td>\n",
       "      <td>AI-570</td>\n",
       "      <td>Mumbai</td>\n",
       "      <td>Early_Morning</td>\n",
       "      <td>zero</td>\n",
       "      <td>Early_Morning</td>\n",
       "      <td>Chennai</td>\n",
       "      <td>Business</td>\n",
       "      <td>2.00</td>\n",
       "      <td>30</td>\n",
       "    </tr>\n",
       "    <tr>\n",
       "      <th>3</th>\n",
       "      <td>4</td>\n",
       "      <td>AirAsia</td>\n",
       "      <td>I5-974</td>\n",
       "      <td>Hyderabad</td>\n",
       "      <td>Night</td>\n",
       "      <td>one</td>\n",
       "      <td>Late_Night</td>\n",
       "      <td>Delhi</td>\n",
       "      <td>Economy</td>\n",
       "      <td>5.17</td>\n",
       "      <td>26</td>\n",
       "    </tr>\n",
       "    <tr>\n",
       "      <th>4</th>\n",
       "      <td>5</td>\n",
       "      <td>Air_India</td>\n",
       "      <td>AI-770</td>\n",
       "      <td>Kolkata</td>\n",
       "      <td>Night</td>\n",
       "      <td>one</td>\n",
       "      <td>Afternoon</td>\n",
       "      <td>Mumbai</td>\n",
       "      <td>Economy</td>\n",
       "      <td>16.33</td>\n",
       "      <td>35</td>\n",
       "    </tr>\n",
       "  </tbody>\n",
       "</table>\n",
       "</div>"
      ],
      "text/plain": [
       "   id    airline  flight source_city departure_time stops   arrival_time  \\\n",
       "0   1  Air_India  AI-765     Kolkata        Evening   one          Night   \n",
       "1   2    Vistara  UK-747       Delhi  Early_Morning   one          Night   \n",
       "2   3  Air_India  AI-570      Mumbai  Early_Morning  zero  Early_Morning   \n",
       "3   4    AirAsia  I5-974   Hyderabad          Night   one     Late_Night   \n",
       "4   5  Air_India  AI-770     Kolkata          Night   one      Afternoon   \n",
       "\n",
       "  destination_city     class  duration  days_left  \n",
       "0            Delhi  Business     28.25          2  \n",
       "1           Mumbai  Business     13.83         34  \n",
       "2          Chennai  Business      2.00         30  \n",
       "3            Delhi   Economy      5.17         26  \n",
       "4           Mumbai   Economy     16.33         35  "
      ]
     },
     "execution_count": 4,
     "metadata": {},
     "output_type": "execute_result"
    }
   ],
   "source": [
    "test.head()"
   ]
  },
  {
   "cell_type": "code",
   "execution_count": 5,
   "id": "8b4f1827",
   "metadata": {
    "execution": {
     "iopub.execute_input": "2023-07-15T14:22:27.359844Z",
     "iopub.status.busy": "2023-07-15T14:22:27.359217Z",
     "iopub.status.idle": "2023-07-15T14:22:27.432701Z",
     "shell.execute_reply": "2023-07-15T14:22:27.431634Z"
    },
    "papermill": {
     "duration": 0.093107,
     "end_time": "2023-07-15T14:22:27.435584",
     "exception": false,
     "start_time": "2023-07-15T14:22:27.342477",
     "status": "completed"
    },
    "tags": []
   },
   "outputs": [
    {
     "name": "stdout",
     "output_type": "stream",
     "text": [
      "<class 'pandas.core.frame.DataFrame'>\n",
      "RangeIndex: 20000 entries, 0 to 19999\n",
      "Data columns (total 12 columns):\n",
      " #   Column            Non-Null Count  Dtype  \n",
      "---  ------            --------------  -----  \n",
      " 0   id                20000 non-null  int64  \n",
      " 1   airline           20000 non-null  object \n",
      " 2   flight            20000 non-null  object \n",
      " 3   source_city       20000 non-null  object \n",
      " 4   departure_time    20000 non-null  object \n",
      " 5   stops             20000 non-null  object \n",
      " 6   arrival_time      20000 non-null  object \n",
      " 7   destination_city  20000 non-null  object \n",
      " 8   class             20000 non-null  object \n",
      " 9   duration          20000 non-null  float64\n",
      " 10  days_left         20000 non-null  int64  \n",
      " 11  price             20000 non-null  int64  \n",
      "dtypes: float64(1), int64(3), object(8)\n",
      "memory usage: 1.8+ MB\n"
     ]
    }
   ],
   "source": [
    "train.info()"
   ]
  },
  {
   "cell_type": "code",
   "execution_count": 6,
   "id": "d0f9d382",
   "metadata": {
    "execution": {
     "iopub.execute_input": "2023-07-15T14:22:27.467426Z",
     "iopub.status.busy": "2023-07-15T14:22:27.466481Z",
     "iopub.status.idle": "2023-07-15T14:22:27.494788Z",
     "shell.execute_reply": "2023-07-15T14:22:27.493771Z"
    },
    "papermill": {
     "duration": 0.046459,
     "end_time": "2023-07-15T14:22:27.497037",
     "exception": false,
     "start_time": "2023-07-15T14:22:27.450578",
     "status": "completed"
    },
    "tags": []
   },
   "outputs": [
    {
     "data": {
      "text/html": [
       "<div>\n",
       "<style scoped>\n",
       "    .dataframe tbody tr th:only-of-type {\n",
       "        vertical-align: middle;\n",
       "    }\n",
       "\n",
       "    .dataframe tbody tr th {\n",
       "        vertical-align: top;\n",
       "    }\n",
       "\n",
       "    .dataframe thead th {\n",
       "        text-align: right;\n",
       "    }\n",
       "</style>\n",
       "<table border=\"1\" class=\"dataframe\">\n",
       "  <thead>\n",
       "    <tr style=\"text-align: right;\">\n",
       "      <th></th>\n",
       "      <th>id</th>\n",
       "      <th>duration</th>\n",
       "      <th>days_left</th>\n",
       "      <th>price</th>\n",
       "    </tr>\n",
       "  </thead>\n",
       "  <tbody>\n",
       "    <tr>\n",
       "      <th>count</th>\n",
       "      <td>20000.000000</td>\n",
       "      <td>20000.000000</td>\n",
       "      <td>20000.000000</td>\n",
       "      <td>20000.000000</td>\n",
       "    </tr>\n",
       "    <tr>\n",
       "      <th>mean</th>\n",
       "      <td>10000.500000</td>\n",
       "      <td>12.177627</td>\n",
       "      <td>25.924150</td>\n",
       "      <td>20960.281700</td>\n",
       "    </tr>\n",
       "    <tr>\n",
       "      <th>std</th>\n",
       "      <td>5773.647028</td>\n",
       "      <td>7.157944</td>\n",
       "      <td>13.624874</td>\n",
       "      <td>22775.459535</td>\n",
       "    </tr>\n",
       "    <tr>\n",
       "      <th>min</th>\n",
       "      <td>1.000000</td>\n",
       "      <td>0.830000</td>\n",
       "      <td>1.000000</td>\n",
       "      <td>1105.000000</td>\n",
       "    </tr>\n",
       "    <tr>\n",
       "      <th>25%</th>\n",
       "      <td>5000.750000</td>\n",
       "      <td>6.830000</td>\n",
       "      <td>14.000000</td>\n",
       "      <td>4783.000000</td>\n",
       "    </tr>\n",
       "    <tr>\n",
       "      <th>50%</th>\n",
       "      <td>10000.500000</td>\n",
       "      <td>11.250000</td>\n",
       "      <td>26.000000</td>\n",
       "      <td>7425.000000</td>\n",
       "    </tr>\n",
       "    <tr>\n",
       "      <th>75%</th>\n",
       "      <td>15000.250000</td>\n",
       "      <td>16.080000</td>\n",
       "      <td>38.000000</td>\n",
       "      <td>42521.000000</td>\n",
       "    </tr>\n",
       "    <tr>\n",
       "      <th>max</th>\n",
       "      <td>20000.000000</td>\n",
       "      <td>38.580000</td>\n",
       "      <td>49.000000</td>\n",
       "      <td>114523.000000</td>\n",
       "    </tr>\n",
       "  </tbody>\n",
       "</table>\n",
       "</div>"
      ],
      "text/plain": [
       "                 id      duration     days_left          price\n",
       "count  20000.000000  20000.000000  20000.000000   20000.000000\n",
       "mean   10000.500000     12.177627     25.924150   20960.281700\n",
       "std     5773.647028      7.157944     13.624874   22775.459535\n",
       "min        1.000000      0.830000      1.000000    1105.000000\n",
       "25%     5000.750000      6.830000     14.000000    4783.000000\n",
       "50%    10000.500000     11.250000     26.000000    7425.000000\n",
       "75%    15000.250000     16.080000     38.000000   42521.000000\n",
       "max    20000.000000     38.580000     49.000000  114523.000000"
      ]
     },
     "execution_count": 6,
     "metadata": {},
     "output_type": "execute_result"
    }
   ],
   "source": [
    "train.describe()"
   ]
  },
  {
   "cell_type": "code",
   "execution_count": 7,
   "id": "0137e5d3",
   "metadata": {
    "execution": {
     "iopub.execute_input": "2023-07-15T14:22:27.530155Z",
     "iopub.status.busy": "2023-07-15T14:22:27.529327Z",
     "iopub.status.idle": "2023-07-15T14:22:28.680161Z",
     "shell.execute_reply": "2023-07-15T14:22:28.678770Z"
    },
    "papermill": {
     "duration": 1.169678,
     "end_time": "2023-07-15T14:22:28.682482",
     "exception": false,
     "start_time": "2023-07-15T14:22:27.512804",
     "status": "completed"
    },
    "tags": []
   },
   "outputs": [
    {
     "data": {
      "image/png": "[encoded data removed]",
      "text/plain": [
       "<Figure size 1800x500 with 3 Axes>"
      ]
     },
     "metadata": {},
     "output_type": "display_data"
    }
   ],
   "source": [
    "fig, axes = plt.subplots(1, 3, figsize=[18, 5])\n",
    "\n",
    "sns.histplot(x=train['duration'], ax=axes[0])\n",
    "sns.histplot(x=train['days_left'], ax=axes[1])\n",
    "sns.histplot(x=train['price'], ax=axes[2])\n",
    "\n",
    "plt.show()"
   ]
  },
  {
   "cell_type": "markdown",
   "id": "390d63b1",
   "metadata": {
    "papermill": {
     "duration": 0.015217,
     "end_time": "2023-07-15T14:22:28.714169",
     "exception": false,
     "start_time": "2023-07-15T14:22:28.698952",
     "status": "completed"
    },
    "tags": []
   },
   "source": [
    "- **Parvoz davomiyligining aksariyat qismi `6-16` soatga to'g'ri kelayapti.**"
   ]
  },
  {
   "cell_type": "code",
   "execution_count": 8,
   "id": "a2b14c6f",
   "metadata": {
    "execution": {
     "iopub.execute_input": "2023-07-15T14:22:28.746234Z",
     "iopub.status.busy": "2023-07-15T14:22:28.745825Z",
     "iopub.status.idle": "2023-07-15T14:22:29.542707Z",
     "shell.execute_reply": "2023-07-15T14:22:29.541608Z"
    },
    "papermill": {
     "duration": 0.815739,
     "end_time": "2023-07-15T14:22:29.545219",
     "exception": false,
     "start_time": "2023-07-15T14:22:28.729480",
     "status": "completed"
    },
    "tags": []
   },
   "outputs": [
    {
     "data": {
      "image/png": "[encoded data removed]",
      "text/plain": [
       "<Figure size 1400x800 with 1 Axes>"
      ]
     },
     "metadata": {},
     "output_type": "display_data"
    }
   ],
   "source": [
    "plt.figure(figsize=[14, 8])\n",
    "data = train[train['price'] < 82_000]['price']\n",
    "sns.histplot(x=data, kde=True, binwidth=1000)\n",
    "plt.xlim(data.min()-100, data.max())\n",
    "plt.xticks(range(data.min()-105, data.max(), 5500))\n",
    "plt.show()"
   ]
  },
  {
   "cell_type": "markdown",
   "id": "91f3cd7c",
   "metadata": {
    "papermill": {
     "duration": 0.016174,
     "end_time": "2023-07-15T14:22:29.577921",
     "exception": false,
     "start_time": "2023-07-15T14:22:29.561747",
     "status": "completed"
    },
    "tags": []
   },
   "source": [
    "- **Ko'p sotiladigan chipta narxlari taxminan 1,100-12,000 oraliqda.**"
   ]
  },
  {
   "cell_type": "code",
   "execution_count": 9,
   "id": "b07e9494",
   "metadata": {
    "execution": {
     "iopub.execute_input": "2023-07-15T14:22:29.612976Z",
     "iopub.status.busy": "2023-07-15T14:22:29.612572Z",
     "iopub.status.idle": "2023-07-15T14:22:30.032759Z",
     "shell.execute_reply": "2023-07-15T14:22:30.031634Z"
    },
    "papermill": {
     "duration": 0.440907,
     "end_time": "2023-07-15T14:22:30.035388",
     "exception": false,
     "start_time": "2023-07-15T14:22:29.594481",
     "status": "completed"
    },
    "tags": []
   },
   "outputs": [
    {
     "data": {
      "image/png": "[encoded data removed]",
      "text/plain": [
       "<Figure size 640x480 with 1 Axes>"
      ]
     },
     "metadata": {},
     "output_type": "display_data"
    }
   ],
   "source": [
    "sns.countplot(y=train['airline'], order=train['airline'].value_counts().index);"
   ]
  },
  {
   "cell_type": "markdown",
   "id": "429de8ea",
   "metadata": {
    "papermill": {
     "duration": 0.016608,
     "end_time": "2023-07-15T14:22:30.069872",
     "exception": false,
     "start_time": "2023-07-15T14:22:30.053264",
     "status": "completed"
    },
    "tags": []
   },
   "source": [
    "- **Eng ko'p tarqalgan aviakompaniyalar: *Vistara*, *Air India* va *Indigo*.**"
   ]
  },
  {
   "cell_type": "code",
   "execution_count": 10,
   "id": "b73a7f37",
   "metadata": {
    "execution": {
     "iopub.execute_input": "2023-07-15T14:22:30.105785Z",
     "iopub.status.busy": "2023-07-15T14:22:30.104998Z",
     "iopub.status.idle": "2023-07-15T14:22:30.673534Z",
     "shell.execute_reply": "2023-07-15T14:22:30.672390Z"
    },
    "papermill": {
     "duration": 0.589023,
     "end_time": "2023-07-15T14:22:30.675952",
     "exception": false,
     "start_time": "2023-07-15T14:22:30.086929",
     "status": "completed"
    },
    "tags": []
   },
   "outputs": [
    {
     "data": {
      "image/png": "[encoded data removed]",
      "text/plain": [
       "<Figure size 1000x600 with 1 Axes>"
      ]
     },
     "metadata": {},
     "output_type": "display_data"
    }
   ],
   "source": [
    "plt.figure(figsize=[10, 6])\n",
    "sns.boxplot(x='airline', y='price', data=train);"
   ]
  },
  {
   "cell_type": "markdown",
   "id": "fdd18506",
   "metadata": {
    "execution": {
     "iopub.execute_input": "2023-06-10T07:54:48.235894Z",
     "iopub.status.busy": "2023-06-10T07:54:48.235316Z",
     "iopub.status.idle": "2023-06-10T07:54:48.243995Z",
     "shell.execute_reply": "2023-06-10T07:54:48.242587Z",
     "shell.execute_reply.started": "2023-06-10T07:54:48.235856Z"
    },
    "papermill": {
     "duration": 0.016962,
     "end_time": "2023-07-15T14:22:30.710244",
     "exception": false,
     "start_time": "2023-07-15T14:22:30.693282",
     "status": "completed"
    },
    "tags": []
   },
   "source": [
    "- ***Vistara* va *Air India* avaikompaniyalarining o'rtacha uchish narxi (15,000-20,000) qolganlaridan sezilarli darajada (6,000-7,000) yuqori.**\n",
    "- ***SpiceJet*, *Indigo*, *GO_FIRST* va *AirAsia* kompaniyalarida deyarli o'xshash narxlar.**"
   ]
  },
  {
   "cell_type": "code",
   "execution_count": 11,
   "id": "383e34fc",
   "metadata": {
    "execution": {
     "iopub.execute_input": "2023-07-15T14:22:30.746824Z",
     "iopub.status.busy": "2023-07-15T14:22:30.745980Z",
     "iopub.status.idle": "2023-07-15T14:22:30.909115Z",
     "shell.execute_reply": "2023-07-15T14:22:30.907178Z"
    },
    "papermill": {
     "duration": 0.185898,
     "end_time": "2023-07-15T14:22:30.913325",
     "exception": false,
     "start_time": "2023-07-15T14:22:30.727427",
     "status": "completed"
    },
    "tags": []
   },
   "outputs": [
    {
     "data": {
      "image/png": "[encoded data removed]",
      "text/plain": [
       "<Figure size 640x480 with 1 Axes>"
      ]
     },
     "metadata": {},
     "output_type": "display_data"
    }
   ],
   "source": [
    "plt.pie(x=train['class'].value_counts(),\n",
    "        labels=train['class'].value_counts().index,\n",
    "        autopct='%1.1f%%'\n",
    ");"
   ]
  },
  {
   "cell_type": "markdown",
   "id": "1f518edc",
   "metadata": {
    "papermill": {
     "duration": 0.025689,
     "end_time": "2023-07-15T14:22:30.978776",
     "exception": false,
     "start_time": "2023-07-15T14:22:30.953087",
     "status": "completed"
    },
    "tags": []
   },
   "source": [
    "- **Aksariyat aviakompaniyalarda *Economy* class o'rin olgan:**\n",
    "    - **Economy class -> `69%`**\n",
    "    - **Business class -> `31%`**"
   ]
  },
  {
   "cell_type": "code",
   "execution_count": 12,
   "id": "7249dc02",
   "metadata": {
    "execution": {
     "iopub.execute_input": "2023-07-15T14:22:31.017295Z",
     "iopub.status.busy": "2023-07-15T14:22:31.016914Z",
     "iopub.status.idle": "2023-07-15T14:22:31.340190Z",
     "shell.execute_reply": "2023-07-15T14:22:31.338993Z"
    },
    "papermill": {
     "duration": 0.34522,
     "end_time": "2023-07-15T14:22:31.342627",
     "exception": false,
     "start_time": "2023-07-15T14:22:30.997407",
     "status": "completed"
    },
    "tags": []
   },
   "outputs": [
    {
     "data": {
      "image/png": "[encoded data removed]",
      "text/plain": [
       "<Figure size 600x600 with 1 Axes>"
      ]
     },
     "metadata": {},
     "output_type": "display_data"
    }
   ],
   "source": [
    "plt.figure(figsize=[6, 6])\n",
    "sns.boxplot(x='class', y='price', data=train);"
   ]
  },
  {
   "cell_type": "markdown",
   "id": "b972deb5",
   "metadata": {
    "papermill": {
     "duration": 0.01825,
     "end_time": "2023-07-15T14:22:31.379510",
     "exception": false,
     "start_time": "2023-07-15T14:22:31.361260",
     "status": "completed"
    },
    "tags": []
   },
   "source": [
    "- ***Economy* classining o'rtacha narxi ~ `6,500`**\n",
    "- ***Business* classining o'rtacha narxi ~ `52,000`**"
   ]
  },
  {
   "cell_type": "code",
   "execution_count": 13,
   "id": "c6b6e15f",
   "metadata": {
    "execution": {
     "iopub.execute_input": "2023-07-15T14:22:31.421135Z",
     "iopub.status.busy": "2023-07-15T14:22:31.420702Z",
     "iopub.status.idle": "2023-07-15T14:22:31.758986Z",
     "shell.execute_reply": "2023-07-15T14:22:31.757742Z"
    },
    "papermill": {
     "duration": 0.362266,
     "end_time": "2023-07-15T14:22:31.762016",
     "exception": false,
     "start_time": "2023-07-15T14:22:31.399750",
     "status": "completed"
    },
    "tags": []
   },
   "outputs": [
    {
     "data": {
      "image/png": "[encoded data removed]",
      "text/plain": [
       "<Figure size 640x480 with 1 Axes>"
      ]
     },
     "metadata": {},
     "output_type": "display_data"
    }
   ],
   "source": [
    "sns.boxplot(x='stops', y='price', data=train);"
   ]
  },
  {
   "cell_type": "markdown",
   "id": "56361c28",
   "metadata": {
    "papermill": {
     "duration": 0.018237,
     "end_time": "2023-07-15T14:22:31.801921",
     "exception": false,
     "start_time": "2023-07-15T14:22:31.783684",
     "status": "completed"
    },
    "tags": []
   },
   "source": [
    "- **Bir marta to'xtab olish parvozlari eng qimmatroq narxga ega.**"
   ]
  },
  {
   "cell_type": "code",
   "execution_count": 14,
   "id": "04e782f4",
   "metadata": {
    "execution": {
     "iopub.execute_input": "2023-07-15T14:22:31.841884Z",
     "iopub.status.busy": "2023-07-15T14:22:31.841489Z",
     "iopub.status.idle": "2023-07-15T14:22:33.354580Z",
     "shell.execute_reply": "2023-07-15T14:22:33.353784Z"
    },
    "papermill": {
     "duration": 1.536992,
     "end_time": "2023-07-15T14:22:33.357818",
     "exception": false,
     "start_time": "2023-07-15T14:22:31.820826",
     "status": "completed"
    },
    "tags": []
   },
   "outputs": [
    {
     "data": {
      "image/png": "[encoded data removed]",
      "text/plain": [
       "<Figure size 2500x1500 with 4 Axes>"
      ]
     },
     "metadata": {},
     "output_type": "display_data"
    }
   ],
   "source": [
    "fig, ax = plt.subplots(2, 2, figsize=[25, 15])\n",
    "\n",
    "sns.boxplot(x='departure_time', y='price', data=train, ax=ax[0, 0])\n",
    "ax[0, 0].set_title(\"Departure time & Price\")\n",
    "\n",
    "sns.boxplot(x='arrival_time', y='price', data=train, ax=ax[0, 1])\n",
    "ax[0, 1].set_title(\"Arrival time & Price\")\n",
    "\n",
    "sns.boxplot(x='source_city', y='price', data=train, ax=ax[1, 0])\n",
    "ax[1, 0].set_title(\"Source city & Price\")\n",
    "\n",
    "sns.boxplot(x='destination_city', y='price', data=train, ax=ax[1, 1])\n",
    "ax[1, 1].set_title(\"Destination city  & Price\")\n",
    "\n",
    "plt.show()"
   ]
  },
  {
   "cell_type": "markdown",
   "id": "542fa6d7",
   "metadata": {
    "papermill": {
     "duration": 0.020444,
     "end_time": "2023-07-15T14:22:33.399935",
     "exception": false,
     "start_time": "2023-07-15T14:22:33.379491",
     "status": "completed"
    },
    "tags": []
   },
   "source": [
    "- **Jo'nash vaqti (`departure_time`):**\n",
    "    - **Tunda bo'lgan parvozlar uchun uchish narxi qimmatroq.**\n",
    "    - **Erta tonggi, kechki va ertalabki parvozlar narxi deyarli bir xil.**\n",
    "    - **Kech tungi (Late_Night) parvozlarning narxi arzon.**\n",
    "\n",
    "\n",
    "- **Qaytish vaqti (`arrival_time`):**\n",
    "    - **Kechki parvozlar narxi qimmatroq.**\n",
    "    - **Tungi va ertalabki parvozlar deyarli bir xil.**\n",
    "    - **Erta tonggi (Early_Morning) va kech tungi (Late_Night) parvozlar arzon.**\n",
    "\n",
    "\n",
    "- **Parvoz boshlangan shahar (`source_city`):**\n",
    "    - **Kolkata va Mumbay shaharlari uchun qimmatroq.**\n",
    "    - **Bangalor va Chennay shaharlari uchun deyarli bir xil narx.**\n",
    "    - **Haydarobod va Dehli shaharlari uchun biroz arzon.**\n",
    "\n",
    "\n",
    "- **Parvoz qilinayotgan shahar (`destination_city`):**\n",
    "    - **Kolkata shahriga qimmatroq.**\n",
    "    - **Mumbay, Haydarobod, Chennay va Bangalor shaharlariga uchish narxi bir-biriga yaqin.**\n",
    "    - **Dehli shahriga arzonroq narx.**"
   ]
  },
  {
   "cell_type": "code",
   "execution_count": 15,
   "id": "a3274a48",
   "metadata": {
    "execution": {
     "iopub.execute_input": "2023-07-15T14:22:33.444070Z",
     "iopub.status.busy": "2023-07-15T14:22:33.443357Z",
     "iopub.status.idle": "2023-07-15T14:22:33.985816Z",
     "shell.execute_reply": "2023-07-15T14:22:33.984775Z"
    },
    "papermill": {
     "duration": 0.567313,
     "end_time": "2023-07-15T14:22:33.988418",
     "exception": false,
     "start_time": "2023-07-15T14:22:33.421105",
     "status": "completed"
    },
    "tags": []
   },
   "outputs": [
    {
     "data": {
      "image/png": "[encoded data removed]",
      "text/plain": [
       "<Figure size 2000x700 with 1 Axes>"
      ]
     },
     "metadata": {},
     "output_type": "display_data"
    }
   ],
   "source": [
    "# Days Left for Departure & Price\n",
    "plt.figure(figsize=[20, 7])\n",
    "sns.lineplot(x='days_left', y='price', data=train, color='blue', linewidth=2.5, errorbar=None)\n",
    "plt.title('Ketish vaqti(departure_time)ga qolgan kunlar & Narx', fontsize=17)\n",
    "plt.show()"
   ]
  },
  {
   "cell_type": "markdown",
   "id": "a23cc96e",
   "metadata": {
    "papermill": {
     "duration": 0.021726,
     "end_time": "2023-07-15T14:22:34.032953",
     "exception": false,
     "start_time": "2023-07-15T14:22:34.011227",
     "status": "completed"
    },
    "tags": []
   },
   "source": [
    "- **Umumiy holatda, parvoz kuni/vaqtidan avvalroq narx arzonligini va aksincha, parvoz vaqti yaqinlashgan sari narx ko'tarilib borishini ko'rishimiz mumkin.**"
   ]
  },
  {
   "cell_type": "markdown",
   "id": "06fa0562",
   "metadata": {
    "papermill": {
     "duration": 0.0213,
     "end_time": "2023-07-15T14:22:34.076438",
     "exception": false,
     "start_time": "2023-07-15T14:22:34.055138",
     "status": "completed"
    },
    "tags": []
   },
   "source": [
    "## Data Preprocessing"
   ]
  },
  {
   "cell_type": "code",
   "execution_count": 16,
   "id": "1b6588df",
   "metadata": {
    "execution": {
     "iopub.execute_input": "2023-07-15T14:22:34.122706Z",
     "iopub.status.busy": "2023-07-15T14:22:34.122123Z",
     "iopub.status.idle": "2023-07-15T14:22:34.179446Z",
     "shell.execute_reply": "2023-07-15T14:22:34.178443Z"
    },
    "papermill": {
     "duration": 0.083439,
     "end_time": "2023-07-15T14:22:34.181923",
     "exception": false,
     "start_time": "2023-07-15T14:22:34.098484",
     "status": "completed"
    },
    "tags": []
   },
   "outputs": [
    {
     "data": {
      "text/plain": [
       "id                  0\n",
       "airline             0\n",
       "flight              0\n",
       "source_city         0\n",
       "departure_time      0\n",
       "stops               0\n",
       "arrival_time        0\n",
       "destination_city    0\n",
       "class               0\n",
       "duration            0\n",
       "days_left           0\n",
       "price               0\n",
       "dtype: int64"
      ]
     },
     "execution_count": 16,
     "metadata": {},
     "output_type": "execute_result"
    }
   ],
   "source": [
    "train.isnull().sum()"
   ]
  },
  {
   "cell_type": "code",
   "execution_count": 17,
   "id": "9403d301",
   "metadata": {
    "execution": {
     "iopub.execute_input": "2023-07-15T14:22:34.228272Z",
     "iopub.status.busy": "2023-07-15T14:22:34.227894Z",
     "iopub.status.idle": "2023-07-15T14:22:34.248357Z",
     "shell.execute_reply": "2023-07-15T14:22:34.247452Z"
    },
    "papermill": {
     "duration": 0.046299,
     "end_time": "2023-07-15T14:22:34.250532",
     "exception": false,
     "start_time": "2023-07-15T14:22:34.204233",
     "status": "completed"
    },
    "tags": []
   },
   "outputs": [
    {
     "data": {
      "text/plain": [
       "id                  0\n",
       "airline             0\n",
       "flight              0\n",
       "source_city         0\n",
       "departure_time      0\n",
       "stops               0\n",
       "arrival_time        0\n",
       "destination_city    0\n",
       "class               0\n",
       "duration            0\n",
       "days_left           0\n",
       "dtype: int64"
      ]
     },
     "execution_count": 17,
     "metadata": {},
     "output_type": "execute_result"
    }
   ],
   "source": [
    "test.isnull().sum()"
   ]
  },
  {
   "cell_type": "code",
   "execution_count": 18,
   "id": "6bd685ff",
   "metadata": {
    "execution": {
     "iopub.execute_input": "2023-07-15T14:22:34.296518Z",
     "iopub.status.busy": "2023-07-15T14:22:34.295620Z",
     "iopub.status.idle": "2023-07-15T14:22:34.331574Z",
     "shell.execute_reply": "2023-07-15T14:22:34.330476Z"
    },
    "papermill": {
     "duration": 0.061867,
     "end_time": "2023-07-15T14:22:34.334230",
     "exception": false,
     "start_time": "2023-07-15T14:22:34.272363",
     "status": "completed"
    },
    "tags": []
   },
   "outputs": [
    {
     "name": "stdout",
     "output_type": "stream",
     "text": [
      "Vistara      8535\n",
      "Air_India    5371\n",
      "Indigo       2924\n",
      "GO_FIRST     1508\n",
      "AirAsia      1056\n",
      "SpiceJet      606\n",
      "Name: airline, dtype: int64\n",
      "==========================================\n",
      "UK-706     208\n",
      "UK-720     190\n",
      "UK-822     178\n",
      "UK-836     169\n",
      "UK-772     169\n",
      "          ... \n",
      "6E-2471      1\n",
      "6E-821       1\n",
      "SG-1031      1\n",
      "6E-759       1\n",
      "6E-7201      1\n",
      "Name: flight, Length: 1310, dtype: int64\n",
      "==========================================\n",
      "Mumbai       4068\n",
      "Delhi        4022\n",
      "Bangalore    3486\n",
      "Kolkata      3092\n",
      "Hyderabad    2748\n",
      "Chennai      2584\n",
      "Name: source_city, dtype: int64\n",
      "==========================================\n",
      "Morning          4738\n",
      "Early_Morning    4432\n",
      "Evening          4341\n",
      "Night            3231\n",
      "Afternoon        3166\n",
      "Late_Night         92\n",
      "Name: departure_time, dtype: int64\n",
      "==========================================\n",
      "one            16666\n",
      "zero            2440\n",
      "two_or_more      894\n",
      "Name: stops, dtype: int64\n",
      "==========================================\n",
      "Night            6142\n",
      "Evening          5316\n",
      "Morning          4086\n",
      "Afternoon        2536\n",
      "Early_Morning    1004\n",
      "Late_Night        916\n",
      "Name: arrival_time, dtype: int64\n",
      "==========================================\n",
      "Mumbai       3918\n",
      "Delhi        3825\n",
      "Bangalore    3425\n",
      "Kolkata      3323\n",
      "Hyderabad    2814\n",
      "Chennai      2695\n",
      "Name: destination_city, dtype: int64\n",
      "==========================================\n",
      "Economy     13753\n",
      "Business     6247\n",
      "Name: class, dtype: int64\n",
      "==========================================\n"
     ]
    }
   ],
   "source": [
    "# Extract categorical columns\n",
    "cat_cols = train.select_dtypes(include='object').columns\n",
    "for col in cat_cols:\n",
    "    print(train[col].value_counts())\n",
    "    print(\"=\" * 42)"
   ]
  },
  {
   "cell_type": "markdown",
   "id": "85bcb55c",
   "metadata": {
    "papermill": {
     "duration": 0.02312,
     "end_time": "2023-07-15T14:22:34.380254",
     "exception": false,
     "start_time": "2023-07-15T14:22:34.357134",
     "status": "completed"
    },
    "tags": []
   },
   "source": [
    "## Feature Engineering"
   ]
  },
  {
   "cell_type": "code",
   "execution_count": 19,
   "id": "2899355a",
   "metadata": {
    "execution": {
     "iopub.execute_input": "2023-07-15T14:22:34.428106Z",
     "iopub.status.busy": "2023-07-15T14:22:34.427288Z",
     "iopub.status.idle": "2023-07-15T14:22:34.437993Z",
     "shell.execute_reply": "2023-07-15T14:22:34.436968Z"
    },
    "papermill": {
     "duration": 0.037078,
     "end_time": "2023-07-15T14:22:34.440210",
     "exception": false,
     "start_time": "2023-07-15T14:22:34.403132",
     "status": "completed"
    },
    "tags": []
   },
   "outputs": [],
   "source": [
    "def data_preprocessor(df):\n",
    "    df = df.copy()\n",
    "    \n",
    "    # Create new features\n",
    "    df[['flight_name', 'flight_num']] = df['flight'].str.split(\"-\", expand=True)\n",
    "    df['flight_num'] = df['flight_num'].astype('int')\n",
    "    \n",
    "    # Remove unnecessary columns\n",
    "    df = df.drop(columns=['id', 'flight'])\n",
    "\n",
    "    # Ordinal Encoding (ordinal) categorical columns\n",
    "    dep_arr_time = {'Early_Morning': 0, 'Morning': 1, 'Afternoon': 2, 'Evening': 3, 'Night': 4, 'Late_Night': 5}\n",
    "    stops = {'one': 0, 'zero': 1, 'two_or_more': 2}\n",
    "    classes = {'Economy': 0, 'Business': 1}\n",
    "    df[['departure_time', 'arrival_time']] = df[['departure_time', 'arrival_time']].replace(dep_arr_time)\n",
    "    df['stops'] = df['stops'].replace(stops)\n",
    "    df['class'] = df['class'].replace(classes)\n",
    "    \n",
    "    # One-Hot Encoding (nominal) categorical columns\n",
    "    nominal_cat_cols = ['airline', 'source_city', 'destination_city', 'flight_name']\n",
    "    df = pd.get_dummies(df, columns=nominal_cat_cols)\n",
    "    \n",
    "    # Feature scaling numerical & ordinal columns\n",
    "    num_cols = ['departure_time', 'stops', 'arrival_time', 'duration', 'days_left', 'flight_num']\n",
    "    df[num_cols] = StandardScaler().fit_transform(df[num_cols])\n",
    "\n",
    "    return df"
   ]
  },
  {
   "cell_type": "code",
   "execution_count": 21,
   "id": "ceba7825",
   "metadata": {
    "execution": {
     "iopub.execute_input": "2023-07-15T14:22:34.539420Z",
     "iopub.status.busy": "2023-07-15T14:22:34.538689Z",
     "iopub.status.idle": "2023-07-15T14:22:34.759455Z",
     "shell.execute_reply": "2023-07-15T14:22:34.758147Z"
    },
    "papermill": {
     "duration": 0.246889,
     "end_time": "2023-07-15T14:22:34.761874",
     "exception": false,
     "start_time": "2023-07-15T14:22:34.514985",
     "status": "completed"
    },
    "tags": []
   },
   "outputs": [
    {
     "name": "stdout",
     "output_type": "stream",
     "text": [
      "X_train.shape=(20000, 31)\n",
      "y_train.shape=(20000,)\n",
      "X_test.shape=(5000, 31)\n"
     ]
    }
   ],
   "source": [
    "# Splitting train set\n",
    "X_train, y_train = train.drop('price', axis=1), train['price']\n",
    "X_train = data_preprocessor(X_train)\n",
    "X_test = data_preprocessor(test)\n",
    "\n",
    "print(f'{X_train.shape=}')\n",
    "print(f'{y_train.shape=}')\n",
    "print(f'{X_test.shape=}')"
   ]
  },
  {
   "cell_type": "code",
   "execution_count": 22,
   "id": "325f58a7",
   "metadata": {
    "execution": {
     "iopub.execute_input": "2023-07-15T14:22:34.815245Z",
     "iopub.status.busy": "2023-07-15T14:22:34.814879Z",
     "iopub.status.idle": "2023-07-15T14:22:34.836690Z",
     "shell.execute_reply": "2023-07-15T14:22:34.835510Z"
    },
    "papermill": {
     "duration": 0.053981,
     "end_time": "2023-07-15T14:22:34.839222",
     "exception": false,
     "start_time": "2023-07-15T14:22:34.785241",
     "status": "completed"
    },
    "tags": []
   },
   "outputs": [
    {
     "data": {
      "text/html": [
       "<div>\n",
       "<style scoped>\n",
       "    .dataframe tbody tr th:only-of-type {\n",
       "        vertical-align: middle;\n",
       "    }\n",
       "\n",
       "    .dataframe tbody tr th {\n",
       "        vertical-align: top;\n",
       "    }\n",
       "\n",
       "    .dataframe thead th {\n",
       "        text-align: right;\n",
       "    }\n",
       "</style>\n",
       "<table border=\"1\" class=\"dataframe\">\n",
       "  <thead>\n",
       "    <tr style=\"text-align: right;\">\n",
       "      <th></th>\n",
       "      <th>departure_time</th>\n",
       "      <th>stops</th>\n",
       "      <th>arrival_time</th>\n",
       "      <th>class</th>\n",
       "      <th>duration</th>\n",
       "      <th>days_left</th>\n",
       "      <th>flight_num</th>\n",
       "      <th>airline_AirAsia</th>\n",
       "      <th>airline_Air_India</th>\n",
       "      <th>airline_GO_FIRST</th>\n",
       "      <th>...</th>\n",
       "      <th>destination_city_Delhi</th>\n",
       "      <th>destination_city_Hyderabad</th>\n",
       "      <th>destination_city_Kolkata</th>\n",
       "      <th>destination_city_Mumbai</th>\n",
       "      <th>flight_name_6E</th>\n",
       "      <th>flight_name_AI</th>\n",
       "      <th>flight_name_G8</th>\n",
       "      <th>flight_name_I5</th>\n",
       "      <th>flight_name_SG</th>\n",
       "      <th>flight_name_UK</th>\n",
       "    </tr>\n",
       "  </thead>\n",
       "  <tbody>\n",
       "    <tr>\n",
       "      <th>0</th>\n",
       "      <td>-1.321043</td>\n",
       "      <td>-0.417726</td>\n",
       "      <td>0.958550</td>\n",
       "      <td>0</td>\n",
       "      <td>0.289528</td>\n",
       "      <td>-0.361418</td>\n",
       "      <td>-0.307081</td>\n",
       "      <td>0</td>\n",
       "      <td>0</td>\n",
       "      <td>0</td>\n",
       "      <td>...</td>\n",
       "      <td>0</td>\n",
       "      <td>0</td>\n",
       "      <td>0</td>\n",
       "      <td>1</td>\n",
       "      <td>0</td>\n",
       "      <td>0</td>\n",
       "      <td>0</td>\n",
       "      <td>0</td>\n",
       "      <td>0</td>\n",
       "      <td>1</td>\n",
       "    </tr>\n",
       "    <tr>\n",
       "      <th>1</th>\n",
       "      <td>0.793923</td>\n",
       "      <td>1.558273</td>\n",
       "      <td>0.958550</td>\n",
       "      <td>0</td>\n",
       "      <td>-1.456827</td>\n",
       "      <td>-1.388976</td>\n",
       "      <td>1.867123</td>\n",
       "      <td>0</td>\n",
       "      <td>0</td>\n",
       "      <td>0</td>\n",
       "      <td>...</td>\n",
       "      <td>0</td>\n",
       "      <td>0</td>\n",
       "      <td>1</td>\n",
       "      <td>0</td>\n",
       "      <td>0</td>\n",
       "      <td>0</td>\n",
       "      <td>0</td>\n",
       "      <td>0</td>\n",
       "      <td>1</td>\n",
       "      <td>0</td>\n",
       "    </tr>\n",
       "    <tr>\n",
       "      <th>2</th>\n",
       "      <td>-0.616054</td>\n",
       "      <td>-0.417726</td>\n",
       "      <td>0.213929</td>\n",
       "      <td>1</td>\n",
       "      <td>-0.362910</td>\n",
       "      <td>-1.535770</td>\n",
       "      <td>-0.288811</td>\n",
       "      <td>0</td>\n",
       "      <td>0</td>\n",
       "      <td>0</td>\n",
       "      <td>...</td>\n",
       "      <td>1</td>\n",
       "      <td>0</td>\n",
       "      <td>0</td>\n",
       "      <td>0</td>\n",
       "      <td>0</td>\n",
       "      <td>0</td>\n",
       "      <td>0</td>\n",
       "      <td>0</td>\n",
       "      <td>0</td>\n",
       "      <td>1</td>\n",
       "    </tr>\n",
       "    <tr>\n",
       "      <th>3</th>\n",
       "      <td>-0.616054</td>\n",
       "      <td>-0.417726</td>\n",
       "      <td>0.213929</td>\n",
       "      <td>0</td>\n",
       "      <td>-0.758285</td>\n",
       "      <td>0.152361</td>\n",
       "      <td>-0.359863</td>\n",
       "      <td>0</td>\n",
       "      <td>0</td>\n",
       "      <td>0</td>\n",
       "      <td>...</td>\n",
       "      <td>0</td>\n",
       "      <td>1</td>\n",
       "      <td>0</td>\n",
       "      <td>0</td>\n",
       "      <td>0</td>\n",
       "      <td>0</td>\n",
       "      <td>0</td>\n",
       "      <td>0</td>\n",
       "      <td>0</td>\n",
       "      <td>1</td>\n",
       "    </tr>\n",
       "    <tr>\n",
       "      <th>4</th>\n",
       "      <td>-1.321043</td>\n",
       "      <td>1.558273</td>\n",
       "      <td>-1.275311</td>\n",
       "      <td>0</td>\n",
       "      <td>-1.421900</td>\n",
       "      <td>-1.609167</td>\n",
       "      <td>2.019378</td>\n",
       "      <td>0</td>\n",
       "      <td>0</td>\n",
       "      <td>0</td>\n",
       "      <td>...</td>\n",
       "      <td>0</td>\n",
       "      <td>0</td>\n",
       "      <td>0</td>\n",
       "      <td>1</td>\n",
       "      <td>1</td>\n",
       "      <td>0</td>\n",
       "      <td>0</td>\n",
       "      <td>0</td>\n",
       "      <td>0</td>\n",
       "      <td>0</td>\n",
       "    </tr>\n",
       "  </tbody>\n",
       "</table>\n",
       "<p>5 rows × 31 columns</p>\n",
       "</div>"
      ],
      "text/plain": [
       "   departure_time     stops  arrival_time  class  duration  days_left  \\\n",
       "0       -1.321043 -0.417726      0.958550      0  0.289528  -0.361418   \n",
       "1        0.793923  1.558273      0.958550      0 -1.456827  -1.388976   \n",
       "2       -0.616054 -0.417726      0.213929      1 -0.362910  -1.535770   \n",
       "3       -0.616054 -0.417726      0.213929      0 -0.758285   0.152361   \n",
       "4       -1.321043  1.558273     -1.275311      0 -1.421900  -1.609167   \n",
       "\n",
       "   flight_num  airline_AirAsia  airline_Air_India  airline_GO_FIRST  ...  \\\n",
       "0   -0.307081                0                  0                 0  ...   \n",
       "1    1.867123                0                  0                 0  ...   \n",
       "2   -0.288811                0                  0                 0  ...   \n",
       "3   -0.359863                0                  0                 0  ...   \n",
       "4    2.019378                0                  0                 0  ...   \n",
       "\n",
       "   destination_city_Delhi  destination_city_Hyderabad  \\\n",
       "0                       0                           0   \n",
       "1                       0                           0   \n",
       "2                       1                           0   \n",
       "3                       0                           1   \n",
       "4                       0                           0   \n",
       "\n",
       "   destination_city_Kolkata  destination_city_Mumbai  flight_name_6E  \\\n",
       "0                         0                        1               0   \n",
       "1                         1                        0               0   \n",
       "2                         0                        0               0   \n",
       "3                         0                        0               0   \n",
       "4                         0                        1               1   \n",
       "\n",
       "   flight_name_AI  flight_name_G8  flight_name_I5  flight_name_SG  \\\n",
       "0               0               0               0               0   \n",
       "1               0               0               0               1   \n",
       "2               0               0               0               0   \n",
       "3               0               0               0               0   \n",
       "4               0               0               0               0   \n",
       "\n",
       "   flight_name_UK  \n",
       "0               1  \n",
       "1               0  \n",
       "2               1  \n",
       "3               1  \n",
       "4               0  \n",
       "\n",
       "[5 rows x 31 columns]"
      ]
     },
     "execution_count": 22,
     "metadata": {},
     "output_type": "execute_result"
    }
   ],
   "source": [
    "X_train.head()"
   ]
  },
  {
   "cell_type": "code",
   "execution_count": 23,
   "id": "e69cf5b5",
   "metadata": {
    "execution": {
     "iopub.execute_input": "2023-07-15T14:22:34.888151Z",
     "iopub.status.busy": "2023-07-15T14:22:34.887750Z",
     "iopub.status.idle": "2023-07-15T14:22:34.894985Z",
     "shell.execute_reply": "2023-07-15T14:22:34.893988Z"
    },
    "papermill": {
     "duration": 0.034729,
     "end_time": "2023-07-15T14:22:34.897233",
     "exception": false,
     "start_time": "2023-07-15T14:22:34.862504",
     "status": "completed"
    },
    "tags": []
   },
   "outputs": [
    {
     "data": {
      "text/plain": [
       "0     7212\n",
       "1     5292\n",
       "2    60553\n",
       "3     5760\n",
       "4    10712\n",
       "Name: price, dtype: int64"
      ]
     },
     "execution_count": 23,
     "metadata": {},
     "output_type": "execute_result"
    }
   ],
   "source": [
    "y_train.head()"
   ]
  },
  {
   "cell_type": "code",
   "execution_count": 24,
   "id": "b1f0d96c",
   "metadata": {
    "execution": {
     "iopub.execute_input": "2023-07-15T14:22:34.947618Z",
     "iopub.status.busy": "2023-07-15T14:22:34.947232Z",
     "iopub.status.idle": "2023-07-15T14:22:34.968677Z",
     "shell.execute_reply": "2023-07-15T14:22:34.967900Z"
    },
    "papermill": {
     "duration": 0.048902,
     "end_time": "2023-07-15T14:22:34.970741",
     "exception": false,
     "start_time": "2023-07-15T14:22:34.921839",
     "status": "completed"
    },
    "tags": []
   },
   "outputs": [
    {
     "data": {
      "text/html": [
       "<div>\n",
       "<style scoped>\n",
       "    .dataframe tbody tr th:only-of-type {\n",
       "        vertical-align: middle;\n",
       "    }\n",
       "\n",
       "    .dataframe tbody tr th {\n",
       "        vertical-align: top;\n",
       "    }\n",
       "\n",
       "    .dataframe thead th {\n",
       "        text-align: right;\n",
       "    }\n",
       "</style>\n",
       "<table border=\"1\" class=\"dataframe\">\n",
       "  <thead>\n",
       "    <tr style=\"text-align: right;\">\n",
       "      <th></th>\n",
       "      <th>departure_time</th>\n",
       "      <th>stops</th>\n",
       "      <th>arrival_time</th>\n",
       "      <th>class</th>\n",
       "      <th>duration</th>\n",
       "      <th>days_left</th>\n",
       "      <th>flight_num</th>\n",
       "      <th>airline_AirAsia</th>\n",
       "      <th>airline_Air_India</th>\n",
       "      <th>airline_GO_FIRST</th>\n",
       "      <th>...</th>\n",
       "      <th>destination_city_Delhi</th>\n",
       "      <th>destination_city_Hyderabad</th>\n",
       "      <th>destination_city_Kolkata</th>\n",
       "      <th>destination_city_Mumbai</th>\n",
       "      <th>flight_name_6E</th>\n",
       "      <th>flight_name_AI</th>\n",
       "      <th>flight_name_G8</th>\n",
       "      <th>flight_name_I5</th>\n",
       "      <th>flight_name_SG</th>\n",
       "      <th>flight_name_UK</th>\n",
       "    </tr>\n",
       "  </thead>\n",
       "  <tbody>\n",
       "    <tr>\n",
       "      <th>0</th>\n",
       "      <td>0.805184</td>\n",
       "      <td>-0.402242</td>\n",
       "      <td>0.975801</td>\n",
       "      <td>1</td>\n",
       "      <td>2.179304</td>\n",
       "      <td>-1.754111</td>\n",
       "      <td>-0.329982</td>\n",
       "      <td>0</td>\n",
       "      <td>1</td>\n",
       "      <td>0</td>\n",
       "      <td>...</td>\n",
       "      <td>1</td>\n",
       "      <td>0</td>\n",
       "      <td>0</td>\n",
       "      <td>0</td>\n",
       "      <td>0</td>\n",
       "      <td>1</td>\n",
       "      <td>0</td>\n",
       "      <td>0</td>\n",
       "      <td>0</td>\n",
       "      <td>0</td>\n",
       "    </tr>\n",
       "    <tr>\n",
       "      <th>1</th>\n",
       "      <td>-1.312236</td>\n",
       "      <td>-0.402242</td>\n",
       "      <td>0.975801</td>\n",
       "      <td>1</td>\n",
       "      <td>0.205481</td>\n",
       "      <td>0.583184</td>\n",
       "      <td>-0.339196</td>\n",
       "      <td>0</td>\n",
       "      <td>0</td>\n",
       "      <td>0</td>\n",
       "      <td>...</td>\n",
       "      <td>0</td>\n",
       "      <td>0</td>\n",
       "      <td>0</td>\n",
       "      <td>1</td>\n",
       "      <td>0</td>\n",
       "      <td>0</td>\n",
       "      <td>0</td>\n",
       "      <td>0</td>\n",
       "      <td>0</td>\n",
       "      <td>1</td>\n",
       "    </tr>\n",
       "    <tr>\n",
       "      <th>2</th>\n",
       "      <td>-1.312236</td>\n",
       "      <td>1.658423</td>\n",
       "      <td>-2.006021</td>\n",
       "      <td>1</td>\n",
       "      <td>-1.413821</td>\n",
       "      <td>0.291022</td>\n",
       "      <td>-0.429794</td>\n",
       "      <td>0</td>\n",
       "      <td>1</td>\n",
       "      <td>0</td>\n",
       "      <td>...</td>\n",
       "      <td>0</td>\n",
       "      <td>0</td>\n",
       "      <td>0</td>\n",
       "      <td>0</td>\n",
       "      <td>0</td>\n",
       "      <td>1</td>\n",
       "      <td>0</td>\n",
       "      <td>0</td>\n",
       "      <td>0</td>\n",
       "      <td>0</td>\n",
       "    </tr>\n",
       "    <tr>\n",
       "      <th>3</th>\n",
       "      <td>1.510991</td>\n",
       "      <td>-0.402242</td>\n",
       "      <td>1.721257</td>\n",
       "      <td>0</td>\n",
       "      <td>-0.979909</td>\n",
       "      <td>-0.001139</td>\n",
       "      <td>-0.223005</td>\n",
       "      <td>1</td>\n",
       "      <td>0</td>\n",
       "      <td>0</td>\n",
       "      <td>...</td>\n",
       "      <td>1</td>\n",
       "      <td>0</td>\n",
       "      <td>0</td>\n",
       "      <td>0</td>\n",
       "      <td>0</td>\n",
       "      <td>0</td>\n",
       "      <td>0</td>\n",
       "      <td>1</td>\n",
       "      <td>0</td>\n",
       "      <td>0</td>\n",
       "    </tr>\n",
       "    <tr>\n",
       "      <th>4</th>\n",
       "      <td>1.510991</td>\n",
       "      <td>-0.402242</td>\n",
       "      <td>-0.515110</td>\n",
       "      <td>0</td>\n",
       "      <td>0.547683</td>\n",
       "      <td>0.656225</td>\n",
       "      <td>-0.327423</td>\n",
       "      <td>0</td>\n",
       "      <td>1</td>\n",
       "      <td>0</td>\n",
       "      <td>...</td>\n",
       "      <td>0</td>\n",
       "      <td>0</td>\n",
       "      <td>0</td>\n",
       "      <td>1</td>\n",
       "      <td>0</td>\n",
       "      <td>1</td>\n",
       "      <td>0</td>\n",
       "      <td>0</td>\n",
       "      <td>0</td>\n",
       "      <td>0</td>\n",
       "    </tr>\n",
       "  </tbody>\n",
       "</table>\n",
       "<p>5 rows × 31 columns</p>\n",
       "</div>"
      ],
      "text/plain": [
       "   departure_time     stops  arrival_time  class  duration  days_left  \\\n",
       "0        0.805184 -0.402242      0.975801      1  2.179304  -1.754111   \n",
       "1       -1.312236 -0.402242      0.975801      1  0.205481   0.583184   \n",
       "2       -1.312236  1.658423     -2.006021      1 -1.413821   0.291022   \n",
       "3        1.510991 -0.402242      1.721257      0 -0.979909  -0.001139   \n",
       "4        1.510991 -0.402242     -0.515110      0  0.547683   0.656225   \n",
       "\n",
       "   flight_num  airline_AirAsia  airline_Air_India  airline_GO_FIRST  ...  \\\n",
       "0   -0.329982                0                  1                 0  ...   \n",
       "1   -0.339196                0                  0                 0  ...   \n",
       "2   -0.429794                0                  1                 0  ...   \n",
       "3   -0.223005                1                  0                 0  ...   \n",
       "4   -0.327423                0                  1                 0  ...   \n",
       "\n",
       "   destination_city_Delhi  destination_city_Hyderabad  \\\n",
       "0                       1                           0   \n",
       "1                       0                           0   \n",
       "2                       0                           0   \n",
       "3                       1                           0   \n",
       "4                       0                           0   \n",
       "\n",
       "   destination_city_Kolkata  destination_city_Mumbai  flight_name_6E  \\\n",
       "0                         0                        0               0   \n",
       "1                         0                        1               0   \n",
       "2                         0                        0               0   \n",
       "3                         0                        0               0   \n",
       "4                         0                        1               0   \n",
       "\n",
       "   flight_name_AI  flight_name_G8  flight_name_I5  flight_name_SG  \\\n",
       "0               1               0               0               0   \n",
       "1               0               0               0               0   \n",
       "2               1               0               0               0   \n",
       "3               0               0               1               0   \n",
       "4               1               0               0               0   \n",
       "\n",
       "   flight_name_UK  \n",
       "0               0  \n",
       "1               1  \n",
       "2               0  \n",
       "3               0  \n",
       "4               0  \n",
       "\n",
       "[5 rows x 31 columns]"
      ]
     },
     "execution_count": 24,
     "metadata": {},
     "output_type": "execute_result"
    }
   ],
   "source": [
    "X_test.head()"
   ]
  },
  {
   "cell_type": "code",
   "execution_count": 25,
   "id": "861f90d9",
   "metadata": {
    "execution": {
     "iopub.execute_input": "2023-07-15T14:22:35.021523Z",
     "iopub.status.busy": "2023-07-15T14:22:35.021145Z",
     "iopub.status.idle": "2023-07-15T14:22:35.050022Z",
     "shell.execute_reply": "2023-07-15T14:22:35.048918Z"
    },
    "papermill": {
     "duration": 0.057497,
     "end_time": "2023-07-15T14:22:35.052400",
     "exception": false,
     "start_time": "2023-07-15T14:22:34.994903",
     "status": "completed"
    },
    "tags": []
   },
   "outputs": [
    {
     "data": {
      "text/plain": [
       "class                         0.937868\n",
       "flight_name_UK                0.360410\n",
       "airline_Vistara               0.360410\n",
       "airline_Indigo                0.283825\n",
       "flight_name_6E                0.283825\n",
       "duration                      0.213158\n",
       "flight_num                    0.211956\n",
       "flight_name_G8                0.191557\n",
       "airline_GO_FIRST              0.191557\n",
       "airline_AirAsia               0.174272\n",
       "flight_name_I5                0.174272\n",
       "stops                         0.170436\n",
       "airline_SpiceJet              0.115649\n",
       "flight_name_SG                0.115649\n",
       "days_left                     0.102545\n",
       "airline_Air_India             0.070827\n",
       "flight_name_AI                0.070827\n",
       "destination_city_Delhi        0.064619\n",
       "source_city_Delhi             0.041629\n",
       "destination_city_Kolkata      0.041162\n",
       "source_city_Mumbai            0.036125\n",
       "source_city_Hyderabad         0.030848\n",
       "departure_time                0.027532\n",
       "destination_city_Chennai      0.020512\n",
       "source_city_Bangalore         0.016966\n",
       "destination_city_Hyderabad    0.016315\n",
       "destination_city_Bangalore    0.015385\n",
       "source_city_Kolkata           0.009223\n",
       "source_city_Chennai           0.008925\n",
       "destination_city_Mumbai       0.007472\n",
       "arrival_time                  0.005670\n",
       "dtype: float64"
      ]
     },
     "execution_count": 25,
     "metadata": {},
     "output_type": "execute_result"
    }
   ],
   "source": [
    "# Correlation between features and the target\n",
    "X_train.corrwith(y_train).abs().sort_values(ascending=False)"
   ]
  },
  {
   "cell_type": "markdown",
   "id": "001dd191",
   "metadata": {
    "papermill": {
     "duration": 0.025541,
     "end_time": "2023-07-15T14:22:35.103088",
     "exception": false,
     "start_time": "2023-07-15T14:22:35.077547",
     "status": "completed"
    },
    "tags": []
   },
   "source": [
    "## Modeling"
   ]
  },
  {
   "cell_type": "markdown",
   "id": "8ac3e9fc",
   "metadata": {
    "papermill": {
     "duration": 0.023997,
     "end_time": "2023-07-15T14:22:35.151605",
     "exception": false,
     "start_time": "2023-07-15T14:22:35.127608",
     "status": "completed"
    },
    "tags": []
   },
   "source": [
    "### Cross-validation\n",
    "\n",
    "![grid_search_cross_validation.png](https://scikit-learn.org/stable/_images/grid_search_cross_validation.png)\n",
    "\n",
    "©️image: scikit-learn.org"
   ]
  },
  {
   "cell_type": "code",
   "execution_count": 26,
   "id": "5c16c08a",
   "metadata": {
    "execution": {
     "iopub.execute_input": "2023-07-15T14:22:35.202676Z",
     "iopub.status.busy": "2023-07-15T14:22:35.202303Z",
     "iopub.status.idle": "2023-07-15T14:24:16.696439Z",
     "shell.execute_reply": "2023-07-15T14:24:16.695207Z"
    },
    "papermill": {
     "duration": 101.522927,
     "end_time": "2023-07-15T14:24:16.699139",
     "exception": false,
     "start_time": "2023-07-15T14:22:35.176212",
     "status": "completed"
    },
    "tags": []
   },
   "outputs": [
    {
     "name": "stdout",
     "output_type": "stream",
     "text": [
      "Model: RandomForestRegressor\n",
      "R2: 0.9793489600644045\n",
      "RMSE: 3268.515092032497\n",
      "==========================================\n",
      "Model: XGBRegressor\n",
      "R2: 0.9780248482623387\n",
      "RMSE: 3373.182946506337\n",
      "==========================================\n",
      "Model: DecisionTreeRegressor\n",
      "R2: 0.9641222010113306\n",
      "RMSE: 4309.163229384326\n",
      "==========================================\n"
     ]
    }
   ],
   "source": [
    "# K-Fold Cross Validation\n",
    "models = [RandomForestRegressor(), XGBRegressor(), DecisionTreeRegressor()]\n",
    "trained_models = {}\n",
    "models_test_preds = pd.DataFrame()\n",
    "models_scores = pd.DataFrame(columns=['R2', 'RMSE', 'MAE'])\n",
    "\n",
    "kf = KFold(n_splits=10, shuffle=True, random_state=42)\n",
    "for model in models:\n",
    "    fold_predictions = []  # Store predictions for each fold\n",
    "    # Store evaluation metrics:\n",
    "    rmse_scores = []\n",
    "    mae_scores = []\n",
    "    r2_scores = []\n",
    "\n",
    "    for train_idx, val_idx in kf.split(X_train):\n",
    "        X = X_train.loc[train_idx]\n",
    "        y = y_train.loc[train_idx]\n",
    "        X_val = X_train.loc[val_idx]\n",
    "        y_val = y_train.loc[val_idx]\n",
    "\n",
    "        model.fit(X, y)\n",
    "        test_pred = model.predict(X_test)\n",
    "        fold_predictions.append(test_pred)\n",
    "\n",
    "        y_pred = model.predict(X_val)\n",
    "        r2_scores.append(r2_score(y_val, y_pred))\n",
    "        rmse_scores.append(mean_squared_error(y_val, y_pred, squared=False))\n",
    "        mae_scores.append(mean_absolute_error(y_val, y_pred))\n",
    "\n",
    "    # Store the trained model\n",
    "    model_name = model.__class__.__name__\n",
    "    trained_models[model_name] = model\n",
    "    \n",
    "    # Calculate the average of predictions across all folds\n",
    "    fold_predictions = np.array(fold_predictions)\n",
    "    models_test_preds[model_name] = fold_predictions.mean(axis=0)\n",
    "    \n",
    "    # Store evaluation metrics of the model\n",
    "    models_scores.loc[model_name] = {\n",
    "        'R2': np.mean(r2_scores), 'RMSE': np.mean(rmse_scores), 'MAE': np.mean(mae_scores)\n",
    "    }\n",
    "\n",
    "    # Print the evaluation metrics\n",
    "    print(\"Model:\", model_name)\n",
    "    print(\"R2:\", models_scores.loc[model_name, 'R2'])\n",
    "    print(\"RMSE:\", models_scores.loc[model_name, 'RMSE'])\n",
    "    print(\"=\" * 42)"
   ]
  },
  {
   "cell_type": "code",
   "execution_count": 27,
   "id": "8bc6ef72",
   "metadata": {
    "execution": {
     "iopub.execute_input": "2023-07-15T14:24:16.749318Z",
     "iopub.status.busy": "2023-07-15T14:24:16.748926Z",
     "iopub.status.idle": "2023-07-15T14:24:16.762748Z",
     "shell.execute_reply": "2023-07-15T14:24:16.761671Z"
    },
    "papermill": {
     "duration": 0.041658,
     "end_time": "2023-07-15T14:24:16.764963",
     "exception": false,
     "start_time": "2023-07-15T14:24:16.723305",
     "status": "completed"
    },
    "tags": []
   },
   "outputs": [
    {
     "data": {
      "text/plain": [
       "{'RandomForestRegressor': RandomForestRegressor(),\n",
       " 'XGBRegressor': XGBRegressor(base_score=None, booster=None, callbacks=None,\n",
       "              colsample_bylevel=None, colsample_bynode=None,\n",
       "              colsample_bytree=None, early_stopping_rounds=None,\n",
       "              enable_categorical=False, eval_metric=None, feature_types=None,\n",
       "              gamma=None, gpu_id=None, grow_policy=None, importance_type=None,\n",
       "              interaction_constraints=None, learning_rate=None, max_bin=None,\n",
       "              max_cat_threshold=None, max_cat_to_onehot=None,\n",
       "              max_delta_step=None, max_depth=None, max_leaves=None,\n",
       "              min_child_weight=None, missing=nan, monotone_constraints=None,\n",
       "              n_estimators=100, n_jobs=None, num_parallel_tree=None,\n",
       "              predictor=None, random_state=None, ...),\n",
       " 'DecisionTreeRegressor': DecisionTreeRegressor()}"
      ]
     },
     "execution_count": 27,
     "metadata": {},
     "output_type": "execute_result"
    }
   ],
   "source": [
    "trained_models"
   ]
  },
  {
   "cell_type": "markdown",
   "id": "19bcbd20",
   "metadata": {
    "papermill": {
     "duration": 0.023794,
     "end_time": "2023-07-15T14:24:16.813159",
     "exception": false,
     "start_time": "2023-07-15T14:24:16.789365",
     "status": "completed"
    },
    "tags": []
   },
   "source": [
    "## Evaluation"
   ]
  },
  {
   "cell_type": "code",
   "execution_count": 28,
   "id": "9b19ddf3",
   "metadata": {
    "execution": {
     "iopub.execute_input": "2023-07-15T14:24:16.864424Z",
     "iopub.status.busy": "2023-07-15T14:24:16.864011Z",
     "iopub.status.idle": "2023-07-15T14:24:16.875089Z",
     "shell.execute_reply": "2023-07-15T14:24:16.874325Z"
    },
    "papermill": {
     "duration": 0.039391,
     "end_time": "2023-07-15T14:24:16.877207",
     "exception": false,
     "start_time": "2023-07-15T14:24:16.837816",
     "status": "completed"
    },
    "tags": []
   },
   "outputs": [
    {
     "data": {
      "text/html": [
       "<div>\n",
       "<style scoped>\n",
       "    .dataframe tbody tr th:only-of-type {\n",
       "        vertical-align: middle;\n",
       "    }\n",
       "\n",
       "    .dataframe tbody tr th {\n",
       "        vertical-align: top;\n",
       "    }\n",
       "\n",
       "    .dataframe thead th {\n",
       "        text-align: right;\n",
       "    }\n",
       "</style>\n",
       "<table border=\"1\" class=\"dataframe\">\n",
       "  <thead>\n",
       "    <tr style=\"text-align: right;\">\n",
       "      <th></th>\n",
       "      <th>R2</th>\n",
       "      <th>RMSE</th>\n",
       "      <th>MAE</th>\n",
       "    </tr>\n",
       "  </thead>\n",
       "  <tbody>\n",
       "    <tr>\n",
       "      <th>RandomForestRegressor</th>\n",
       "      <td>0.979349</td>\n",
       "      <td>3268.515092</td>\n",
       "      <td>1578.972466</td>\n",
       "    </tr>\n",
       "    <tr>\n",
       "      <th>XGBRegressor</th>\n",
       "      <td>0.978025</td>\n",
       "      <td>3373.182947</td>\n",
       "      <td>1889.329374</td>\n",
       "    </tr>\n",
       "    <tr>\n",
       "      <th>DecisionTreeRegressor</th>\n",
       "      <td>0.964122</td>\n",
       "      <td>4309.163229</td>\n",
       "      <td>1789.572450</td>\n",
       "    </tr>\n",
       "  </tbody>\n",
       "</table>\n",
       "</div>"
      ],
      "text/plain": [
       "                             R2         RMSE          MAE\n",
       "RandomForestRegressor  0.979349  3268.515092  1578.972466\n",
       "XGBRegressor           0.978025  3373.182947  1889.329374\n",
       "DecisionTreeRegressor  0.964122  4309.163229  1789.572450"
      ]
     },
     "execution_count": 28,
     "metadata": {},
     "output_type": "execute_result"
    }
   ],
   "source": [
    "models_scores.sort_values('RMSE')"
   ]
  },
  {
   "cell_type": "markdown",
   "id": "d33ff66a",
   "metadata": {
    "papermill": {
     "duration": 0.023598,
     "end_time": "2023-07-15T14:24:16.925141",
     "exception": false,
     "start_time": "2023-07-15T14:24:16.901543",
     "status": "completed"
    },
    "tags": []
   },
   "source": [
    "### Hyperparameter tuning\n",
    "\n",
    "> **❗WARNING:** GridSearchCV'da model uchun ko'p hyperparameter'lar qo'llanilgani sari ko'proq vaqt hisoblash quvvati (computing power) talab qilinadi."
   ]
  },
  {
   "cell_type": "code",
   "execution_count": 29,
   "id": "9c6cb395",
   "metadata": {
    "_kg_hide-input": false,
    "_kg_hide-output": false,
    "execution": {
     "iopub.execute_input": "2023-07-15T14:24:16.974934Z",
     "iopub.status.busy": "2023-07-15T14:24:16.974317Z",
     "iopub.status.idle": "2023-07-15T14:24:16.980219Z",
     "shell.execute_reply": "2023-07-15T14:24:16.979381Z"
    },
    "papermill": {
     "duration": 0.033363,
     "end_time": "2023-07-15T14:24:16.982493",
     "exception": false,
     "start_time": "2023-07-15T14:24:16.949130",
     "status": "completed"
    },
    "tags": []
   },
   "outputs": [],
   "source": [
    "# start_time = time.time()\n",
    "\n",
    "# models_params = {\n",
    "#     RandomForestRegressor(n_jobs=-1):{\n",
    "#         'n_estimators': [200, 300, 400],\n",
    "#         'max_depth': [None, 3, 7, 10],\n",
    "#         'min_samples_split': [2, 4, 6],\n",
    "#         'min_samples_leaf': [1, 2, 3],\n",
    "#         'max_features': [1.0, 'sqrt', 'log2']},\n",
    "#     XGBRegressor(n_jobs=-1):{\n",
    "#         'n_estimators': [200, 300, 400],\n",
    "#         'max_depth': [3, 7, 10],\n",
    "#         'learning_rate': [1, 2, 3]},\n",
    "#     DecisionTreeRegressor():{\n",
    "#         'max_depth': [None, 3, 7, 10],\n",
    "#         'min_samples_split': [2, 4, 6],\n",
    "#         'min_samples_leaf': [1, 2, 3],\n",
    "#         'max_features': [None, 'sqrt', 'log2']}\n",
    "# }\n",
    "\n",
    "# for model, param_grid in models_params.items():\n",
    "#     grid_search = GridSearchCV(\n",
    "#         estimator=model,\n",
    "#         param_grid=param_grid,\n",
    "#         scoring='neg_root_mean_squared_error',\n",
    "#         cv=10,\n",
    "#         n_jobs=-1)\n",
    "#     grid_search.fit(X_train, y_train)\n",
    "\n",
    "#     best_params = grid_search.best_params_\n",
    "#     print(\"Model:\", model.__class__.__name__)\n",
    "#     print(\"Best Hyperparameters:\", best_params)\n",
    "\n",
    "#     # Set the best hyperparameters for the model\n",
    "#     model.set_params(**best_params)\n",
    "#     model.fit(X_train, y_train)\n",
    "\n",
    "#     # Evaluate the model performance\n",
    "#     y_pred = model.predict(X_train)\n",
    "#     rmse = mean_squared_error(y_train, y_pred, squared=False)\n",
    "#     print(\"RMSE:\", rmse)\n",
    "#     print(\"=\" * 42)\n",
    "\n",
    "\n",
    "# # Display execution time\n",
    "# end_time = time.time()\n",
    "# execution_time = end_time - start_time\n",
    "# hours = int(execution_time // 3600)\n",
    "# minutes = int((execution_time % 3600) // 60)\n",
    "# seconds = int(execution_time % 60)\n",
    "# print(f\"Execution Time: {hours}h {minutes}m {seconds}s\")"
   ]
  },
  {
   "cell_type": "markdown",
   "id": "22e22f27",
   "metadata": {
    "papermill": {
     "duration": 0.024553,
     "end_time": "2023-07-15T14:24:17.031255",
     "exception": false,
     "start_time": "2023-07-15T14:24:17.006702",
     "status": "completed"
    },
    "tags": []
   },
   "source": [
    "**GridSearchCV results:**\n",
    "\n",
    "Model: RandomForestRegressor \\\n",
    "Best Hyperparameters: {'max_depth': None, 'max_features': 1.0, 'min_samples_leaf': 1, 'min_samples_split': 4, 'n_estimators': 400} \\\n",
    "RMSE: 1771.0501979465755\n",
    "\n",
    "**==========================================** \\\n",
    "Model: XGBRegressor \\\n",
    "Best Hyperparameters: {'learning_rate': 1, 'max_depth': 3, 'n_estimators': 400} \\\n",
    "RMSE: 3694.7648777591567\n",
    "\n",
    "**==========================================** \\\n",
    "Model: DecisionTreeRegressor \\\n",
    "Best Hyperparameters: {'max_depth': None, 'max_features': None, 'min_samples_leaf': 3, 'min_samples_split': 6} \\\n",
    "RMSE: 2437.767179334913\n",
    "\n",
    "**==========================================**\n",
    "\n",
    "Execution Time: 2h 6m 14s"
   ]
  },
  {
   "cell_type": "markdown",
   "id": "4db3f97a",
   "metadata": {
    "papermill": {
     "duration": 0.023335,
     "end_time": "2023-07-15T14:24:17.079646",
     "exception": false,
     "start_time": "2023-07-15T14:24:17.056311",
     "status": "completed"
    },
    "tags": []
   },
   "source": [
    "- **Natija:** Modellarning optimal hyperparameter'larini qo'llab train qilganda model xatoligi (RMSE) deyarli o'zgarmadi."
   ]
  },
  {
   "cell_type": "markdown",
   "id": "18802954",
   "metadata": {
    "papermill": {
     "duration": 0.023546,
     "end_time": "2023-07-15T14:24:17.126846",
     "exception": false,
     "start_time": "2023-07-15T14:24:17.103300",
     "status": "completed"
    },
    "tags": []
   },
   "source": [
    "## Submission"
   ]
  },
  {
   "cell_type": "code",
   "execution_count": 30,
   "id": "16ed61c0",
   "metadata": {
    "execution": {
     "iopub.execute_input": "2023-07-15T14:24:17.175750Z",
     "iopub.status.busy": "2023-07-15T14:24:17.175313Z",
     "iopub.status.idle": "2023-07-15T14:24:17.190555Z",
     "shell.execute_reply": "2023-07-15T14:24:17.189800Z"
    },
    "papermill": {
     "duration": 0.04193,
     "end_time": "2023-07-15T14:24:17.192541",
     "exception": false,
     "start_time": "2023-07-15T14:24:17.150611",
     "status": "completed"
    },
    "tags": []
   },
   "outputs": [
    {
     "data": {
      "text/html": [
       "<div>\n",
       "<style scoped>\n",
       "    .dataframe tbody tr th:only-of-type {\n",
       "        vertical-align: middle;\n",
       "    }\n",
       "\n",
       "    .dataframe tbody tr th {\n",
       "        vertical-align: top;\n",
       "    }\n",
       "\n",
       "    .dataframe thead th {\n",
       "        text-align: right;\n",
       "    }\n",
       "</style>\n",
       "<table border=\"1\" class=\"dataframe\">\n",
       "  <thead>\n",
       "    <tr style=\"text-align: right;\">\n",
       "      <th></th>\n",
       "      <th>RandomForestRegressor</th>\n",
       "      <th>XGBRegressor</th>\n",
       "      <th>DecisionTreeRegressor</th>\n",
       "    </tr>\n",
       "  </thead>\n",
       "  <tbody>\n",
       "    <tr>\n",
       "      <th>0</th>\n",
       "      <td>56196.872</td>\n",
       "      <td>60941.335938</td>\n",
       "      <td>58301.6</td>\n",
       "    </tr>\n",
       "    <tr>\n",
       "      <th>1</th>\n",
       "      <td>62650.824</td>\n",
       "      <td>60369.539062</td>\n",
       "      <td>62408.3</td>\n",
       "    </tr>\n",
       "    <tr>\n",
       "      <th>2</th>\n",
       "      <td>23325.880</td>\n",
       "      <td>24035.017578</td>\n",
       "      <td>23703.6</td>\n",
       "    </tr>\n",
       "    <tr>\n",
       "      <th>3</th>\n",
       "      <td>2625.481</td>\n",
       "      <td>3276.002441</td>\n",
       "      <td>2238.8</td>\n",
       "    </tr>\n",
       "    <tr>\n",
       "      <th>4</th>\n",
       "      <td>5710.887</td>\n",
       "      <td>6018.256836</td>\n",
       "      <td>5743.1</td>\n",
       "    </tr>\n",
       "    <tr>\n",
       "      <th>...</th>\n",
       "      <td>...</td>\n",
       "      <td>...</td>\n",
       "      <td>...</td>\n",
       "    </tr>\n",
       "    <tr>\n",
       "      <th>4995</th>\n",
       "      <td>60036.576</td>\n",
       "      <td>57688.667969</td>\n",
       "      <td>60978.0</td>\n",
       "    </tr>\n",
       "    <tr>\n",
       "      <th>4996</th>\n",
       "      <td>4560.291</td>\n",
       "      <td>4499.855957</td>\n",
       "      <td>4387.2</td>\n",
       "    </tr>\n",
       "    <tr>\n",
       "      <th>4997</th>\n",
       "      <td>50266.803</td>\n",
       "      <td>54394.230469</td>\n",
       "      <td>50271.0</td>\n",
       "    </tr>\n",
       "    <tr>\n",
       "      <th>4998</th>\n",
       "      <td>48625.070</td>\n",
       "      <td>45048.382812</td>\n",
       "      <td>50350.5</td>\n",
       "    </tr>\n",
       "    <tr>\n",
       "      <th>4999</th>\n",
       "      <td>68015.136</td>\n",
       "      <td>63506.679688</td>\n",
       "      <td>66287.0</td>\n",
       "    </tr>\n",
       "  </tbody>\n",
       "</table>\n",
       "<p>5000 rows × 3 columns</p>\n",
       "</div>"
      ],
      "text/plain": [
       "      RandomForestRegressor  XGBRegressor  DecisionTreeRegressor\n",
       "0                 56196.872  60941.335938                58301.6\n",
       "1                 62650.824  60369.539062                62408.3\n",
       "2                 23325.880  24035.017578                23703.6\n",
       "3                  2625.481   3276.002441                 2238.8\n",
       "4                  5710.887   6018.256836                 5743.1\n",
       "...                     ...           ...                    ...\n",
       "4995              60036.576  57688.667969                60978.0\n",
       "4996               4560.291   4499.855957                 4387.2\n",
       "4997              50266.803  54394.230469                50271.0\n",
       "4998              48625.070  45048.382812                50350.5\n",
       "4999              68015.136  63506.679688                66287.0\n",
       "\n",
       "[5000 rows x 3 columns]"
      ]
     },
     "execution_count": 30,
     "metadata": {},
     "output_type": "execute_result"
    }
   ],
   "source": [
    "models_test_preds"
   ]
  },
  {
   "cell_type": "code",
   "execution_count": 31,
   "id": "0a5f035a",
   "metadata": {
    "execution": {
     "iopub.execute_input": "2023-07-15T14:24:17.242763Z",
     "iopub.status.busy": "2023-07-15T14:24:17.242319Z",
     "iopub.status.idle": "2023-07-15T14:24:17.251672Z",
     "shell.execute_reply": "2023-07-15T14:24:17.250963Z"
    },
    "papermill": {
     "duration": 0.036497,
     "end_time": "2023-07-15T14:24:17.253474",
     "exception": false,
     "start_time": "2023-07-15T14:24:17.216977",
     "status": "completed"
    },
    "tags": []
   },
   "outputs": [
    {
     "data": {
      "text/html": [
       "<div>\n",
       "<style scoped>\n",
       "    .dataframe tbody tr th:only-of-type {\n",
       "        vertical-align: middle;\n",
       "    }\n",
       "\n",
       "    .dataframe tbody tr th {\n",
       "        vertical-align: top;\n",
       "    }\n",
       "\n",
       "    .dataframe thead th {\n",
       "        text-align: right;\n",
       "    }\n",
       "</style>\n",
       "<table border=\"1\" class=\"dataframe\">\n",
       "  <thead>\n",
       "    <tr style=\"text-align: right;\">\n",
       "      <th></th>\n",
       "      <th>id</th>\n",
       "      <th>price</th>\n",
       "    </tr>\n",
       "  </thead>\n",
       "  <tbody>\n",
       "    <tr>\n",
       "      <th>0</th>\n",
       "      <td>1</td>\n",
       "      <td>0</td>\n",
       "    </tr>\n",
       "    <tr>\n",
       "      <th>1</th>\n",
       "      <td>2</td>\n",
       "      <td>0</td>\n",
       "    </tr>\n",
       "    <tr>\n",
       "      <th>2</th>\n",
       "      <td>3</td>\n",
       "      <td>0</td>\n",
       "    </tr>\n",
       "    <tr>\n",
       "      <th>3</th>\n",
       "      <td>4</td>\n",
       "      <td>0</td>\n",
       "    </tr>\n",
       "    <tr>\n",
       "      <th>4</th>\n",
       "      <td>5</td>\n",
       "      <td>0</td>\n",
       "    </tr>\n",
       "  </tbody>\n",
       "</table>\n",
       "</div>"
      ],
      "text/plain": [
       "   id  price\n",
       "0   1      0\n",
       "1   2      0\n",
       "2   3      0\n",
       "3   4      0\n",
       "4   5      0"
      ]
     },
     "execution_count": 31,
     "metadata": {},
     "output_type": "execute_result"
    }
   ],
   "source": [
    "sample_sub.head()"
   ]
  },
  {
   "cell_type": "code",
   "execution_count": 32,
   "id": "456903cc",
   "metadata": {
    "execution": {
     "iopub.execute_input": "2023-07-15T14:24:17.305718Z",
     "iopub.status.busy": "2023-07-15T14:24:17.304580Z",
     "iopub.status.idle": "2023-07-15T14:24:17.332319Z",
     "shell.execute_reply": "2023-07-15T14:24:17.331553Z"
    },
    "papermill": {
     "duration": 0.054799,
     "end_time": "2023-07-15T14:24:17.334609",
     "exception": false,
     "start_time": "2023-07-15T14:24:17.279810",
     "status": "completed"
    },
    "tags": []
   },
   "outputs": [],
   "source": [
    "rf_preds = models_test_preds['RandomForestRegressor']\n",
    "sample_sub['price'] = rf_preds\n",
    "sample_sub.to_csv(\"rf_kf10.csv\", index=False)"
   ]
  },
  {
   "cell_type": "code",
   "execution_count": 33,
   "id": "a8b74dc9",
   "metadata": {
    "execution": {
     "iopub.execute_input": "2023-07-15T14:24:17.384984Z",
     "iopub.status.busy": "2023-07-15T14:24:17.383867Z",
     "iopub.status.idle": "2023-07-15T14:24:17.398270Z",
     "shell.execute_reply": "2023-07-15T14:24:17.397291Z"
    },
    "papermill": {
     "duration": 0.041886,
     "end_time": "2023-07-15T14:24:17.400449",
     "exception": false,
     "start_time": "2023-07-15T14:24:17.358563",
     "status": "completed"
    },
    "tags": []
   },
   "outputs": [
    {
     "data": {
      "text/html": [
       "<div>\n",
       "<style scoped>\n",
       "    .dataframe tbody tr th:only-of-type {\n",
       "        vertical-align: middle;\n",
       "    }\n",
       "\n",
       "    .dataframe tbody tr th {\n",
       "        vertical-align: top;\n",
       "    }\n",
       "\n",
       "    .dataframe thead th {\n",
       "        text-align: right;\n",
       "    }\n",
       "</style>\n",
       "<table border=\"1\" class=\"dataframe\">\n",
       "  <thead>\n",
       "    <tr style=\"text-align: right;\">\n",
       "      <th></th>\n",
       "      <th>id</th>\n",
       "      <th>price</th>\n",
       "    </tr>\n",
       "  </thead>\n",
       "  <tbody>\n",
       "    <tr>\n",
       "      <th>0</th>\n",
       "      <td>1</td>\n",
       "      <td>56196.872</td>\n",
       "    </tr>\n",
       "    <tr>\n",
       "      <th>1</th>\n",
       "      <td>2</td>\n",
       "      <td>62650.824</td>\n",
       "    </tr>\n",
       "    <tr>\n",
       "      <th>2</th>\n",
       "      <td>3</td>\n",
       "      <td>23325.880</td>\n",
       "    </tr>\n",
       "    <tr>\n",
       "      <th>3</th>\n",
       "      <td>4</td>\n",
       "      <td>2625.481</td>\n",
       "    </tr>\n",
       "    <tr>\n",
       "      <th>4</th>\n",
       "      <td>5</td>\n",
       "      <td>5710.887</td>\n",
       "    </tr>\n",
       "  </tbody>\n",
       "</table>\n",
       "</div>"
      ],
      "text/plain": [
       "   id      price\n",
       "0   1  56196.872\n",
       "1   2  62650.824\n",
       "2   3  23325.880\n",
       "3   4   2625.481\n",
       "4   5   5710.887"
      ]
     },
     "execution_count": 33,
     "metadata": {},
     "output_type": "execute_result"
    }
   ],
   "source": [
    "pd.read_csv(\"/kaggle/working/rf_kf10.csv\").head()"
   ]
  }
 ],
 "metadata": {
  "kernelspec": {
   "display_name": "Python 3",
   "language": "python",
   "name": "python3"
  },
  "language_info": {
   "codemirror_mode": {
    "name": "ipython",
    "version": 3
   },
   "file_extension": ".py",
   "mimetype": "text/x-python",
   "name": "python",
   "nbconvert_exporter": "python",
   "pygments_lexer": "ipython3",
   "version": "3.10.10"
  },
  "papermill": {
   "default_parameters": {},
   "duration": 126.739855,
   "end_time": "2023-07-15T14:24:18.547698",
   "environment_variables": {},
   "exception": null,
   "input_path": "__notebook__.ipynb",
   "output_path": "__notebook__.ipynb",
   "parameters": {},
   "start_time": "2023-07-15T14:22:11.807843",
   "version": "2.4.0"
  }
 },
 "nbformat": 4,
 "nbformat_minor": 5
}
