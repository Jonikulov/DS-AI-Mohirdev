{
 "cells": [
  {
   "cell_type": "markdown",
   "id": "92ab4f7b",
   "metadata": {
    "id": "92ab4f7b"
   },
   "source": [
    "---\n",
    "# Data Science and Artificial Intelliegence Practicum\n",
    "## 5-modul. Machine Learning\n",
    "---"
   ]
  },
  {
   "cell_type": "markdown",
   "id": "557f143a",
   "metadata": {
    "id": "557f143a"
   },
   "source": [
    "## 5.6 - Simple Linear Regression"
   ]
  },
  {
   "cell_type": "code",
   "execution_count": 1,
   "id": "dcc11cd2",
   "metadata": {},
   "outputs": [],
   "source": [
    "import numpy as np\n",
    "import pandas as pd\n",
    "import matplotlib.pyplot as plt\n",
    "import seaborn as sns"
   ]
  },
  {
   "cell_type": "markdown",
   "id": "b5d1a467",
   "metadata": {},
   "source": [
    "### Data Exploration"
   ]
  },
  {
   "cell_type": "code",
   "execution_count": 2,
   "id": "5bfb2de1",
   "metadata": {
    "scrolled": true
   },
   "outputs": [
    {
     "data": {
      "text/html": [
       "<div>\n",
       "<style scoped>\n",
       "    .dataframe tbody tr th:only-of-type {\n",
       "        vertical-align: middle;\n",
       "    }\n",
       "\n",
       "    .dataframe tbody tr th {\n",
       "        vertical-align: top;\n",
       "    }\n",
       "\n",
       "    .dataframe thead th {\n",
       "        text-align: right;\n",
       "    }\n",
       "</style>\n",
       "<table border=\"1\" class=\"dataframe\">\n",
       "  <thead>\n",
       "    <tr style=\"text-align: right;\">\n",
       "      <th></th>\n",
       "      <th>district</th>\n",
       "      <th>rooms</th>\n",
       "      <th>size</th>\n",
       "      <th>level</th>\n",
       "      <th>max_levels</th>\n",
       "      <th>price</th>\n",
       "    </tr>\n",
       "  </thead>\n",
       "  <tbody>\n",
       "    <tr>\n",
       "      <th>0</th>\n",
       "      <td>Юнусабадский</td>\n",
       "      <td>3</td>\n",
       "      <td>57.0</td>\n",
       "      <td>4</td>\n",
       "      <td>4</td>\n",
       "      <td>52000.0</td>\n",
       "    </tr>\n",
       "    <tr>\n",
       "      <th>1</th>\n",
       "      <td>Яккасарайский</td>\n",
       "      <td>2</td>\n",
       "      <td>52.0</td>\n",
       "      <td>4</td>\n",
       "      <td>5</td>\n",
       "      <td>56000.0</td>\n",
       "    </tr>\n",
       "    <tr>\n",
       "      <th>2</th>\n",
       "      <td>Чиланзарский</td>\n",
       "      <td>2</td>\n",
       "      <td>42.0</td>\n",
       "      <td>4</td>\n",
       "      <td>4</td>\n",
       "      <td>37000.0</td>\n",
       "    </tr>\n",
       "    <tr>\n",
       "      <th>3</th>\n",
       "      <td>Чиланзарский</td>\n",
       "      <td>3</td>\n",
       "      <td>65.0</td>\n",
       "      <td>1</td>\n",
       "      <td>4</td>\n",
       "      <td>49500.0</td>\n",
       "    </tr>\n",
       "    <tr>\n",
       "      <th>4</th>\n",
       "      <td>Чиланзарский</td>\n",
       "      <td>3</td>\n",
       "      <td>70.0</td>\n",
       "      <td>3</td>\n",
       "      <td>5</td>\n",
       "      <td>55000.0</td>\n",
       "    </tr>\n",
       "  </tbody>\n",
       "</table>\n",
       "</div>"
      ],
      "text/plain": [
       "        district  rooms  size  level  max_levels    price\n",
       "0   Юнусабадский      3  57.0      4           4  52000.0\n",
       "1  Яккасарайский      2  52.0      4           5  56000.0\n",
       "2   Чиланзарский      2  42.0      4           4  37000.0\n",
       "3   Чиланзарский      3  65.0      1           4  49500.0\n",
       "4   Чиланзарский      3  70.0      3           5  55000.0"
      ]
     },
     "execution_count": 2,
     "metadata": {},
     "output_type": "execute_result"
    }
   ],
   "source": [
    "df = pd.read_csv(\"https://github.com/anvarnarz/praktikum_datasets/blob/main/housing_LR.csv?raw=True\",\n",
    "                 index_col=0)\n",
    "df.head()"
   ]
  },
  {
   "cell_type": "markdown",
   "id": "80468ff7",
   "metadata": {},
   "source": [
    "**Definition of columns:**\n",
    "\n",
    "- `location` - address of the house for sale\n",
    "- `district` - district where the house is located\n",
    "- `rooms` - number of rooms\n",
    "- `size` - house area (sq.m)\n",
    "- `level` - level(floor) where the house located\n",
    "- `max_levels` - total number of levels\n",
    "- `price` - price of the house"
   ]
  },
  {
   "cell_type": "code",
   "execution_count": 3,
   "id": "90abe4a5",
   "metadata": {},
   "outputs": [
    {
     "name": "stdout",
     "output_type": "stream",
     "text": [
      "<class 'pandas.core.frame.DataFrame'>\n",
      "Int64Index: 7278 entries, 0 to 7464\n",
      "Data columns (total 6 columns):\n",
      " #   Column      Non-Null Count  Dtype  \n",
      "---  ------      --------------  -----  \n",
      " 0   district    7278 non-null   object \n",
      " 1   rooms       7278 non-null   int64  \n",
      " 2   size        7278 non-null   float64\n",
      " 3   level       7278 non-null   int64  \n",
      " 4   max_levels  7278 non-null   int64  \n",
      " 5   price       7278 non-null   float64\n",
      "dtypes: float64(2), int64(3), object(1)\n",
      "memory usage: 398.0+ KB\n"
     ]
    }
   ],
   "source": [
    "df.info()"
   ]
  },
  {
   "cell_type": "code",
   "execution_count": 4,
   "id": "3a8dff11",
   "metadata": {},
   "outputs": [
    {
     "data": {
      "text/html": [
       "<div>\n",
       "<style scoped>\n",
       "    .dataframe tbody tr th:only-of-type {\n",
       "        vertical-align: middle;\n",
       "    }\n",
       "\n",
       "    .dataframe tbody tr th {\n",
       "        vertical-align: top;\n",
       "    }\n",
       "\n",
       "    .dataframe thead th {\n",
       "        text-align: right;\n",
       "    }\n",
       "</style>\n",
       "<table border=\"1\" class=\"dataframe\">\n",
       "  <thead>\n",
       "    <tr style=\"text-align: right;\">\n",
       "      <th></th>\n",
       "      <th>count</th>\n",
       "      <th>mean</th>\n",
       "      <th>std</th>\n",
       "      <th>min</th>\n",
       "      <th>25%</th>\n",
       "      <th>50%</th>\n",
       "      <th>75%</th>\n",
       "      <th>max</th>\n",
       "    </tr>\n",
       "  </thead>\n",
       "  <tbody>\n",
       "    <tr>\n",
       "      <th>rooms</th>\n",
       "      <td>7278.0</td>\n",
       "      <td>2.578318</td>\n",
       "      <td>1.030179</td>\n",
       "      <td>1.0</td>\n",
       "      <td>2.0</td>\n",
       "      <td>2.0</td>\n",
       "      <td>3.0</td>\n",
       "      <td>8.0</td>\n",
       "    </tr>\n",
       "    <tr>\n",
       "      <th>size</th>\n",
       "      <td>7278.0</td>\n",
       "      <td>70.118980</td>\n",
       "      <td>29.321200</td>\n",
       "      <td>1.0</td>\n",
       "      <td>50.0</td>\n",
       "      <td>65.0</td>\n",
       "      <td>83.0</td>\n",
       "      <td>279.0</td>\n",
       "    </tr>\n",
       "    <tr>\n",
       "      <th>level</th>\n",
       "      <td>7278.0</td>\n",
       "      <td>3.689338</td>\n",
       "      <td>2.228360</td>\n",
       "      <td>1.0</td>\n",
       "      <td>2.0</td>\n",
       "      <td>3.0</td>\n",
       "      <td>5.0</td>\n",
       "      <td>18.0</td>\n",
       "    </tr>\n",
       "    <tr>\n",
       "      <th>max_levels</th>\n",
       "      <td>7278.0</td>\n",
       "      <td>5.992718</td>\n",
       "      <td>2.583194</td>\n",
       "      <td>1.0</td>\n",
       "      <td>4.0</td>\n",
       "      <td>5.0</td>\n",
       "      <td>9.0</td>\n",
       "      <td>25.0</td>\n",
       "    </tr>\n",
       "    <tr>\n",
       "      <th>price</th>\n",
       "      <td>7278.0</td>\n",
       "      <td>54092.074196</td>\n",
       "      <td>29665.210900</td>\n",
       "      <td>2.0</td>\n",
       "      <td>34800.0</td>\n",
       "      <td>45500.0</td>\n",
       "      <td>65000.0</td>\n",
       "      <td>220000.0</td>\n",
       "    </tr>\n",
       "  </tbody>\n",
       "</table>\n",
       "</div>"
      ],
      "text/plain": [
       "             count          mean           std  min      25%      50%  \\\n",
       "rooms       7278.0      2.578318      1.030179  1.0      2.0      2.0   \n",
       "size        7278.0     70.118980     29.321200  1.0     50.0     65.0   \n",
       "level       7278.0      3.689338      2.228360  1.0      2.0      3.0   \n",
       "max_levels  7278.0      5.992718      2.583194  1.0      4.0      5.0   \n",
       "price       7278.0  54092.074196  29665.210900  2.0  34800.0  45500.0   \n",
       "\n",
       "                75%       max  \n",
       "rooms           3.0       8.0  \n",
       "size           83.0     279.0  \n",
       "level           5.0      18.0  \n",
       "max_levels      9.0      25.0  \n",
       "price       65000.0  220000.0  "
      ]
     },
     "execution_count": 4,
     "metadata": {},
     "output_type": "execute_result"
    }
   ],
   "source": [
    "df.describe().T"
   ]
  },
  {
   "cell_type": "code",
   "execution_count": 5,
   "id": "fc81e29d",
   "metadata": {},
   "outputs": [
    {
     "data": {
      "text/plain": [
       "Чиланзарский         1616\n",
       "Мирзо-Улугбекский    1342\n",
       "Учтепинский           872\n",
       "Юнусабадский          847\n",
       "Мирабадский           717\n",
       "Яккасарайский         628\n",
       "Яшнободский           456\n",
       "Шайхантахурский       356\n",
       "Олмазорский           262\n",
       "Сергелийский          159\n",
       "Янгихаётский           15\n",
       "Бектемирский            8\n",
       "Name: district, dtype: int64"
      ]
     },
     "execution_count": 5,
     "metadata": {},
     "output_type": "execute_result"
    }
   ],
   "source": [
    "df['district'].value_counts()"
   ]
  },
  {
   "cell_type": "markdown",
   "id": "fdc6d82c",
   "metadata": {},
   "source": [
    "We try to predict the price of houses in *Chilonzor* district."
   ]
  },
  {
   "cell_type": "code",
   "execution_count": 6,
   "id": "8a73a4d4",
   "metadata": {},
   "outputs": [
    {
     "data": {
      "text/html": [
       "<div>\n",
       "<style scoped>\n",
       "    .dataframe tbody tr th:only-of-type {\n",
       "        vertical-align: middle;\n",
       "    }\n",
       "\n",
       "    .dataframe tbody tr th {\n",
       "        vertical-align: top;\n",
       "    }\n",
       "\n",
       "    .dataframe thead th {\n",
       "        text-align: right;\n",
       "    }\n",
       "</style>\n",
       "<table border=\"1\" class=\"dataframe\">\n",
       "  <thead>\n",
       "    <tr style=\"text-align: right;\">\n",
       "      <th></th>\n",
       "      <th>district</th>\n",
       "      <th>rooms</th>\n",
       "      <th>size</th>\n",
       "      <th>level</th>\n",
       "      <th>max_levels</th>\n",
       "      <th>price</th>\n",
       "    </tr>\n",
       "  </thead>\n",
       "  <tbody>\n",
       "    <tr>\n",
       "      <th>2</th>\n",
       "      <td>Чиланзарский</td>\n",
       "      <td>2</td>\n",
       "      <td>42.0</td>\n",
       "      <td>4</td>\n",
       "      <td>4</td>\n",
       "      <td>37000.0</td>\n",
       "    </tr>\n",
       "    <tr>\n",
       "      <th>3</th>\n",
       "      <td>Чиланзарский</td>\n",
       "      <td>3</td>\n",
       "      <td>65.0</td>\n",
       "      <td>1</td>\n",
       "      <td>4</td>\n",
       "      <td>49500.0</td>\n",
       "    </tr>\n",
       "    <tr>\n",
       "      <th>4</th>\n",
       "      <td>Чиланзарский</td>\n",
       "      <td>3</td>\n",
       "      <td>70.0</td>\n",
       "      <td>3</td>\n",
       "      <td>5</td>\n",
       "      <td>55000.0</td>\n",
       "    </tr>\n",
       "    <tr>\n",
       "      <th>5</th>\n",
       "      <td>Чиланзарский</td>\n",
       "      <td>1</td>\n",
       "      <td>28.0</td>\n",
       "      <td>1</td>\n",
       "      <td>4</td>\n",
       "      <td>25500.0</td>\n",
       "    </tr>\n",
       "    <tr>\n",
       "      <th>6</th>\n",
       "      <td>Чиланзарский</td>\n",
       "      <td>1</td>\n",
       "      <td>30.0</td>\n",
       "      <td>2</td>\n",
       "      <td>4</td>\n",
       "      <td>21200.0</td>\n",
       "    </tr>\n",
       "    <tr>\n",
       "      <th>...</th>\n",
       "      <td>...</td>\n",
       "      <td>...</td>\n",
       "      <td>...</td>\n",
       "      <td>...</td>\n",
       "      <td>...</td>\n",
       "      <td>...</td>\n",
       "    </tr>\n",
       "    <tr>\n",
       "      <th>7404</th>\n",
       "      <td>Чиланзарский</td>\n",
       "      <td>3</td>\n",
       "      <td>70.0</td>\n",
       "      <td>3</td>\n",
       "      <td>4</td>\n",
       "      <td>48000.0</td>\n",
       "    </tr>\n",
       "    <tr>\n",
       "      <th>7422</th>\n",
       "      <td>Чиланзарский</td>\n",
       "      <td>1</td>\n",
       "      <td>20.0</td>\n",
       "      <td>5</td>\n",
       "      <td>5</td>\n",
       "      <td>18500.0</td>\n",
       "    </tr>\n",
       "    <tr>\n",
       "      <th>7433</th>\n",
       "      <td>Чиланзарский</td>\n",
       "      <td>1</td>\n",
       "      <td>32.0</td>\n",
       "      <td>3</td>\n",
       "      <td>4</td>\n",
       "      <td>28000.0</td>\n",
       "    </tr>\n",
       "    <tr>\n",
       "      <th>7445</th>\n",
       "      <td>Чиланзарский</td>\n",
       "      <td>3</td>\n",
       "      <td>70.0</td>\n",
       "      <td>1</td>\n",
       "      <td>4</td>\n",
       "      <td>49800.0</td>\n",
       "    </tr>\n",
       "    <tr>\n",
       "      <th>7464</th>\n",
       "      <td>Чиланзарский</td>\n",
       "      <td>1</td>\n",
       "      <td>30.0</td>\n",
       "      <td>2</td>\n",
       "      <td>4</td>\n",
       "      <td>22914.0</td>\n",
       "    </tr>\n",
       "  </tbody>\n",
       "</table>\n",
       "<p>1616 rows × 6 columns</p>\n",
       "</div>"
      ],
      "text/plain": [
       "          district  rooms  size  level  max_levels    price\n",
       "2     Чиланзарский      2  42.0      4           4  37000.0\n",
       "3     Чиланзарский      3  65.0      1           4  49500.0\n",
       "4     Чиланзарский      3  70.0      3           5  55000.0\n",
       "5     Чиланзарский      1  28.0      1           4  25500.0\n",
       "6     Чиланзарский      1  30.0      2           4  21200.0\n",
       "...            ...    ...   ...    ...         ...      ...\n",
       "7404  Чиланзарский      3  70.0      3           4  48000.0\n",
       "7422  Чиланзарский      1  20.0      5           5  18500.0\n",
       "7433  Чиланзарский      1  32.0      3           4  28000.0\n",
       "7445  Чиланзарский      3  70.0      1           4  49800.0\n",
       "7464  Чиланзарский      1  30.0      2           4  22914.0\n",
       "\n",
       "[1616 rows x 6 columns]"
      ]
     },
     "execution_count": 6,
     "metadata": {},
     "output_type": "execute_result"
    }
   ],
   "source": [
    "housing = df[df['district']=='Чиланзарский']\n",
    "housing"
   ]
  },
  {
   "cell_type": "markdown",
   "id": "cbfa4ad6",
   "metadata": {},
   "source": [
    "Let's see if there's a linear relationship between `size` and `price`:"
   ]
  },
  {
   "cell_type": "code",
   "execution_count": 23,
   "id": "e3447adc",
   "metadata": {
    "hide_input": false,
    "scrolled": false
   },
   "outputs": [
    {
     "data": {
      "image/png": "[encoded data removed]",
      "text/plain": [
       "<Figure size 1000x600 with 1 Axes>"
      ]
     },
     "metadata": {},
     "output_type": "display_data"
    }
   ],
   "source": [
    "plt.figure(figsize=[10, 6])\n",
    "sns.regplot(data=housing, x='size', y='price', line_kws={'color':'red'});"
   ]
  },
  {
   "cell_type": "markdown",
   "id": "fdfd3486",
   "metadata": {},
   "source": [
    "We can see clearly that linear relationship."
   ]
  },
  {
   "cell_type": "code",
   "execution_count": 8,
   "id": "4ac60557",
   "metadata": {},
   "outputs": [
    {
     "data": {
      "text/plain": [
       "2       42.0\n",
       "3       65.0\n",
       "4       70.0\n",
       "5       28.0\n",
       "6       30.0\n",
       "        ... \n",
       "7404    70.0\n",
       "7422    20.0\n",
       "7433    32.0\n",
       "7445    70.0\n",
       "7464    30.0\n",
       "Name: size, Length: 1616, dtype: float64"
      ]
     },
     "execution_count": 8,
     "metadata": {},
     "output_type": "execute_result"
    }
   ],
   "source": [
    "x = housing['size']\n",
    "x"
   ]
  },
  {
   "cell_type": "code",
   "execution_count": 9,
   "id": "031b124d",
   "metadata": {},
   "outputs": [
    {
     "data": {
      "text/plain": [
       "2       37000.0\n",
       "3       49500.0\n",
       "4       55000.0\n",
       "5       25500.0\n",
       "6       21200.0\n",
       "         ...   \n",
       "7404    48000.0\n",
       "7422    18500.0\n",
       "7433    28000.0\n",
       "7445    49800.0\n",
       "7464    22914.0\n",
       "Name: price, Length: 1616, dtype: float64"
      ]
     },
     "execution_count": 9,
     "metadata": {},
     "output_type": "execute_result"
    }
   ],
   "source": [
    "y = housing['price']\n",
    "y"
   ]
  },
  {
   "cell_type": "markdown",
   "id": "22d9beee",
   "metadata": {},
   "source": [
    "### Task 1\n",
    "\n",
    "Your task is to calculate the coefficients $\\theta_0$ and $\\theta_1$ using the following formula with `x` and `y`.\n",
    "$$\n",
    "\\theta_1 = \\frac{\\sum_{i=1}^S(x_i - \\tilde{x})(y_i - \\tilde{y})}{\\sum_{i=1}^S(x_i-\\tilde{x})^2} \\\\~\\\\\n",
    "\\theta_0 = \\bar{y} - \\theta_1\\cdot \\tilde{x}\n",
    "$$\n",
    "Here $\\tilde{x}$ is the mean for `X`, $\\tilde{y}$ is the mean for `y`."
   ]
  },
  {
   "cell_type": "code",
   "execution_count": 10,
   "id": "8e44e8bc",
   "metadata": {},
   "outputs": [],
   "source": [
    "theta1 = sum((x-x.mean()) * (y-y.mean())) / sum((x-x.mean())**2)\n",
    "theta0 = y.mean() - theta1 * x.mean()"
   ]
  },
  {
   "cell_type": "code",
   "execution_count": 11,
   "id": "a66330fe",
   "metadata": {},
   "outputs": [
    {
     "name": "stdout",
     "output_type": "stream",
     "text": [
      "theta1: 740.0264822713287\n",
      "theta0: -195.94911352690542\n"
     ]
    }
   ],
   "source": [
    "print(\"theta1:\", theta1)\n",
    "print(\"theta0:\", theta0)"
   ]
  },
  {
   "cell_type": "markdown",
   "id": "25750474",
   "metadata": {},
   "source": [
    "### Task 2\n",
    "\n",
    "Extract several random values from `x` and calculate the corresponding `y` using the coefficients.\n",
    "$$\\hat{y} = \\theta_0 + \\theta_1 \\cdot x_1$$"
   ]
  },
  {
   "cell_type": "code",
   "execution_count": 12,
   "id": "36ee2e6d",
   "metadata": {
    "scrolled": false
   },
   "outputs": [
    {
     "data": {
      "text/html": [
       "<div>\n",
       "<style scoped>\n",
       "    .dataframe tbody tr th:only-of-type {\n",
       "        vertical-align: middle;\n",
       "    }\n",
       "\n",
       "    .dataframe tbody tr th {\n",
       "        vertical-align: top;\n",
       "    }\n",
       "\n",
       "    .dataframe thead th {\n",
       "        text-align: right;\n",
       "    }\n",
       "</style>\n",
       "<table border=\"1\" class=\"dataframe\">\n",
       "  <thead>\n",
       "    <tr style=\"text-align: right;\">\n",
       "      <th></th>\n",
       "      <th>Prediction</th>\n",
       "      <th>Real</th>\n",
       "    </tr>\n",
       "  </thead>\n",
       "  <tbody>\n",
       "    <tr>\n",
       "      <th>2</th>\n",
       "      <td>30885.163142</td>\n",
       "      <td>37000.0</td>\n",
       "    </tr>\n",
       "    <tr>\n",
       "      <th>3</th>\n",
       "      <td>47905.772234</td>\n",
       "      <td>49500.0</td>\n",
       "    </tr>\n",
       "    <tr>\n",
       "      <th>4</th>\n",
       "      <td>51605.904645</td>\n",
       "      <td>55000.0</td>\n",
       "    </tr>\n",
       "    <tr>\n",
       "      <th>5</th>\n",
       "      <td>20524.792390</td>\n",
       "      <td>25500.0</td>\n",
       "    </tr>\n",
       "    <tr>\n",
       "      <th>6</th>\n",
       "      <td>22004.845355</td>\n",
       "      <td>21200.0</td>\n",
       "    </tr>\n",
       "    <tr>\n",
       "      <th>...</th>\n",
       "      <td>...</td>\n",
       "      <td>...</td>\n",
       "    </tr>\n",
       "    <tr>\n",
       "      <th>7404</th>\n",
       "      <td>51605.904645</td>\n",
       "      <td>48000.0</td>\n",
       "    </tr>\n",
       "    <tr>\n",
       "      <th>7422</th>\n",
       "      <td>14604.580532</td>\n",
       "      <td>18500.0</td>\n",
       "    </tr>\n",
       "    <tr>\n",
       "      <th>7433</th>\n",
       "      <td>23484.898319</td>\n",
       "      <td>28000.0</td>\n",
       "    </tr>\n",
       "    <tr>\n",
       "      <th>7445</th>\n",
       "      <td>51605.904645</td>\n",
       "      <td>49800.0</td>\n",
       "    </tr>\n",
       "    <tr>\n",
       "      <th>7464</th>\n",
       "      <td>22004.845355</td>\n",
       "      <td>22914.0</td>\n",
       "    </tr>\n",
       "  </tbody>\n",
       "</table>\n",
       "<p>1616 rows × 2 columns</p>\n",
       "</div>"
      ],
      "text/plain": [
       "        Prediction     Real\n",
       "2     30885.163142  37000.0\n",
       "3     47905.772234  49500.0\n",
       "4     51605.904645  55000.0\n",
       "5     20524.792390  25500.0\n",
       "6     22004.845355  21200.0\n",
       "...            ...      ...\n",
       "7404  51605.904645  48000.0\n",
       "7422  14604.580532  18500.0\n",
       "7433  23484.898319  28000.0\n",
       "7445  51605.904645  49800.0\n",
       "7464  22004.845355  22914.0\n",
       "\n",
       "[1616 rows x 2 columns]"
      ]
     },
     "execution_count": 12,
     "metadata": {},
     "output_type": "execute_result"
    }
   ],
   "source": [
    "y_pred = theta0 + theta1 * x\n",
    "pd.DataFrame({'Prediction':y_pred, 'Real':y})"
   ]
  },
  {
   "cell_type": "markdown",
   "id": "d19eae5a",
   "metadata": {},
   "source": [
    "### Task 3\n",
    "\n",
    "Calculate RMSE (root mean square error), MAE (mean absolute error) between *predicted*(calculated) and real values.\n",
    "\n",
    "$$\n",
    "\\text{MAE}(\\textbf{x},h) = \\frac{1}{m} \\sum_{i=1}^m |h(\\textbf{x}^i) - y^i|  \\\\~\\\\\n",
    "\\text{RMSE}(\\textbf{x},h) = \\sqrt{\\frac{1}{m} \\sum_{i=1}^m (h(\\textbf{x}^i) - y^i)^2}\n",
    "$$"
   ]
  },
  {
   "cell_type": "code",
   "execution_count": 13,
   "id": "1d0292bf",
   "metadata": {},
   "outputs": [
    {
     "name": "stdout",
     "output_type": "stream",
     "text": [
      "MAE: 7393.754003106559\n",
      "RMSE: 12198.47778463384\n"
     ]
    }
   ],
   "source": [
    "MAE = sum(abs(y_pred - y)) / len(x)\n",
    "RMSE = np.sqrt(sum((y_pred - y)**2) / len(x))\n",
    "\n",
    "print(\"MAE:\", MAE)\n",
    "print(\"RMSE:\", RMSE)"
   ]
  },
  {
   "cell_type": "markdown",
   "id": "f1ea62e2",
   "metadata": {},
   "source": [
    "### Linear Regression with scikit-learn"
   ]
  },
  {
   "cell_type": "code",
   "execution_count": 14,
   "id": "90cb7931",
   "metadata": {
    "scrolled": true
   },
   "outputs": [
    {
     "name": "stdout",
     "output_type": "stream",
     "text": [
      "housing.shape=(1616, 6)\n"
     ]
    }
   ],
   "source": [
    "print(f'{housing.shape=}')"
   ]
  },
  {
   "cell_type": "code",
   "execution_count": 15,
   "id": "210ffb30",
   "metadata": {},
   "outputs": [],
   "source": [
    "from sklearn.model_selection import train_test_split\n",
    "\n",
    "train_set, test_set = train_test_split(housing, test_size=0.1, random_state=42)"
   ]
  },
  {
   "cell_type": "markdown",
   "id": "ae6ccbdb",
   "metadata": {},
   "source": [
    "#### Task 1 - Finding Coefficients"
   ]
  },
  {
   "cell_type": "code",
   "execution_count": 16,
   "id": "3f5b40f0",
   "metadata": {},
   "outputs": [],
   "source": [
    "x_train = np.asanyarray(train_set[['size']])\n",
    "y_train = np.asanyarray(train_set[['price']])"
   ]
  },
  {
   "cell_type": "code",
   "execution_count": 17,
   "id": "1d374745",
   "metadata": {},
   "outputs": [
    {
     "name": "stdout",
     "output_type": "stream",
     "text": [
      "theta1=732.7784051414766\n",
      "theta0=106.31843170110369\n"
     ]
    }
   ],
   "source": [
    "from sklearn import linear_model\n",
    "\n",
    "LR_model = linear_model.LinearRegression()\n",
    "# Traning the model\n",
    "LR_model.fit(x_train, y_train)\n",
    "\n",
    "# extracting coefficients\n",
    "theta1 = LR_model.coef_[0][0]\n",
    "theta0 = LR_model.intercept_[0]\n",
    "\n",
    "print(f'{theta1=}')\n",
    "print(f'{theta0=}')"
   ]
  },
  {
   "cell_type": "markdown",
   "id": "f878557a",
   "metadata": {},
   "source": [
    "#### Task 2 - Prediction"
   ]
  },
  {
   "cell_type": "code",
   "execution_count": 18,
   "id": "d794df70",
   "metadata": {
    "scrolled": false
   },
   "outputs": [
    {
     "data": {
      "image/png": "[encoded data removed]",
      "text/plain": [
       "<Figure size 1000x600 with 1 Axes>"
      ]
     },
     "metadata": {},
     "output_type": "display_data"
    }
   ],
   "source": [
    "y_pred = theta1 * x_train + theta0\n",
    "\n",
    "plt.figure(figsize=[10, 6])\n",
    "sns.scatterplot(data=housing, x='size', y='price')\n",
    "plt.plot(x_train, y_pred, '-r');"
   ]
  },
  {
   "cell_type": "markdown",
   "id": "0e621654",
   "metadata": {},
   "source": [
    "#### Task 3 - Evaluation"
   ]
  },
  {
   "cell_type": "code",
   "execution_count": 19,
   "id": "cc73dbf4",
   "metadata": {},
   "outputs": [],
   "source": [
    "x_test = np.asanyarray(test_set[['size']])\n",
    "y_test = np.asanyarray(test_set[['price']])"
   ]
  },
  {
   "cell_type": "code",
   "execution_count": 20,
   "id": "7552f4bc",
   "metadata": {},
   "outputs": [],
   "source": [
    "y_prediction = LR_model.predict(x_test)"
   ]
  },
  {
   "cell_type": "code",
   "execution_count": 21,
   "id": "e71d1318",
   "metadata": {},
   "outputs": [
    {
     "name": "stdout",
     "output_type": "stream",
     "text": [
      "MAE=7269.709648262382\n",
      "RMSE=12734.803748258666\n"
     ]
    }
   ],
   "source": [
    "from sklearn.metrics import mean_absolute_error, mean_squared_error\n",
    "\n",
    "MAE = mean_absolute_error(y_test, y_prediction)\n",
    "RMSE = np.sqrt(mean_squared_error(y_test, y_prediction))\n",
    "\n",
    "print(f'{MAE=}')\n",
    "print(f'{RMSE=}')"
   ]
  }
 ],
 "metadata": {
  "colab": {
   "provenance": []
  },
  "kernelspec": {
   "display_name": "Python [conda env:mohirdsai] *",
   "language": "python",
   "name": "conda-env-mohirdsai-py"
  },
  "language_info": {
   "codemirror_mode": {
    "name": "ipython",
    "version": 3
   },
   "file_extension": ".py",
   "mimetype": "text/x-python",
   "name": "python",
   "nbconvert_exporter": "python",
   "pygments_lexer": "ipython3",
   "version": "3.10.6"
  }
 },
 "nbformat": 4,
 "nbformat_minor": 5
}
