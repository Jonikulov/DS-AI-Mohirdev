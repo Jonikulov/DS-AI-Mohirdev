{
 "cells": [
  {
   "cell_type": "markdown",
   "id": "92ab4f7b",
   "metadata": {
    "id": "92ab4f7b",
    "tags": []
   },
   "source": [
    "---\n",
    "# Data Science and Artificial Intelliegence Practicum\n",
    "## 6-modul. Deep Learning\n",
    "---"
   ]
  },
  {
   "cell_type": "markdown",
   "id": "557f143a",
   "metadata": {
    "id": "557f143a",
    "tags": []
   },
   "source": [
    "## 6.1 -"
   ]
  },
  {
   "cell_type": "code",
   "execution_count": null,
   "id": "129647b0",
   "metadata": {},
   "outputs": [],
   "source": []
  }
 ],
 "metadata": {
  "colab": {
   "provenance": []
  },
  "kernelspec": {
   "display_name": "Python 3 (ipykernel)",
   "language": "python",
   "name": "python3"
  },
  "language_info": {
   "codemirror_mode": {
    "name": "ipython",
    "version": 3
   },
   "file_extension": ".py",
   "mimetype": "text/x-python",
   "name": "python",
   "nbconvert_exporter": "python",
   "pygments_lexer": "ipython3",
   "version": "3.11.2"
  },
  "vscode": {
   "interpreter": {
    "hash": "2c7666c1320a956fa05893d10993164efa76d3af81fc7470d6f4943526f3df36"
   }
  }
 },
 "nbformat": 4,
 "nbformat_minor": 5
}
