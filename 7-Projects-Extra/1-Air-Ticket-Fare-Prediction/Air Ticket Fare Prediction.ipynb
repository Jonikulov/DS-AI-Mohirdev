{
 "cells": [
  {
   "cell_type": "markdown",
   "id": "402400fc-bb59-4766-a3ef-f525e7f4f79b",
   "metadata": {},
   "source": [
    "# Aviachipta Narxini Bashorat Qilish\r\n",
    "\r\n",
    "### DATA SCIENCE LIFE CYCLE:\r\n",
    "1. **Business Understanding**\r\n",
    "2. **Exploratory Data Analysis**\r\n",
    "3. **Data Preprocessing**\r\n",
    "4. **Feature Engineering**\r\n",
    "5. **Modeling**\r\n",
    "6. **Evaluation**\r\n",
    "---"
   ]
  },
  {
   "cell_type": "markdown",
   "id": "34f8802d-26eb-42d7-bcb1-c09fdbd38561",
   "metadata": {},
   "source": [
    "## Business Understanding\r\n",
    "\r\n",
    "Hindiston samolyot parvozlarning ma'lumotlari berilgan. Ulardan foydalangan holda chipta narxlarini bashorat qilish."
   ]
  },
  {
   "cell_type": "markdown",
   "id": "7133fc51-6a93-4bb0-b0a0-72654b2ff87e",
   "metadata": {},
   "source": [
    "## Exploratory Data Analysis\r\n",
    "\r\n",
    "**Dataset Description**:\r\n",
    "- **`ID`** - Ketma - ketlik uchun qo'yilgan sonlar.\r\n",
    "- **`Airline`** - Parvoz qilingan aviakompaniya nomi.\r\n",
    "- **`Flight`** - Parvoz qilingan ID raqami.\r\n",
    "- **`Source_city`** - Parvoz qaysi shahardan boshlanishi.\r\n",
    "- **`Departure_time`** - Samolyotning ketish vaqti.\r\n",
    "- **`Stop`** - Parvoz davomida to'xtashlar soni.\r\n",
    "- **`Arrival_time`** - Qaytish vaqti.\r\n",
    "- **`Destination_city`** - Qaysi davlatga parvoz qilinayotgani.\r\n",
    "- **`Class`** - Foydalanuvchi samolyotning qaysi klass turidan foydalanib uchganligi.\r\n",
    "- **`Duration`** - Parvoz davomiyligi.\r\n",
    "- **`Days_left`** - Samolyotning qancha vaqtdan keyin qaytishi."
   ]
  },
  {
   "cell_type": "code",
   "execution_count": 8,
   "id": "7337c967-04c1-4571-8efa-70e8a8526d2b",
   "metadata": {},
   "outputs": [],
   "source": [
    "import numpy as np\n",
    "import pandas as pd\n",
    "import matplotlib.pyplot as plt\n",
    "import seaborn as sns\n",
    "\n",
    "sns.set()"
   ]
  },
  {
   "cell_type": "code",
   "execution_count": 7,
   "id": "1dfeee25-aed2-42cb-a279-acc21cce6dc6",
   "metadata": {},
   "outputs": [
    {
     "name": "stdout",
     "output_type": "stream",
     "text": [
      "Downloading aviachipta-narxini-bashorat-qilish.zip to D:\\GitHub\\ds-ai-mohirdev\\7-Projects-Extra\\1-Air-Ticket-Fare-Prediction\n",
      "\n"
     ]
    },
    {
     "name": "stderr",
     "output_type": "stream",
     "text": [
      "\n",
      "  0%|          | 0.00/382k [00:00<?, ?B/s]\n",
      "100%|██████████| 382k/382k [00:00<00:00, 665kB/s]\n",
      "100%|██████████| 382k/382k [00:00<00:00, 665kB/s]\n"
     ]
    },
    {
     "name": "stdout",
     "output_type": "stream",
     "text": [
      "Archive:  aviachipta-narxini-bashorat-qilish.zip\n",
      "  inflating: sample_solution.csv     \n",
      "  inflating: test_data.csv           \n",
      "  inflating: train_data.csv          \n"
     ]
    }
   ],
   "source": [
    "!kaggle competitions download -c aviachipta-narxini-bashorat-qilish\n",
    "!unzip aviachipta-narxini-bashorat-qilish.zip\n",
    "!mkdir data && mv *csv ./data\n",
    "!rm aviachipta-narxini-bashorat-qilish.zip"
   ]
  },
  {
   "cell_type": "code",
   "execution_count": 9,
   "id": "ec2c3a07-7db6-4fe7-bfe4-9b79db3271c3",
   "metadata": {},
   "outputs": [],
   "source": [
    "train = pd.read_csv(\"data/train_data.csv\", index_col=0)\n",
    "test = pd.read_csv(\"data/test_data.csv\", index_col=0)\n",
    "sample_sol = pd.read_csv(\"data/sample_solution.csv\", index_col=0)"
   ]
  },
  {
   "cell_type": "code",
   "execution_count": 10,
   "id": "4fe6a545-97ee-46ef-a7f8-e6e51e6a1dcd",
   "metadata": {},
   "outputs": [
    {
     "data": {
      "text/html": [
       "<div>\n",
       "<style scoped>\n",
       "    .dataframe tbody tr th:only-of-type {\n",
       "        vertical-align: middle;\n",
       "    }\n",
       "\n",
       "    .dataframe tbody tr th {\n",
       "        vertical-align: top;\n",
       "    }\n",
       "\n",
       "    .dataframe thead th {\n",
       "        text-align: right;\n",
       "    }\n",
       "</style>\n",
       "<table border=\"1\" class=\"dataframe\">\n",
       "  <thead>\n",
       "    <tr style=\"text-align: right;\">\n",
       "      <th></th>\n",
       "      <th>airline</th>\n",
       "      <th>flight</th>\n",
       "      <th>source_city</th>\n",
       "      <th>departure_time</th>\n",
       "      <th>stops</th>\n",
       "      <th>arrival_time</th>\n",
       "      <th>destination_city</th>\n",
       "      <th>class</th>\n",
       "      <th>duration</th>\n",
       "      <th>days_left</th>\n",
       "      <th>price</th>\n",
       "    </tr>\n",
       "    <tr>\n",
       "      <th>id</th>\n",
       "      <th></th>\n",
       "      <th></th>\n",
       "      <th></th>\n",
       "      <th></th>\n",
       "      <th></th>\n",
       "      <th></th>\n",
       "      <th></th>\n",
       "      <th></th>\n",
       "      <th></th>\n",
       "      <th></th>\n",
       "      <th></th>\n",
       "    </tr>\n",
       "  </thead>\n",
       "  <tbody>\n",
       "    <tr>\n",
       "      <th>1</th>\n",
       "      <td>Vistara</td>\n",
       "      <td>UK-810</td>\n",
       "      <td>Bangalore</td>\n",
       "      <td>Early_Morning</td>\n",
       "      <td>one</td>\n",
       "      <td>Night</td>\n",
       "      <td>Mumbai</td>\n",
       "      <td>Economy</td>\n",
       "      <td>14.25</td>\n",
       "      <td>21</td>\n",
       "      <td>7212</td>\n",
       "    </tr>\n",
       "    <tr>\n",
       "      <th>2</th>\n",
       "      <td>SpiceJet</td>\n",
       "      <td>SG-5094</td>\n",
       "      <td>Hyderabad</td>\n",
       "      <td>Evening</td>\n",
       "      <td>zero</td>\n",
       "      <td>Night</td>\n",
       "      <td>Kolkata</td>\n",
       "      <td>Economy</td>\n",
       "      <td>1.75</td>\n",
       "      <td>7</td>\n",
       "      <td>5292</td>\n",
       "    </tr>\n",
       "    <tr>\n",
       "      <th>3</th>\n",
       "      <td>Vistara</td>\n",
       "      <td>UK-846</td>\n",
       "      <td>Bangalore</td>\n",
       "      <td>Morning</td>\n",
       "      <td>one</td>\n",
       "      <td>Evening</td>\n",
       "      <td>Delhi</td>\n",
       "      <td>Business</td>\n",
       "      <td>9.58</td>\n",
       "      <td>5</td>\n",
       "      <td>60553</td>\n",
       "    </tr>\n",
       "    <tr>\n",
       "      <th>4</th>\n",
       "      <td>Vistara</td>\n",
       "      <td>UK-706</td>\n",
       "      <td>Kolkata</td>\n",
       "      <td>Morning</td>\n",
       "      <td>one</td>\n",
       "      <td>Evening</td>\n",
       "      <td>Hyderabad</td>\n",
       "      <td>Economy</td>\n",
       "      <td>6.75</td>\n",
       "      <td>28</td>\n",
       "      <td>5760</td>\n",
       "    </tr>\n",
       "    <tr>\n",
       "      <th>5</th>\n",
       "      <td>Indigo</td>\n",
       "      <td>6E-5394</td>\n",
       "      <td>Chennai</td>\n",
       "      <td>Early_Morning</td>\n",
       "      <td>zero</td>\n",
       "      <td>Morning</td>\n",
       "      <td>Mumbai</td>\n",
       "      <td>Economy</td>\n",
       "      <td>2.00</td>\n",
       "      <td>4</td>\n",
       "      <td>10712</td>\n",
       "    </tr>\n",
       "  </tbody>\n",
       "</table>\n",
       "</div>"
      ],
      "text/plain": [
       "     airline   flight source_city departure_time stops arrival_time  \\\n",
       "id                                                                    \n",
       "1    Vistara   UK-810   Bangalore  Early_Morning   one        Night   \n",
       "2   SpiceJet  SG-5094   Hyderabad        Evening  zero        Night   \n",
       "3    Vistara   UK-846   Bangalore        Morning   one      Evening   \n",
       "4    Vistara   UK-706     Kolkata        Morning   one      Evening   \n",
       "5     Indigo  6E-5394     Chennai  Early_Morning  zero      Morning   \n",
       "\n",
       "   destination_city     class  duration  days_left  price  \n",
       "id                                                         \n",
       "1            Mumbai   Economy     14.25         21   7212  \n",
       "2           Kolkata   Economy      1.75          7   5292  \n",
       "3             Delhi  Business      9.58          5  60553  \n",
       "4         Hyderabad   Economy      6.75         28   5760  \n",
       "5            Mumbai   Economy      2.00          4  10712  "
      ]
     },
     "execution_count": 10,
     "metadata": {},
     "output_type": "execute_result"
    }
   ],
   "source": [
    "train.head()"
   ]
  },
  {
   "cell_type": "code",
   "execution_count": 11,
   "id": "48e12db4-8bac-49f5-b74c-e05683fb012f",
   "metadata": {},
   "outputs": [
    {
     "data": {
      "text/html": [
       "<div>\n",
       "<style scoped>\n",
       "    .dataframe tbody tr th:only-of-type {\n",
       "        vertical-align: middle;\n",
       "    }\n",
       "\n",
       "    .dataframe tbody tr th {\n",
       "        vertical-align: top;\n",
       "    }\n",
       "\n",
       "    .dataframe thead th {\n",
       "        text-align: right;\n",
       "    }\n",
       "</style>\n",
       "<table border=\"1\" class=\"dataframe\">\n",
       "  <thead>\n",
       "    <tr style=\"text-align: right;\">\n",
       "      <th></th>\n",
       "      <th>airline</th>\n",
       "      <th>flight</th>\n",
       "      <th>source_city</th>\n",
       "      <th>departure_time</th>\n",
       "      <th>stops</th>\n",
       "      <th>arrival_time</th>\n",
       "      <th>destination_city</th>\n",
       "      <th>class</th>\n",
       "      <th>duration</th>\n",
       "      <th>days_left</th>\n",
       "    </tr>\n",
       "    <tr>\n",
       "      <th>id</th>\n",
       "      <th></th>\n",
       "      <th></th>\n",
       "      <th></th>\n",
       "      <th></th>\n",
       "      <th></th>\n",
       "      <th></th>\n",
       "      <th></th>\n",
       "      <th></th>\n",
       "      <th></th>\n",
       "      <th></th>\n",
       "    </tr>\n",
       "  </thead>\n",
       "  <tbody>\n",
       "    <tr>\n",
       "      <th>1</th>\n",
       "      <td>Air_India</td>\n",
       "      <td>AI-765</td>\n",
       "      <td>Kolkata</td>\n",
       "      <td>Evening</td>\n",
       "      <td>one</td>\n",
       "      <td>Night</td>\n",
       "      <td>Delhi</td>\n",
       "      <td>Business</td>\n",
       "      <td>28.25</td>\n",
       "      <td>2</td>\n",
       "    </tr>\n",
       "    <tr>\n",
       "      <th>2</th>\n",
       "      <td>Vistara</td>\n",
       "      <td>UK-747</td>\n",
       "      <td>Delhi</td>\n",
       "      <td>Early_Morning</td>\n",
       "      <td>one</td>\n",
       "      <td>Night</td>\n",
       "      <td>Mumbai</td>\n",
       "      <td>Business</td>\n",
       "      <td>13.83</td>\n",
       "      <td>34</td>\n",
       "    </tr>\n",
       "    <tr>\n",
       "      <th>3</th>\n",
       "      <td>Air_India</td>\n",
       "      <td>AI-570</td>\n",
       "      <td>Mumbai</td>\n",
       "      <td>Early_Morning</td>\n",
       "      <td>zero</td>\n",
       "      <td>Early_Morning</td>\n",
       "      <td>Chennai</td>\n",
       "      <td>Business</td>\n",
       "      <td>2.00</td>\n",
       "      <td>30</td>\n",
       "    </tr>\n",
       "    <tr>\n",
       "      <th>4</th>\n",
       "      <td>AirAsia</td>\n",
       "      <td>I5-974</td>\n",
       "      <td>Hyderabad</td>\n",
       "      <td>Night</td>\n",
       "      <td>one</td>\n",
       "      <td>Late_Night</td>\n",
       "      <td>Delhi</td>\n",
       "      <td>Economy</td>\n",
       "      <td>5.17</td>\n",
       "      <td>26</td>\n",
       "    </tr>\n",
       "    <tr>\n",
       "      <th>5</th>\n",
       "      <td>Air_India</td>\n",
       "      <td>AI-770</td>\n",
       "      <td>Kolkata</td>\n",
       "      <td>Night</td>\n",
       "      <td>one</td>\n",
       "      <td>Afternoon</td>\n",
       "      <td>Mumbai</td>\n",
       "      <td>Economy</td>\n",
       "      <td>16.33</td>\n",
       "      <td>35</td>\n",
       "    </tr>\n",
       "  </tbody>\n",
       "</table>\n",
       "</div>"
      ],
      "text/plain": [
       "      airline  flight source_city departure_time stops   arrival_time  \\\n",
       "id                                                                      \n",
       "1   Air_India  AI-765     Kolkata        Evening   one          Night   \n",
       "2     Vistara  UK-747       Delhi  Early_Morning   one          Night   \n",
       "3   Air_India  AI-570      Mumbai  Early_Morning  zero  Early_Morning   \n",
       "4     AirAsia  I5-974   Hyderabad          Night   one     Late_Night   \n",
       "5   Air_India  AI-770     Kolkata          Night   one      Afternoon   \n",
       "\n",
       "   destination_city     class  duration  days_left  \n",
       "id                                                  \n",
       "1             Delhi  Business     28.25          2  \n",
       "2            Mumbai  Business     13.83         34  \n",
       "3           Chennai  Business      2.00         30  \n",
       "4             Delhi   Economy      5.17         26  \n",
       "5            Mumbai   Economy     16.33         35  "
      ]
     },
     "execution_count": 11,
     "metadata": {},
     "output_type": "execute_result"
    }
   ],
   "source": [
    "test.head()"
   ]
  },
  {
   "cell_type": "code",
   "execution_count": 12,
   "id": "a0e4061a-66ad-4203-a79a-678b41f34ba6",
   "metadata": {},
   "outputs": [
    {
     "data": {
      "text/html": [
       "<div>\n",
       "<style scoped>\n",
       "    .dataframe tbody tr th:only-of-type {\n",
       "        vertical-align: middle;\n",
       "    }\n",
       "\n",
       "    .dataframe tbody tr th {\n",
       "        vertical-align: top;\n",
       "    }\n",
       "\n",
       "    .dataframe thead th {\n",
       "        text-align: right;\n",
       "    }\n",
       "</style>\n",
       "<table border=\"1\" class=\"dataframe\">\n",
       "  <thead>\n",
       "    <tr style=\"text-align: right;\">\n",
       "      <th></th>\n",
       "      <th>price</th>\n",
       "    </tr>\n",
       "    <tr>\n",
       "      <th>id</th>\n",
       "      <th></th>\n",
       "    </tr>\n",
       "  </thead>\n",
       "  <tbody>\n",
       "    <tr>\n",
       "      <th>1</th>\n",
       "      <td>0</td>\n",
       "    </tr>\n",
       "    <tr>\n",
       "      <th>2</th>\n",
       "      <td>0</td>\n",
       "    </tr>\n",
       "    <tr>\n",
       "      <th>3</th>\n",
       "      <td>0</td>\n",
       "    </tr>\n",
       "    <tr>\n",
       "      <th>4</th>\n",
       "      <td>0</td>\n",
       "    </tr>\n",
       "    <tr>\n",
       "      <th>5</th>\n",
       "      <td>0</td>\n",
       "    </tr>\n",
       "  </tbody>\n",
       "</table>\n",
       "</div>"
      ],
      "text/plain": [
       "    price\n",
       "id       \n",
       "1       0\n",
       "2       0\n",
       "3       0\n",
       "4       0\n",
       "5       0"
      ]
     },
     "execution_count": 12,
     "metadata": {},
     "output_type": "execute_result"
    }
   ],
   "source": [
    "sample_sol.head()"
   ]
  },
  {
   "cell_type": "code",
   "execution_count": 13,
   "id": "93f91e43-0cfc-421a-bbfe-f7a9f12ed3c7",
   "metadata": {},
   "outputs": [
    {
     "name": "stdout",
     "output_type": "stream",
     "text": [
      "<class 'pandas.core.frame.DataFrame'>\n",
      "Index: 20000 entries, 1 to 20000\n",
      "Data columns (total 11 columns):\n",
      " #   Column            Non-Null Count  Dtype  \n",
      "---  ------            --------------  -----  \n",
      " 0   airline           20000 non-null  object \n",
      " 1   flight            20000 non-null  object \n",
      " 2   source_city       20000 non-null  object \n",
      " 3   departure_time    20000 non-null  object \n",
      " 4   stops             20000 non-null  object \n",
      " 5   arrival_time      20000 non-null  object \n",
      " 6   destination_city  20000 non-null  object \n",
      " 7   class             20000 non-null  object \n",
      " 8   duration          20000 non-null  float64\n",
      " 9   days_left         20000 non-null  int64  \n",
      " 10  price             20000 non-null  int64  \n",
      "dtypes: float64(1), int64(2), object(8)\n",
      "memory usage: 1.8+ MB\n"
     ]
    }
   ],
   "source": [
    "train.info()"
   ]
  },
  {
   "cell_type": "code",
   "execution_count": 14,
   "id": "77d4ec81-a0cc-4bca-a3ad-e55cf90b532f",
   "metadata": {},
   "outputs": [
    {
     "data": {
      "text/html": [
       "<div>\n",
       "<style scoped>\n",
       "    .dataframe tbody tr th:only-of-type {\n",
       "        vertical-align: middle;\n",
       "    }\n",
       "\n",
       "    .dataframe tbody tr th {\n",
       "        vertical-align: top;\n",
       "    }\n",
       "\n",
       "    .dataframe thead th {\n",
       "        text-align: right;\n",
       "    }\n",
       "</style>\n",
       "<table border=\"1\" class=\"dataframe\">\n",
       "  <thead>\n",
       "    <tr style=\"text-align: right;\">\n",
       "      <th></th>\n",
       "      <th>duration</th>\n",
       "      <th>days_left</th>\n",
       "      <th>price</th>\n",
       "    </tr>\n",
       "  </thead>\n",
       "  <tbody>\n",
       "    <tr>\n",
       "      <th>count</th>\n",
       "      <td>20000.000000</td>\n",
       "      <td>20000.000000</td>\n",
       "      <td>20000.000000</td>\n",
       "    </tr>\n",
       "    <tr>\n",
       "      <th>mean</th>\n",
       "      <td>12.177627</td>\n",
       "      <td>25.924150</td>\n",
       "      <td>20960.281700</td>\n",
       "    </tr>\n",
       "    <tr>\n",
       "      <th>std</th>\n",
       "      <td>7.157944</td>\n",
       "      <td>13.624874</td>\n",
       "      <td>22775.459535</td>\n",
       "    </tr>\n",
       "    <tr>\n",
       "      <th>min</th>\n",
       "      <td>0.830000</td>\n",
       "      <td>1.000000</td>\n",
       "      <td>1105.000000</td>\n",
       "    </tr>\n",
       "    <tr>\n",
       "      <th>25%</th>\n",
       "      <td>6.830000</td>\n",
       "      <td>14.000000</td>\n",
       "      <td>4783.000000</td>\n",
       "    </tr>\n",
       "    <tr>\n",
       "      <th>50%</th>\n",
       "      <td>11.250000</td>\n",
       "      <td>26.000000</td>\n",
       "      <td>7425.000000</td>\n",
       "    </tr>\n",
       "    <tr>\n",
       "      <th>75%</th>\n",
       "      <td>16.080000</td>\n",
       "      <td>38.000000</td>\n",
       "      <td>42521.000000</td>\n",
       "    </tr>\n",
       "    <tr>\n",
       "      <th>max</th>\n",
       "      <td>38.580000</td>\n",
       "      <td>49.000000</td>\n",
       "      <td>114523.000000</td>\n",
       "    </tr>\n",
       "  </tbody>\n",
       "</table>\n",
       "</div>"
      ],
      "text/plain": [
       "           duration     days_left          price\n",
       "count  20000.000000  20000.000000   20000.000000\n",
       "mean      12.177627     25.924150   20960.281700\n",
       "std        7.157944     13.624874   22775.459535\n",
       "min        0.830000      1.000000    1105.000000\n",
       "25%        6.830000     14.000000    4783.000000\n",
       "50%       11.250000     26.000000    7425.000000\n",
       "75%       16.080000     38.000000   42521.000000\n",
       "max       38.580000     49.000000  114523.000000"
      ]
     },
     "execution_count": 14,
     "metadata": {},
     "output_type": "execute_result"
    }
   ],
   "source": [
    "train.describe()"
   ]
  },
  {
   "cell_type": "code",
   "execution_count": 111,
   "id": "b41b1e47-f865-45ef-84f4-910b9fdb3e9b",
   "metadata": {},
   "outputs": [
    {
     "data": {
      "text/plain": [
       "days_left    0.102545\n",
       "duration     0.213158\n",
       "price        1.000000\n",
       "dtype: float64"
      ]
     },
     "execution_count": 111,
     "metadata": {},
     "output_type": "execute_result"
    }
   ],
   "source": [
    "train.corrwith(train['price'], numeric_only=True).abs().sort_values(ascending=True)"
   ]
  },
  {
   "cell_type": "code",
   "execution_count": 26,
   "id": "d9b06004-f2cf-45d5-82e2-76b5378ec4bf",
   "metadata": {},
   "outputs": [
    {
     "data": {
      "image/png": "[encoded data removed]",
      "text/plain": [
       "<Figure size 640x480 with 4 Axes>"
      ]
     },
     "metadata": {},
     "output_type": "display_data"
    }
   ],
   "source": [
    "train.hist();"
   ]
  },
  {
   "cell_type": "code",
   "execution_count": 81,
   "id": "8dfe9c91-711b-4a7c-9b2b-52f568b8e564",
   "metadata": {},
   "outputs": [
    {
     "data": {
      "image/png": "[encoded data removed]",
      "text/plain": [
       "<Figure size 1400x800 with 1 Axes>"
      ]
     },
     "metadata": {},
     "output_type": "display_data"
    }
   ],
   "source": [
    "plt.figure(figsize=(14, 8))\n",
    "# data = train[train['price'] < 80_000]['price']\n",
    "data = train[train['price'] < 81_000]['price']\n",
    "sns.histplot(x=data, kde=True, binwidth=1000)  # bins=\"auto\", binwidth=None, binrange=None\n",
    "plt.xlim(data.min()-100, data.max())\n",
    "plt.xticks(range(data.min()-105, data.max(), 5500))\n",
    "plt.show()"
   ]
  },
  {
   "cell_type": "code",
   "execution_count": null,
   "id": "21492d2e-a41d-4392-9dc3-766c12c79737",
   "metadata": {},
   "outputs": [],
   "source": []
  },
  {
   "cell_type": "code",
   "execution_count": null,
   "id": "f64792ac-33d1-4a33-a360-2fe90c6cbef5",
   "metadata": {},
   "outputs": [],
   "source": []
  },
  {
   "cell_type": "markdown",
   "id": "4d25db0f-8bf5-4433-a6c9-50971096489e",
   "metadata": {},
   "source": [
    "**Summary**:\r\n",
    "- **Model Type:** Machine Learning (prediction)"
   ]
  },
  {
   "cell_type": "markdown",
   "id": "bb49b043-f253-45a9-a7f9-683a7deded8e",
   "metadata": {},
   "source": [
    "## Data Preprocessing"
   ]
  },
  {
   "cell_type": "code",
   "execution_count": 28,
   "id": "01f28300-782c-4d86-ab42-699f71bfc581",
   "metadata": {},
   "outputs": [
    {
     "data": {
      "text/plain": [
       "airline             0\n",
       "flight              0\n",
       "source_city         0\n",
       "departure_time      0\n",
       "stops               0\n",
       "arrival_time        0\n",
       "destination_city    0\n",
       "class               0\n",
       "duration            0\n",
       "days_left           0\n",
       "price               0\n",
       "dtype: int64"
      ]
     },
     "execution_count": 28,
     "metadata": {},
     "output_type": "execute_result"
    }
   ],
   "source": [
    "train.isnull().sum()"
   ]
  },
  {
   "cell_type": "code",
   "execution_count": null,
   "id": "5a3ec224-76ab-4a0c-ad29-9e87bdc1d210",
   "metadata": {},
   "outputs": [],
   "source": []
  }
 ],
 "metadata": {
  "kernelspec": {
   "display_name": "Python 3 (ipykernel)",
   "language": "python",
   "name": "python3"
  },
  "language_info": {
   "codemirror_mode": {
    "name": "ipython",
    "version": 3
   },
   "file_extension": ".py",
   "mimetype": "text/x-python",
   "name": "python",
   "nbconvert_exporter": "python",
   "pygments_lexer": "ipython3",
   "version": "3.9.16"
  }
 },
 "nbformat": 4,
 "nbformat_minor": 5
}
